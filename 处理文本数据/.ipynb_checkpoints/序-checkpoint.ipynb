{
 "cells": [
  {
   "cell_type": "markdown",
   "id": "e5ad49fa-d500-4850-b43f-98024630cfed",
   "metadata": {},
   "source": [
    "# 序"
   ]
  },
  {
   "cell_type": "markdown",
   "id": "58b9d580-51d4-4aa4-bab0-d0bd1aa8d30e",
   "metadata": {},
   "source": [
    "表示数据属性的两种类型的特征：连续特征与分类特征，前者用于描述数量，后者是固定列表中的元素。在许多应用中还可以见到第三种类型的特征：文本。举个例子，如果我们想要判断一封电子邮件是合法邮件还是垃圾邮件，那么邮件内容一定会包含对这个分类任务非常重要的信息。或者，我们可能想要了解一位政治家对移民问题的看法。这个人的演讲或推文叫能会提供有用的信息。在客户服务中，我们通常想知道一条消息是投诉还是咨询， 我们可以利用消息的主题和内容来自动判断客户的目的，从而将消息发送给相关部门，甚至可以发送一封全自动回复。"
   ]
  },
  {
   "cell_type": "markdown",
   "id": "2f621a96-44f6-474e-b0c8-86751ef23565",
   "metadata": {},
   "source": [
    "文本数据通常被表示为由字符组成的字符串。在上面给出的所有例子中，文本数据的长度都不相同。这个特征显然与前面讨论过的数值特征行很大不同，我们需要先处理数据，然后才能对其应用机器学习算法。"
   ]
  }
 ],
 "metadata": {
  "kernelspec": {
   "display_name": "Python 3 (ipykernel)",
   "language": "python",
   "name": "python3"
  },
  "language_info": {
   "codemirror_mode": {
    "name": "ipython",
    "version": 3
   },
   "file_extension": ".py",
   "mimetype": "text/x-python",
   "name": "python",
   "nbconvert_exporter": "python",
   "pygments_lexer": "ipython3",
   "version": "3.9.13"
  }
 },
 "nbformat": 4,
 "nbformat_minor": 5
}
