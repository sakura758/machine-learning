{
 "cells": [
  {
   "cell_type": "markdown",
   "id": "7ce9bc85-3179-4ab3-b316-d61ddb2d0057",
   "metadata": {},
   "source": [
    "# 用字符串表示的数据类型"
   ]
  },
  {
   "cell_type": "markdown",
   "id": "984623c7-5c92-4d58-95e3-e18408503d95",
   "metadata": {},
   "source": [
    "在深入联究表示机器学习文本数据的处理步骤之前，我们希望简要讨论你可能会遇到的不同类型的文本数据。文本通常只是数据集中的字符串，但并非所有的字符串特征都应该被当作文本来处理。字符串特征有时可以表示分类变量。在查看数据之前，我们无法知道如何处理一个字符串特征。"
   ]
  },
  {
   "cell_type": "markdown",
   "id": "91b42f56-53b0-484a-8fe9-329dbf711168",
   "metadata": {},
   "source": [
    "你可能会遇到四种类型的字符串数据：      \n",
    "• 分类数据    \n",
    "• 可以在语义上映射为类别的自由字符串       \n",
    "• 结构化字符串数据    \n",
    "• 文本数据   "
   ]
  },
  {
   "cell_type": "markdown",
   "id": "656f7b43-793e-4437-b468-6fca3ee1e549",
   "metadata": {},
   "source": [
    "**分类数据**(categorical data)是来自据定列表的数据。比如你通过调查人们最喜欢的颜色来收集数据，你向他们提供了一个下拉菜单，可以从\"红色\"\"绿色”“蓝色” ,黄色”“黑色” “白色\"“紫色”和 “粉色\"中选择。这样会得到一个包含8 个不同取值的数据集，这8个不同取值表示的显然是分类变量。"
   ]
  },
  {
   "cell_type": "markdown",
   "id": "12d9563d-4141-42e1-a596-6062119b6028",
   "metadata": {},
   "source": [
    "从文本框中得到的回答属于上述列表中的第二类，**可以在语义上映射为类别的自由字符串**(free strings that can be semantically mapped to categories)。 可能最好将这种数据编码为分类变量.你可以利用最常见的条目来选择类别，也打以自定义类别，使用户回答对应用有意义。这样你可能会有一些标准颜色的类别，可能还有一个\"多色\"类别(对于像\"绿色与红色条纹”之类的回答)和\"其他\"类别(对于无法归类的回答)。这种字符串预处理过程:可能需要大量的力。并且不容易自动化。如果你能够改变数据的收集方式，那么我们强烈建议，对于分类变量能够更好表示的概念，不要使用手动输入值。"
   ]
  },
  {
   "cell_type": "markdown",
   "id": "ec3d4348-4577-4b5c-8eee-985b164676c1",
   "metadata": {},
   "source": [
    "通常来说，手动输入值不与固定的类别对应，但仍有一些内在的**结构**(structure),比如地址、人名或地名、日期、电话号码或其他标识符。这种类型的字符串通常难以解析，其处理方法也强烈依赖上下文和具体领域。"
   ]
  },
  {
   "cell_type": "markdown",
   "id": "39c45db8-08e4-4e3a-b65d-32a11b82becf",
   "metadata": {},
   "source": [
    "最后一类字符串数据是自由格式的**文本数据**(lexldata),由短语或句子组成。例子包括推文、聊天记录和酒店评论，还包括莎士比亚文集、维基百科的内容或古腾堡计划收集的50000本电子书。"
   ]
  },
  {
   "cell_type": "markdown",
   "id": "32c9b816-db26-48a6-9007-452510183b9b",
   "metadata": {},
   "source": [
    "在文本分析的语境中，数据集通常被称为**语料库**(corpus), 每个由单个文本表示的数据点被称为**文档**(document)。这些术语来自于**信息检索**(information retrieval, IR) 和自然语言处理(natural language processing, NLP)的社区，它们主要针对文本数据。"
   ]
  }
 ],
 "metadata": {
  "kernelspec": {
   "display_name": "Python 3 (ipykernel)",
   "language": "python",
   "name": "python3"
  },
  "language_info": {
   "codemirror_mode": {
    "name": "ipython",
    "version": 3
   },
   "file_extension": ".py",
   "mimetype": "text/x-python",
   "name": "python",
   "nbconvert_exporter": "python",
   "pygments_lexer": "ipython3",
   "version": "3.9.13"
  }
 },
 "nbformat": 4,
 "nbformat_minor": 5
}
