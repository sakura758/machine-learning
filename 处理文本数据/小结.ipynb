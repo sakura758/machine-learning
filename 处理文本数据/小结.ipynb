{
 "cells": [
  {
   "cell_type": "markdown",
   "id": "cfda93d9",
   "metadata": {},
   "source": [
    "# 小结"
   ]
  },
  {
   "cell_type": "markdown",
   "id": "b877bfe6",
   "metadata": {},
   "source": [
    "本章讨论了处理文本[也叫**自然语言处理** (NLP)]的基础知识，还给出了一个对电影评论进行分类的示例应用。如果你想要尝试处理文本数据，那么这里讨论的工具应该是很好的出发点。特别是对于文本分类任务，比如检测垃圾邮件和欺诈或者情感分析，词袋模型提供了一种简单而又强大的解决方案。正如机器学习中常见的情况，数据表示是 NLP 应用的关键，检查所提取的词例和n元分词有助于深人理解建模过程。在文本处理应用中，对干监督任务与无监督任务而言，通常都可以用有意义的方式对模型进行内省，正如我们在本章所见。在实践中使用基于NLP的方法时，你应该充分利用这一能力。"
   ]
  },
  {
   "cell_type": "markdown",
   "id": "b4e88906",
   "metadata": {},
   "source": [
    "如前所述，CountVectorizer 类和TfidfVectorizer 类仅实现了相对简单的文本处理方法。对于更高级的文本处理方法，我们推荐使用 Python包spacy(一个相对较新的包，但非常高效，且设计良好)、nltk (一个非常完善且完整的库但有些过时)和gensim(着重于主题建模的NLP包)。"
   ]
  },
  {
   "cell_type": "markdown",
   "id": "5228f03d",
   "metadata": {},
   "source": [
    "近年来，NLP还有另一个研究方向不断升温，就是使用**递归神经网络**(recurrent neuralnetwork，RNN)进行文本处理。与只能分配类别标签的分类模型相比，RNN是一种特别强大的神经网络，可以生成同样是文本的输出。能够生成文本作为输出，使得RNN非常适合自动翻译和摘要。"
   ]
  }
 ],
 "metadata": {
  "kernelspec": {
   "display_name": "Python 3 (ipykernel)",
   "language": "python",
   "name": "python3"
  },
  "language_info": {
   "codemirror_mode": {
    "name": "ipython",
    "version": 3
   },
   "file_extension": ".py",
   "mimetype": "text/x-python",
   "name": "python",
   "nbconvert_exporter": "python",
   "pygments_lexer": "ipython3",
   "version": "3.9.13"
  }
 },
 "nbformat": 4,
 "nbformat_minor": 5
}
