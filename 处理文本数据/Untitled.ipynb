{
 "cells": [
  {
   "cell_type": "markdown",
   "id": "b681ebbe",
   "metadata": {},
   "source": [
    "# 研究模型系数"
   ]
  },
  {
   "cell_type": "markdown",
   "id": "7af2cc87",
   "metadata": {},
   "source": [
    "最后，我们详细看一下Logistic 回归模型从数据中实际学到的内容。由于特征数量非常多(删除出现次数不多的特征之后还有 27271个)，所以显然我们不能同时查看所有系数。但是，我们可以查看最大的系数，并查看这些系数对应的单词。我们将使用基于 tf-idf特征训练的最后一个模型。"
   ]
  },
  {
   "cell_type": "markdown",
   "id": "9cd84ed8",
   "metadata": {},
   "source": [
    "下面这张条形图给出了 Logistic 回归模型中最大的25 个系数与最小的25个系数，其高度表示每个系数的大小:"
   ]
  },
  {
   "cell_type": "code",
   "execution_count": null,
   "id": "b91c2a89",
   "metadata": {},
   "outputs": [],
   "source": [
    "import mglearn\n",
    "mglearn.tools.visualize_coefficients(\n",
    ")"
   ]
  }
 ],
 "metadata": {
  "kernelspec": {
   "display_name": "Python 3 (ipykernel)",
   "language": "python",
   "name": "python3"
  },
  "language_info": {
   "codemirror_mode": {
    "name": "ipython",
    "version": 3
   },
   "file_extension": ".py",
   "mimetype": "text/x-python",
   "name": "python",
   "nbconvert_exporter": "python",
   "pygments_lexer": "ipython3",
   "version": "3.9.13"
  }
 },
 "nbformat": 4,
 "nbformat_minor": 5
}
