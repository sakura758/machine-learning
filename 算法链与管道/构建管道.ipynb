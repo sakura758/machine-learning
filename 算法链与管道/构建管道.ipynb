{
 "cells": [
  {
   "cell_type": "markdown",
   "id": "31267d6d-f9ec-42e4-becc-a5c6acc35b1b",
   "metadata": {},
   "source": [
    "# 构建管道"
   ]
  },
  {
   "cell_type": "markdown",
   "id": "97ce501d-2449-4a76-abca-10509aea48f3",
   "metadata": {},
   "source": [
    "我们来看一下如何使用Pipeline类来表示在使用MinMaxScaler缩放数据之后再训练一个 SVM的工作流程（暂时不用网格搜索）。首先，我们构建一个由步骤列表组成的管道对象。每个步骤都是一个元组，其中包含一个名称（你选定的任意字符串）和一个估计器的实例："
   ]
  },
  {
   "cell_type": "code",
   "execution_count": 3,
   "id": "d9a9200b-bd2e-4871-a2df-58476aa797cc",
   "metadata": {},
   "outputs": [
    {
     "name": "stdout",
     "output_type": "stream",
     "text": [
      "Test score: 0.972\n"
     ]
    }
   ],
   "source": [
    "from sklearn.pipeline import Pipeline\n",
    "from sklearn.preprocessing import MinMaxScaler\n",
    "from sklearn.svm import SVC\n",
    "from sklearn.datasets import load_breast_cancer\n",
    "from sklearn.model_selection import train_test_split\n",
    "\n",
    "cancer = load_breast_cancer()\n",
    "X_train, X_test, y_train, y_test = train_test_split(cancer.data, cancer.target, random_state=0)\n",
    "# 这里我们创建了两个步骤:第一个叫作\"scaler\" , 是MSMaxScaler的实例\n",
    "# 第二个叫作 \"svm\",是SVC的实例。现在我们可以像任何其他scikit-learn 估计器一样来拟合这个管道：\n",
    "pipe = Pipeline([(\"scaler\", MinMaxScaler()), (\"svm\", SVC())])\n",
    "pipe.fit(X_train, y_train)\n",
    "# pipe.fit首先对第一个步骤(缩放器)调用fit , 然后使用该缩放器对训练数据进行变换.最后用缩放后的数据来拟合SVM。\n",
    "# 要想在测试数据上进行评估，我们只需调用 pipe.score：\n",
    "print(\"Test score: {:.3f}\".format(pipe.score(X_test, y_test)))"
   ]
  },
  {
   "cell_type": "markdown",
   "id": "9a735de4-7b50-4c21-87af-6e10ec33f971",
   "metadata": {},
   "source": [
    "如果对管道调用score方法，则首先使用缩放器对测试数据进行变换，然后利用缩放后的测试数据对SVM调用score方法。如你所见,这个结果与我们从本章开头的代码得到的结果(手动进行数据变换)是相同的。利用管道，我们减少\"预处理+分类\"过程所需要的代码量。但是，使用管道的主要优点在于，现在我们可以在cross_val_score或 GridSearchCV中使用这个估计器。"
   ]
  },
  {
   "cell_type": "code",
   "execution_count": null,
   "id": "43694372-6a76-469e-91ce-27b38a3788d9",
   "metadata": {},
   "outputs": [],
   "source": []
  }
 ],
 "metadata": {
  "kernelspec": {
   "display_name": "Python 3 (ipykernel)",
   "language": "python",
   "name": "python3"
  },
  "language_info": {
   "codemirror_mode": {
    "name": "ipython",
    "version": 3
   },
   "file_extension": ".py",
   "mimetype": "text/x-python",
   "name": "python",
   "nbconvert_exporter": "python",
   "pygments_lexer": "ipython3",
   "version": "3.9.13"
  }
 },
 "nbformat": 4,
 "nbformat_minor": 5
}
