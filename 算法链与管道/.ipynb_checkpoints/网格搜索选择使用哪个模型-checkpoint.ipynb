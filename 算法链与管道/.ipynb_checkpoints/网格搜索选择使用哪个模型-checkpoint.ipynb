{
 "cells": [
  {
   "cell_type": "markdown",
   "id": "b1921eb0-17b6-4577-a97b-c9cdd193e812",
   "metadata": {},
   "source": [
    "# 网格搜索选择使用哪个模型"
   ]
  },
  {
   "cell_type": "markdown",
   "id": "809170b2-3899-4f46-9e27-aba030c46c3c",
   "metadata": {},
   "source": [
    "你甚至可以进一步将GridSearchCV和Pipeline结合起来：还可以搜索管道中正住执行的实际步骤(比如用StandardScaler还是用MinMaxScaler)。这样会导致更大的搜索空间，应该予以仔细考虑。尝试所有可能的解决方案，通常并不是一种可行的机器学习策略。但下面是一个例子：再iris数据集上比较 RandomForestClassifier和SVC。SVC可能需要对数据进行缩放，所以我们还需要搜索是使用StandardScaler还是不使用预处理。我们知道,RandomFoestClassifter不需要预处理。我们先定义管道。这里我们显式地对步骤命名。我们需要两个步骤，一个用于预处理，然后是一个分类器。我们可以用 \n",
    "SVC和 StandardScaler来将其实例化:"
   ]
  },
  {
   "cell_type": "code",
   "execution_count": 1,
   "id": "247261c7-140c-4065-9e02-dfb92e0d1ded",
   "metadata": {},
   "outputs": [],
   "source": [
    "from sklearn.pipeline import Pipeline\n",
    "from sklearn.preprocessing import StandardScaler\n",
    "from sklearn.svm import SVC\n",
    "pipe = Pipeline([('preprocessing', StandardScaler() ) , ('classifier', SVC())]) "
   ]
  },
  {
   "cell_type": "markdown",
   "id": "6bd623b0-1ddf-4195-9bd2-73404b2452f5",
   "metadata": {},
   "source": [
    "现住我们可以定义需要搜索的parameter_grid。我们希望classifier是 RandomForestClassifier或SVC。由于这两种分类器需要调节不同的参数，并且需要不同的预处理，所以我们可以使用\"在非网格的空间中搜索\"中所讲的搜索网格列表。为了将一个估计器分配给一个步骤，我们使用步骤名称作为参数名称。如果我们想跳过管道中的某个步骤(例如，RandonForest不需要预处理)，则可以将该步骤设置为None："
   ]
  },
  {
   "cell_type": "code",
   "execution_count": 2,
   "id": "321a1411-80d7-4b71-9673-c78bac17a4c0",
   "metadata": {},
   "outputs": [],
   "source": [
    "from sklearn.ensemble import RandomForestClassifier\n",
    "from sklearn.svm import SVC\n",
    "\n",
    "param_grid = [\n",
    "    {'classifier': [SVC()], 'preprocessing': [StandardScaler(), None],\n",
    "     'classifier__gamma': [0.001, 0.01, 0.1, 1, 10, 100],\n",
    "     'classifier__C': [0.001, 0.01, 0.1, 1, 10, 100]},\n",
    "    {'classifier': [RandomForestClassifier(n_estimators=100)],\n",
    "     'preprocessing': [None], 'classifier__max_features': [1, 2, 3]}]"
   ]
  },
  {
   "cell_type": "markdown",
   "id": "d10a4109-6aca-44d0-bff8-b09a6e6d2b20",
   "metadata": {},
   "source": [
    "现在，我们可以像前面一样将网格搜索实例化并在cancer数据集上运行："
   ]
  },
  {
   "cell_type": "code",
   "execution_count": 3,
   "id": "8ad97165-be21-446f-8472-1407be586c55",
   "metadata": {},
   "outputs": [
    {
     "name": "stdout",
     "output_type": "stream",
     "text": [
      "Best params:\n",
      "{'classifier': SVC(C=10, gamma=0.01), 'classifier__C': 10, 'classifier__gamma': 0.01, 'preprocessing': StandardScaler()}\n",
      "\n",
      "Best cross-validation score: 0.986\n",
      "Test set score: 0.979\n"
     ]
    }
   ],
   "source": [
    "from sklearn.datasets import load_breast_cancer\n",
    "from sklearn.model_selection import train_test_split, GridSearchCV\n",
    "\n",
    "cancer = load_breast_cancer()\n",
    "X_train, X_test, y_train, y_test = train_test_split(cancer.data, cancer.target, random_state=0)\n",
    "grid = GridSearchCV(pipe, param_grid, cv=5)\n",
    "grid.fit(X_train, y_train)\n",
    "\n",
    "print(\"Best params:\\n{}\\n\".format(grid.best_params_))\n",
    "print(\"Best cross-validation score: {:.3f}\".format(grid.best_score_)) \n",
    "print(\"Test set score: {:.3f}\".format(grid.score(X_test, y_test)))"
   ]
  },
  {
   "cell_type": "markdown",
   "id": "e93307fe-e297-4ce9-afe1-89ede8ba7642",
   "metadata": {},
   "source": [
    "网格搜索的结果是SVC与 StandardScaler预处理，在 C=10和gama=0.01时给出最佳结果。"
   ]
  }
 ],
 "metadata": {
  "kernelspec": {
   "display_name": "Python 3 (ipykernel)",
   "language": "python",
   "name": "python3"
  },
  "language_info": {
   "codemirror_mode": {
    "name": "ipython",
    "version": 3
   },
   "file_extension": ".py",
   "mimetype": "text/x-python",
   "name": "python",
   "nbconvert_exporter": "python",
   "pygments_lexer": "ipython3",
   "version": "3.9.13"
  }
 },
 "nbformat": 4,
 "nbformat_minor": 5
}
