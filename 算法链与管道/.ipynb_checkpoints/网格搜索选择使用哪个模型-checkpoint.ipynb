{
 "cells": [
  {
   "cell_type": "markdown",
   "id": "b1921eb0-17b6-4577-a97b-c9cdd193e812",
   "metadata": {},
   "source": [
    "# 网格搜索选择使用哪个模型"
   ]
  },
  {
   "cell_type": "markdown",
   "id": "809170b2-3899-4f46-9e27-aba030c46c3c",
   "metadata": {},
   "source": [
    "你甚至可以进一步将GridSearchCV和Pipeline结合起来：还可以搜索管道中正住执行的实际步骤(比如用StandardScaler还是用MinMaxScaler)。这样会导致更大的搜索空间，应该予以仔细考虑。尝试所有可能的解决方案，通常并不是一种可行的机器学习策略。但下面是一个例子：再iris数据集上比较 RandomForestClassifier和SVC。SVC可能需要对数据进行缩放，所以我们还需要搜索是使用StandardScaler还是不使用预处理。我们知道,RandomFoestClassifter不需要预处理。我们先定义管道。这里我们显式地对步骤命名。我们需要两个步骤，一个用于预处理，然后是一个分类器。我们可以用 \n",
    "SVC和 StandardScaler来将其实例化:"
   ]
  },
  {
   "cell_type": "code",
   "execution_count": 3,
   "id": "247261c7-140c-4065-9e02-dfb92e0d1ded",
   "metadata": {},
   "outputs": [],
   "source": [
    "from sklearn.pipeline import Pipeline\n",
    "from sklearn.preprocessing import StandardScaler\n",
    "from sklearn.svm import SVC\n",
    "pipe = Pipeline([('preprocessing', StandardScaler() ) , ('classifier', SVC())]) "
   ]
  },
  {
   "cell_type": "code",
   "execution_count": null,
   "id": "2750aaaa-2eaa-4f6f-a70a-ae5951260531",
   "metadata": {},
   "outputs": [],
   "source": []
  }
 ],
 "metadata": {
  "kernelspec": {
   "display_name": "Python 3 (ipykernel)",
   "language": "python",
   "name": "python3"
  },
  "language_info": {
   "codemirror_mode": {
    "name": "ipython",
    "version": 3
   },
   "file_extension": ".py",
   "mimetype": "text/x-python",
   "name": "python",
   "nbconvert_exporter": "python",
   "pygments_lexer": "ipython3",
   "version": "3.9.13"
  }
 },
 "nbformat": 4,
 "nbformat_minor": 5
}
