{
 "cells": [
  {
   "cell_type": "markdown",
   "id": "14a2eded-0fb4-4218-bc32-8edf52327181",
   "metadata": {},
   "source": [
    "# 序"
   ]
  },
  {
   "cell_type": "markdown",
   "id": "f9f0dc9b-ae8b-4909-a33b-476a8b2f48ac",
   "metadata": {},
   "source": [
    "对于许多机器学习算法，你提供的特定数据表示非常重要，首先时数据进行缩放，然后手动合并特征，再利用无监督机器学习来学习特征。因此，大多数机器学习应用不仅需要应用单个算法，而且还需要将许多不同的处理步 骤和机器学习模型链接在一起。"
   ]
  },
  {
   "cell_type": "markdown",
   "id": "36c00bba-02d1-4c31-b9bb-4d6c2c7ece88",
   "metadata": {},
   "source": [
    "举一个例子来说明模型链的重耍性。我们知道，可以通过使用MinMaxScaler进行预处理来大大提高核SVM在cancer数据集上的性能。下面这些代码实现了划分数据、计算最小值和最大值、缩放数据与训练SVM："
   ]
  },
  {
   "cell_type": "code",
   "execution_count": 1,
   "id": "d7e7b9db-54d1-458f-98c4-d37d164d4e45",
   "metadata": {},
   "outputs": [
    {
     "name": "stdout",
     "output_type": "stream",
     "text": [
      "Test score: 0.972\n"
     ]
    }
   ],
   "source": [
    "from sklearn.svm import SVC\n",
    "from sklearn.datasets import load_breast_cancer\n",
    "from sklearn.model_selection import train_test_split\n",
    "from sklearn.preprocessing import MinMaxScaler\n",
    "\n",
    "# 加载并划分数据\n",
    "cancer = load_breast_cancer()\n",
    "X_train, X_test, y_train, y_test = train_test_split(cancer.data, cancer.target, random_state=0)\n",
    "\n",
    "# 计算训练数据的最大值和最小值\n",
    "scaler = MinMaxScaler().fit(X_train)\n",
    "# 对训练数据进行缩放\n",
    "X_train_scaler= scaler.transform(X_train)\n",
    "svm = SVC()\n",
    "# 在缩放的数据上学习svm\n",
    "svm.fit(X_train_scaler, y_train)\n",
    "# 对测试数据进行缩放，并计算缩放后数据分数\n",
    "X_test_scaler= scaler.transform(X_test)\n",
    "print(\"Test score: {:.3f}\".format(svm.score(X_test_scaler, y_test)))"
   ]
  },
  {
   "cell_type": "code",
   "execution_count": null,
   "id": "1730964d-78f8-4716-917e-ef9c78015334",
   "metadata": {},
   "outputs": [],
   "source": []
  }
 ],
 "metadata": {
  "kernelspec": {
   "display_name": "Python 3 (ipykernel)",
   "language": "python",
   "name": "python3"
  },
  "language_info": {
   "codemirror_mode": {
    "name": "ipython",
    "version": 3
   },
   "file_extension": ".py",
   "mimetype": "text/x-python",
   "name": "python",
   "nbconvert_exporter": "python",
   "pygments_lexer": "ipython3",
   "version": "3.9.13"
  }
 },
 "nbformat": 4,
 "nbformat_minor": 5
}
