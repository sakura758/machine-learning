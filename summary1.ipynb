{
 "cells": [
  {
   "cell_type": "markdown",
   "id": "e940e7c0",
   "metadata": {},
   "source": [
    "## 1.subplots 和 subplot 是 Matplotlib 库中用于创建子图的两个相关但不同的函数。"
   ]
  },
  {
   "cell_type": "code",
   "execution_count": null,
   "id": "a1a5c390",
   "metadata": {},
   "outputs": [],
   "source": []
  },
  {
   "cell_type": "markdown",
   "id": "792a6516",
   "metadata": {},
   "source": [
    "### (1)plt.subplots() 用于一次性创建多个子图，通常以网格形式排列。\n",
    "\n",
    "语法：fig, axes = plt.subplots(rows, columns, figsize=(width, height))\n",
    "rows 和 columns 参数指定子图的行数和列数，决定了子图的布局。\n",
    "fig 是一个 Figure 对象，表示整个图形窗口。\n",
    "axes 是一个包含多个 Axes 对象的 NumPy 数组或列表，每个 Axes 对象表示一个子图。\n",
    "figsize 参数可以用来指定整个图形窗口的大小。"
   ]
  },
  {
   "cell_type": "markdown",
   "id": "391f8f2c",
   "metadata": {},
   "source": [
    "例子：    \n",
    "fig, axes = plt.subplots(2, 2, figsize=(8, 6))    \n",
    "axes[0, 0].plot(x1, y1)    \n",
    "axes[0, 1].scatter(x2, y2)    "
   ]
  },
  {
   "cell_type": "code",
   "execution_count": null,
   "id": "fdc00260",
   "metadata": {},
   "outputs": [],
   "source": []
  },
  {
   "cell_type": "markdown",
   "id": "01bb903c",
   "metadata": {},
   "source": [
    "### (2)plt.subplot() 用于在单个图形窗口中创建一个子图，可以分别创建多个子图，但需要多次调用。\n",
    "语法：plt.subplot(rows, columns, index)\n",
    "rows 和 columns 参数指定子图的行数和列数，决定了子图的布局。\n",
    "index 参数指定当前子图的位置。子图的编号从左上角开始，从左到右、从上到下递增，例如，subplot(2, 2, 1) 表示第一个子图。"
   ]
  },
  {
   "cell_type": "markdown",
   "id": "4d1c3343",
   "metadata": {},
   "source": [
    "例子：\n",
    "plt.subplot(2, 2, 1)    \n",
    "plt.plot(x1, y1)    \n",
    "    \n",
    "plt.subplot(2, 2, 2)    \n",
    "plt.scatter(x2, y2)    "
   ]
  },
  {
   "cell_type": "markdown",
   "id": "3d139e83",
   "metadata": {},
   "source": [
    "总之，subplots 适用于一次性创建多个子图，而 subplot 适用于单个图形窗口中的一个子图。`    \n",
    "通常情况下，subplots 更方便，特别是当需要创建多个子图时，而 subplot 适用于只需要一个或少数几个子图的情况。"
   ]
  },
  {
   "cell_type": "code",
   "execution_count": null,
   "id": "d8b02109",
   "metadata": {},
   "outputs": [],
   "source": []
  },
  {
   "cell_type": "markdown",
   "id": "44418fe8",
   "metadata": {},
   "source": [
    "## 2.zip() \n",
    "zip()函数用于将可迭代的对象作为参数，将对象中对应的元素打包成一个个元组，然后返回由这些元组组成的对象，这样做的好处是节约了不少的内存。\n",
    "     \n",
    "我们可以使用 list() 转换来输出列表。"
   ]
  },
  {
   "cell_type": "code",
   "execution_count": 6,
   "id": "dddf8a45",
   "metadata": {},
   "outputs": [
    {
     "name": "stdout",
     "output_type": "stream",
     "text": [
      "<zip object at 0x000001C6CE289340>\n",
      "(1, 4)\n",
      "(2, 5)\n",
      "(3, 6)\n"
     ]
    }
   ],
   "source": [
    "import numpy as np\n",
    "a = [1,2,3]\n",
    "b = [4,5,6]\n",
    "c = [4,5,6,7,8]\n",
    "d = zip(a,b)\n",
    "print(d)\n",
    "# 转换为list的形式,返回的是一个元组的形式\n",
    "d_list = list(d)\n",
    "for i in d_list:\n",
    "    print(i)"
   ]
  },
  {
   "cell_type": "code",
   "execution_count": 7,
   "id": "3e0dc8e7",
   "metadata": {},
   "outputs": [
    {
     "data": {
      "text/plain": [
       "[(1,), (2,), (3,)]"
      ]
     },
     "execution_count": 7,
     "metadata": {},
     "output_type": "execute_result"
    }
   ],
   "source": [
    "# 当只有一个参数时\n",
    "d = list(zip(a))\n",
    "d"
   ]
  },
  {
   "cell_type": "code",
   "execution_count": null,
   "id": "2a92bc36",
   "metadata": {},
   "outputs": [],
   "source": []
  },
  {
   "cell_type": "markdown",
   "id": "6c8e6e1d",
   "metadata": {},
   "source": [
    "## 3.reshape(-1, 1)"
   ]
  },
  {
   "cell_type": "markdown",
   "id": "0ca70148",
   "metadata": {},
   "source": [
    "reshape(-1, 1) 是 NumPy 中用来调整数组形状的一种特殊用法。\n",
    "\n",
    "在这个语法中，-1 被用作一个占位符，表示 \"任意需要的尺寸\"。\n",
    "\n",
    "这个操作通常用于将一个数组从任意形状转换成一个列向量（也就是二维数组，但其中一维的尺寸为1）。"
   ]
  },
  {
   "cell_type": "code",
   "execution_count": 1,
   "id": "4545c537",
   "metadata": {},
   "outputs": [
    {
     "name": "stdout",
     "output_type": "stream",
     "text": [
      "[[1]\n",
      " [2]\n",
      " [3]\n",
      " [4]\n",
      " [5]\n",
      " [6]]\n"
     ]
    }
   ],
   "source": [
    "import numpy as np\n",
    "# 创建一个包含6个元素的一维数组\n",
    "arr = np.array([1, 2, 3, 4, 5, 6])\n",
    "# 将数组转换成一个列向量\n",
    "reshaped_arr = arr.reshape(-1, 1)\n",
    "print(reshaped_arr)"
   ]
  },
  {
   "cell_type": "markdown",
   "id": "d0956993",
   "metadata": {},
   "source": [
    "这种操作通常用于将数据准备成机器学习算法所需的格式，因为许多算法要求输入数据的特征是列向量。"
   ]
  },
  {
   "cell_type": "code",
   "execution_count": null,
   "id": "1938bef8",
   "metadata": {},
   "outputs": [],
   "source": []
  },
  {
   "cell_type": "markdown",
   "id": "30a7b219",
   "metadata": {},
   "source": [
    "## 4.random_state"
   ]
  },
  {
   "cell_type": "markdown",
   "id": "0b392a4b",
   "metadata": {},
   "source": [
    "random_state 参数代表随机数生成器的种子，它在数据集分割的过程中起到了重要作用。    \n",
    "\n",
    "在你提供的代码中，train_test_split 是一个用于将数据集分成训练集和测试集的函数。具体来说：    \n",
    "X: 这是包含输入特征的数组或矩阵。       \n",
    "y: 这是目标变量的数组。       \n",
    "random_state: 这个参数控制了数据集分割的随机过程。如果你提供了一个固定的整数作为 random_state，那么每次运行代码时，数据集的分割方式都将是相同的。      \n",
    "\n",
    "\n",
    "X_train, X_test, y_train, y_test = train_test_split(X, y, random_state=42)\n",
    "在你的代码中，random_state=42 的作用是设置了一个特定的随机种子 (seed)，这意味着每次运行这段代码时，数据集的分割方式都是相同的。这对于保证在不同运行中得到一致的分割结果非常有用，这样可以使实验结果更具可比性。   \n",
    "\n",
    "总的来说，random_state 用于控制随机性，确保在相同的种子下，每次运行相同的代码会得到相同的结果，从而保证实验的可重复性。"
   ]
  },
  {
   "cell_type": "markdown",
   "id": "58cf013d",
   "metadata": {},
   "source": [
    "## 5.alpha"
   ]
  },
  {
   "cell_type": "markdown",
   "id": "6d0c86aa",
   "metadata": {},
   "source": [
    "alpha 在机器学习和统计学中通常用于表示正则化参数（regularization parameter）。在线性回归等模型中，正则化是一种用于控制模型复杂度的技术。它通过在模型的损失函数中添加一个额外的惩罚项来实现。这个惩罚项通常是模型参数的 L1 或 L2 范数。\n",
    "\n",
    "(1)当使用 L1 正则化时，损失函数会增加模型参数的绝对值之和。     \n",
    "(2)当使用 L2 正则化时，损失函数会增加模型参数的平方和的平方根。     \n",
    "alpha 控制了正则化的强度。较大的 alpha 会导致更强的正则化，使模型更趋向于简单的解决方案。较小的 alpha 允许模型拟合训练数据时更加灵活。      "
   ]
  },
  {
   "cell_type": "markdown",
   "id": "3ee6adec",
   "metadata": {},
   "source": [
    "在不同的机器学习算法中，alpha 可能具有不同的含义或用途，但通常都与正则化相关。例如，在岭回归（Ridge Regression）中，alpha 是控制 L2 正则化的参数，在 Lasso 回归中，alpha 控制 L1 正则化的强度。需要注意的是，在不同的上下文中，alpha 的含义可能会略有不同，因此在具体使用时应查看相应算法的文档或说明以获取准确的信息。"
   ]
  },
  {
   "cell_type": "code",
   "execution_count": null,
   "id": "50b6cd83",
   "metadata": {},
   "outputs": [],
   "source": []
  },
  {
   "cell_type": "markdown",
   "id": "ea8d0804",
   "metadata": {},
   "source": [
    "### 6. train_test_split"
   ]
  },
  {
   "cell_type": "code",
   "execution_count": 3,
   "id": "cff32140",
   "metadata": {},
   "outputs": [],
   "source": [
    "# 导入\n",
    "from sklearn.model_selection import train_test_split"
   ]
  },
  {
   "cell_type": "markdown",
   "id": "b82fdc7d",
   "metadata": {},
   "source": [
    "sklearn.model_selection.train_test_split(*arrays, test_size=None, train_size=None, random_state=None, shuffle=True, stratify=None)"
   ]
  },
  {
   "cell_type": "markdown",
   "id": "3c48b29a",
   "metadata": {},
   "source": [
    "参数：\n",
    "(1)*arrays: 具有相同长度/形状的可索引数组序列[0]\n",
    "允许的输入是列表、numpy 数组、scipy 稀疏矩阵或 pandas 数据帧。\n",
    "\n",
    "(2)test_size: float 或 int，默认=None\n",
    "如果是浮点数，则应介于 0.0 和 1.0 之间，并表示要包含在测试拆分中的数据集的比例。如果是int，则表示测试样本的绝对数量。如果无，则该值设置为列车大小的补数。如果train_size也是 None，则设置为 0.25。\n",
    "\n",
    "(3)train_size: float 或 int，默认=None\n",
    "如果是浮点数，则应介于 0.0 和 1.0 之间，并表示要包含在训练分割中的数据集的比例。如果是 int，则表示训练样本的绝对数量。如果无，该值将自动设置为测试大小的补数。\n",
    "\n",
    "(4)random_state: int，RandomState实例或None，默认=None\n",
    "控制应用拆分之前应用于数据的改组。传递一个 int 以在多个函数调用中实现可重现的输出。请参阅术语表。\n",
    "\n",
    "(5)shuffle:随机播放布尔值，默认=True\n",
    "分割前是否对数据进行打乱。如果 shuffle=False 则 stratify 必须为 None。\n",
    "\n",
    "(5)stratify:类似数组分层，默认=无\n",
    "如果不是“无”，则数据以分层方式分割，并使用它作为类标签。请阅读用户指南了解更多信息。"
   ]
  },
  {
   "cell_type": "code",
   "execution_count": null,
   "id": "57212224",
   "metadata": {},
   "outputs": [],
   "source": []
  },
  {
   "cell_type": "markdown",
   "id": "695ae69c",
   "metadata": {},
   "source": [
    "\n",
    "返回：\n",
    "splitting:分割列表，长度=2 * len(数组)\n",
    "包含输入的训练测试分割的列表。\n",
    "\n",
    "版本 0.16 中的新增功能：如果输入稀疏，则输出将为 scipy.sparse.csr_matrix. 否则，输出类型与输入类型相同。"
   ]
  },
  {
   "cell_type": "code",
   "execution_count": null,
   "id": "8d8e620c",
   "metadata": {},
   "outputs": [],
   "source": []
  },
  {
   "cell_type": "code",
   "execution_count": null,
   "id": "167fe73d",
   "metadata": {},
   "outputs": [],
   "source": []
  },
  {
   "cell_type": "markdown",
   "id": "085892e2",
   "metadata": {},
   "source": [
    "### 7. bar 和 barh"
   ]
  },
  {
   "cell_type": "markdown",
   "id": "715ea81e",
   "metadata": {},
   "source": [
    "bar\" 和 \"barh\" 是两种用于绘制条形图的 Matplotlib 函数，Matplotlib 是一个 Python 数据可视化库。这两种函数分别用于创建垂直条形图和水平条形图，可以用来可视化数据的分布、比较和趋势等信息。"
   ]
  },
  {
   "cell_type": "markdown",
   "id": "0baaba4a",
   "metadata": {},
   "source": [
    "bar 函数用于创建垂直条形图，其中 x 轴通常表示不同的类别或数据点，而 y 轴表示相应的数值。\n",
    "使用 plt.bar(x, height)，其中 x 是一个列表或数组，包含条形图中每个条形的位置，而 height 是一个列表或数组，包含每个条形的高度。"
   ]
  },
  {
   "cell_type": "code",
   "execution_count": 5,
   "id": "1281795b",
   "metadata": {},
   "outputs": [
    {
     "data": {
      "image/png": "[encoded data removed]",
      "text/plain": [
       "<Figure size 640x480 with 1 Axes>"
      ]
     },
     "metadata": {},
     "output_type": "display_data"
    }
   ],
   "source": [
    "import matplotlib.pyplot as plt\n",
    "\n",
    "x = [\"A\", \"B\", \"C\", \"D\"]\n",
    "height = [3, 7, 1, 5]\n",
    "\n",
    "plt.bar(x, height)\n",
    "plt.xlabel(\"Categories\")\n",
    "plt.ylabel(\"Values\")\n",
    "plt.title(\"Vertical Bar Chart\")\n",
    "plt.show()"
   ]
  },
  {
   "cell_type": "markdown",
   "id": "5e8da220",
   "metadata": {},
   "source": [
    "barh 函数：\n",
    "\n",
    "barh 函数用于创建水平条形图，其中 y 轴通常表示不同的类别或数据点，而 x 轴表示相应的数值。\n",
    "使用 plt.barh(y, width)，其中 y 是一个列表或数组，包含条形图中每个条形的位置，而 width 是一个列表或数组，包含每个条形的宽度。"
   ]
  },
  {
   "cell_type": "code",
   "execution_count": 6,
   "id": "eca469ea",
   "metadata": {},
   "outputs": [
    {
     "data": {
      "image/png": "[encoded data removed]",
      "text/plain": [
       "<Figure size 640x480 with 1 Axes>"
      ]
     },
     "metadata": {},
     "output_type": "display_data"
    }
   ],
   "source": [
    "import matplotlib.pyplot as plt\n",
    "\n",
    "y = [\"A\", \"B\", \"C\", \"D\"]\n",
    "width = [3, 7, 1, 5]\n",
    "\n",
    "plt.barh(y, width)\n",
    "plt.xlabel(\"Values\")\n",
    "plt.ylabel(\"Categories\")\n",
    "plt.title(\"Horizontal Bar Chart\")\n",
    "plt.show()\n"
   ]
  },
  {
   "cell_type": "markdown",
   "id": "d9906a81",
   "metadata": {},
   "source": [
    "这两种函数可以根据你的数据和可视化需求选择使用，垂直条形图适用于一般的数据比较，而水平条形图适用于需要强调类别之间的比较或具有较长标签的情况。你可以根据需要自定义图表的样式、颜色和其他属性。"
   ]
  },
  {
   "cell_type": "code",
   "execution_count": null,
   "id": "d9089634",
   "metadata": {},
   "outputs": [],
   "source": []
  },
  {
   "cell_type": "code",
   "execution_count": null,
   "id": "59a87c1f",
   "metadata": {},
   "outputs": [],
   "source": []
  },
  {
   "cell_type": "markdown",
   "id": "d1fdddf2",
   "metadata": {},
   "source": [
    "### 8. plt.semilogy"
   ]
  },
  {
   "cell_type": "markdown",
   "id": "4ecfa963",
   "metadata": {},
   "source": [
    "plt.semilogy是 Matplotlib 库中的一个函数，用于创建 y 轴上具有对数刻度的绘图。"
   ]
  },
  {
   "cell_type": "code",
   "execution_count": 1,
   "id": "2592ebb2",
   "metadata": {},
   "outputs": [
    {
     "data": {
      "image/png": "[encoded data removed]",
      "text/plain": [
       "<Figure size 640x480 with 1 Axes>"
      ]
     },
     "metadata": {},
     "output_type": "display_data"
    }
   ],
   "source": [
    "import matplotlib.pyplot as plt\n",
    "import numpy as np\n",
    "\n",
    "x = np.linspace(1, 10, 100)  # Create an array of 100 points from 1 to 10\n",
    "y = 10**x                    # Create a y-array where y = 10^x\n",
    "\n",
    "plt.semilogy(x, y)          # Create a semilogarithmic plot\n",
    "plt.title('Semilogarithmic Plot')\n",
    "plt.xlabel('X')\n",
    "plt.ylabel('Y (log scale)')\n",
    "\n",
    "plt.show()\n"
   ]
  },
  {
   "cell_type": "markdown",
   "id": "0abe3e10",
   "metadata": {},
   "source": [
    "x使用 来创建一个包含 100 个点的数组，这些点均匀分布在 1 到 10 之间np.linspace。我们使用幂运算符 ( ) 创建y10 的幂，x**。    \n",
    "最后，我们用来plt.semilogy创建 y 轴上具有对数刻度的图。其余代码设置绘图的标题和标签，然后plt.show()用于显示绘图。"
   ]
  },
  {
   "cell_type": "markdown",
   "id": "bb5d6031",
   "metadata": {},
   "source": [
    "当您拥有跨越多个数量级的数据并且希望有效地对其进行可视化、强调数据在大范围内的相对变化时，这种类型的图非常有用。"
   ]
  },
  {
   "cell_type": "code",
   "execution_count": null,
   "id": "650e31c4",
   "metadata": {},
   "outputs": [],
   "source": []
  },
  {
   "cell_type": "code",
   "execution_count": null,
   "id": "34c2e443",
   "metadata": {},
   "outputs": [],
   "source": []
  },
  {
   "cell_type": "markdown",
   "id": "d3b1581a",
   "metadata": {},
   "source": [
    "### 9. sklearn函数的一些参数说明"
   ]
  },
  {
   "cell_type": "markdown",
   "id": "98e70691",
   "metadata": {},
   "source": [
    "n_features ：表示每一个样本有多少特征值 ，默认2      \n",
    "n_samples ：表示样本的个数 ，默认100     \n",
    "centers： 是聚类中心点的个数，可以理解为label的种类数 ，默认3     \n",
    "random_state ：是随机种子，可以固定生成的数据     \n",
    "cluster_std ：设置每个类别的方差, 例如我们希望生成3类数据，可以将cluster_std设置为[1.0,3.0,5.0]。代表最后一类方差最大，分布的最散乱     \n",
    "shuffle： 是否打乱数据。默认打乱     \n",
    "center_box ：每个簇中心随机生成时的包围框    \n",
    "n_estimators:对原始数据集进行有放回抽样生成的子数据集个数，即决策树的个数"
   ]
  },
  {
   "cell_type": "code",
   "execution_count": null,
   "id": "3110b4de",
   "metadata": {},
   "outputs": [],
   "source": []
  },
  {
   "cell_type": "markdown",
   "id": "8f33ea95",
   "metadata": {},
   "source": [
    "### 10. 随机森林RandomForestClassifier的参数含义\n"
   ]
  },
  {
   "cell_type": "markdown",
   "id": "61db8f1a",
   "metadata": {},
   "source": [
    "criterion：分裂节点所用的标准，可选“gini”, “entropy”，默认“gini”。   \n",
    "\n",
    "max_depth：树的最大深度。如果为None，则将节点展开，直到所有叶子都是纯净的(只有一个类)，或者直到所有叶子都包含少于min_samples_split个样本。默认是None。    \n",
    "\n",
    "min_samples_split：拆分内部节点所需的最少样本数：如果为int，则将min_samples_split视为最小值。如果为float，则min_samples_split是一个分数，而ceil（min_samples_split * n_samples）是每个拆分的最小样本数。默认是2。   \n",
    "\n",
    "min_samples_leaf：在叶节点处需要的最小样本数。仅在任何深度的分割点在左分支和右分支中的每个分支上至少留下 min_samples_leaf个训练样本时，才考虑。这可能具有平滑模型的效果，尤其是在回归中。如果为int，则将min_samples_leaf视为最小值。如果为float，则min_samples_leaf是分数，而ceil（min_samples_leaf * n_samples）是每个节点的最小样本数。默认是1。   \n",
    "\n",
    "min_weight_fraction_leaf：在所有叶节点处（所有输入样本）的权重总和中的最小加权分数。如果未提供sample_weight，则样本的权重相等。    \n",
    "\n",
    "max_features：寻找最佳分割时要考虑的特征数量：如果为int，则在每个拆分中考虑max_features个特征。如果为float，则max_features是一个分数，并在每次拆分时考虑int（max_features * n_features）个特征。如果为“auto”，则max_features = sqrt（n_features）。如果为“ sqrt”，则max_features = sqrt（n_features）。如果为“ log2”，则max_features = log2（n_features）。如果为None，则max_features = n_features。注意：在找到至少一个有效的节点样本分区之前，分割的搜索不会停止，即使它需要有效检查多个max_features功能也是如此。    \n",
    "\n",
    "max_leaf_nodes：最大叶子节点数，整数，默认为None    \n",
    "\n",
    "min_impurity_decrease：如果分裂指标的减少量大于该值，则进行分裂。   \n",
    "\n",
    "min_impurity_split：决策树生长的最小纯净度。默认是0。自版本0.19起不推荐使用：不推荐使用min_impurity_split，而建议使用0.19中的min_impurity_decrease。min_impurity_split的默认值在0.23中已从1e-7更改为0，并将在0.25中删除。    \n",
    "\n",
    "bootstrap：是否进行bootstrap操作，bool。默认True。如果bootstrap==True，将每次有放回地随机选取样本，只有在extra-trees中，bootstrap=False    \n",
    "\n",
    "oob_score：是否使用袋外样本来估计泛化精度。默认False。    \n",
    "\n",
    "n_jobs：并行计算数。默认是None。    \n",
    "\n",
    "random_state：控制bootstrap的随机性以及选择样本的随机性。    \n",
    "verbose：在拟合和预测时控制详细程度。默认是0。    \n",
    "\n",
    "class_weight：每个类的权重，可以用字典的形式传入{class_label: weight}。如果选择了“balanced”，则输入的权重为n_samples / (n_classes * np.bincount(y))。   \n",
    "\n",
    "ccp_alpha：将选择成本复杂度最大且小于ccp_alpha的子树。默认情况下，不执行修剪。   \n",
    "\n",
    "max_samples：如果bootstrap为True，则从X抽取以训练每个基本分类器的样本数。如果为None（默认），则抽取X.shape [0]样本。如果为int，则抽取max_samples样本。如果为float，则抽取max_samples * X.shape [0]个样本。因此，max_samples应该在（0，1）中。   "
   ]
  },
  {
   "cell_type": "markdown",
   "id": "9101739d",
   "metadata": {},
   "source": []
  }
 ],
 "metadata": {
  "kernelspec": {
   "display_name": "Python 3 (ipykernel)",
   "language": "python",
   "name": "python3"
  },
  "language_info": {
   "codemirror_mode": {
    "name": "ipython",
    "version": 3
   },
   "file_extension": ".py",
   "mimetype": "text/x-python",
   "name": "python",
   "nbconvert_exporter": "python",
   "pygments_lexer": "ipython3",
   "version": "3.9.13"
  }
 },
 "nbformat": 4,
 "nbformat_minor": 5
}
