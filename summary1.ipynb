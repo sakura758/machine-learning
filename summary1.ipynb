{
 "cells": [
  {
   "cell_type": "markdown",
   "id": "e940e7c0",
   "metadata": {},
   "source": [
    "## 1.subplots 和 subplot 是 Matplotlib 库中用于创建子图的两个相关但不同的函数。"
   ]
  },
  {
   "cell_type": "code",
   "execution_count": null,
   "id": "a1a5c390",
   "metadata": {},
   "outputs": [],
   "source": []
  },
  {
   "cell_type": "markdown",
   "id": "792a6516",
   "metadata": {},
   "source": [
    "### (1)plt.subplots() 用于一次性创建多个子图，通常以网格形式排列。\n",
    "\n",
    "语法：fig, axes = plt.subplots(rows, columns, figsize=(width, height))\n",
    "rows 和 columns 参数指定子图的行数和列数，决定了子图的布局。\n",
    "fig 是一个 Figure 对象，表示整个图形窗口。\n",
    "axes 是一个包含多个 Axes 对象的 NumPy 数组或列表，每个 Axes 对象表示一个子图。\n",
    "figsize 参数可以用来指定整个图形窗口的大小。"
   ]
  },
  {
   "cell_type": "markdown",
   "id": "391f8f2c",
   "metadata": {},
   "source": [
    "例子：    \n",
    "fig, axes = plt.subplots(2, 2, figsize=(8, 6))    \n",
    "axes[0, 0].plot(x1, y1)    \n",
    "axes[0, 1].scatter(x2, y2)    "
   ]
  },
  {
   "cell_type": "code",
   "execution_count": null,
   "id": "fdc00260",
   "metadata": {},
   "outputs": [],
   "source": []
  },
  {
   "cell_type": "markdown",
   "id": "01bb903c",
   "metadata": {},
   "source": [
    "### (2)plt.subplot() 用于在单个图形窗口中创建一个子图，可以分别创建多个子图，但需要多次调用。\n",
    "语法：plt.subplot(rows, columns, index)\n",
    "rows 和 columns 参数指定子图的行数和列数，决定了子图的布局。\n",
    "index 参数指定当前子图的位置。子图的编号从左上角开始，从左到右、从上到下递增，例如，subplot(2, 2, 1) 表示第一个子图。"
   ]
  },
  {
   "cell_type": "markdown",
   "id": "4d1c3343",
   "metadata": {},
   "source": [
    "例子：\n",
    "plt.subplot(2, 2, 1)    \n",
    "plt.plot(x1, y1)    \n",
    "    \n",
    "plt.subplot(2, 2, 2)    \n",
    "plt.scatter(x2, y2)    "
   ]
  },
  {
   "cell_type": "markdown",
   "id": "3d139e83",
   "metadata": {},
   "source": [
    "总之，subplots 适用于一次性创建多个子图，而 subplot 适用于单个图形窗口中的一个子图。`    \n",
    "通常情况下，subplots 更方便，特别是当需要创建多个子图时，而 subplot 适用于只需要一个或少数几个子图的情况。"
   ]
  },
  {
   "cell_type": "code",
   "execution_count": null,
   "id": "d8b02109",
   "metadata": {},
   "outputs": [],
   "source": []
  },
  {
   "cell_type": "markdown",
   "id": "44418fe8",
   "metadata": {},
   "source": [
    "## 2.zip() \n",
    "zip()函数用于将可迭代的对象作为参数，将对象中对应的元素打包成一个个元组，然后返回由这些元组组成的对象，这样做的好处是节约了不少的内存。\n",
    "     \n",
    "我们可以使用 list() 转换来输出列表。"
   ]
  },
  {
   "cell_type": "code",
   "execution_count": 6,
   "id": "dddf8a45",
   "metadata": {},
   "outputs": [
    {
     "name": "stdout",
     "output_type": "stream",
     "text": [
      "<zip object at 0x000001C6CE289340>\n",
      "(1, 4)\n",
      "(2, 5)\n",
      "(3, 6)\n"
     ]
    }
   ],
   "source": [
    "import numpy as np\n",
    "a = [1,2,3]\n",
    "b = [4,5,6]\n",
    "c = [4,5,6,7,8]\n",
    "d = zip(a,b)\n",
    "print(d)\n",
    "# 转换为list的形式,返回的是一个元组的形式\n",
    "d_list = list(d)\n",
    "for i in d_list:\n",
    "    print(i)"
   ]
  },
  {
   "cell_type": "code",
   "execution_count": 7,
   "id": "3e0dc8e7",
   "metadata": {},
   "outputs": [
    {
     "data": {
      "text/plain": [
       "[(1,), (2,), (3,)]"
      ]
     },
     "execution_count": 7,
     "metadata": {},
     "output_type": "execute_result"
    }
   ],
   "source": [
    "# 当只有一个参数时\n",
    "d = list(zip(a))\n",
    "d"
   ]
  },
  {
   "cell_type": "code",
   "execution_count": null,
   "id": "2a92bc36",
   "metadata": {},
   "outputs": [],
   "source": []
  },
  {
   "cell_type": "markdown",
   "id": "6c8e6e1d",
   "metadata": {},
   "source": [
    "## 3.reshape(-1, 1)"
   ]
  },
  {
   "cell_type": "markdown",
   "id": "0ca70148",
   "metadata": {},
   "source": [
    "reshape(-1, 1) 是 NumPy 中用来调整数组形状的一种特殊用法。\n",
    "\n",
    "在这个语法中，-1 被用作一个占位符，表示 \"任意需要的尺寸\"。\n",
    "\n",
    "这个操作通常用于将一个数组从任意形状转换成一个列向量（也就是二维数组，但其中一维的尺寸为1）。"
   ]
  },
  {
   "cell_type": "code",
   "execution_count": 1,
   "id": "4545c537",
   "metadata": {},
   "outputs": [
    {
     "name": "stdout",
     "output_type": "stream",
     "text": [
      "[[1]\n",
      " [2]\n",
      " [3]\n",
      " [4]\n",
      " [5]\n",
      " [6]]\n"
     ]
    }
   ],
   "source": [
    "import numpy as np\n",
    "# 创建一个包含6个元素的一维数组\n",
    "arr = np.array([1, 2, 3, 4, 5, 6])\n",
    "# 将数组转换成一个列向量\n",
    "reshaped_arr = arr.reshape(-1, 1)\n",
    "print(reshaped_arr)"
   ]
  },
  {
   "cell_type": "markdown",
   "id": "d0956993",
   "metadata": {},
   "source": [
    "这种操作通常用于将数据准备成机器学习算法所需的格式，因为许多算法要求输入数据的特征是列向量。"
   ]
  },
  {
   "cell_type": "code",
   "execution_count": null,
   "id": "1938bef8",
   "metadata": {},
   "outputs": [],
   "source": []
  },
  {
   "cell_type": "markdown",
   "id": "30a7b219",
   "metadata": {},
   "source": [
    "## 4.random_state"
   ]
  },
  {
   "cell_type": "markdown",
   "id": "0b392a4b",
   "metadata": {},
   "source": [
    "random_state 参数代表随机数生成器的种子，它在数据集分割的过程中起到了重要作用。    \n",
    "\n",
    "在你提供的代码中，train_test_split 是一个用于将数据集分成训练集和测试集的函数。具体来说：    \n",
    "X: 这是包含输入特征的数组或矩阵。       \n",
    "y: 这是目标变量的数组。       \n",
    "random_state: 这个参数控制了数据集分割的随机过程。如果你提供了一个固定的整数作为 random_state，那么每次运行代码时，数据集的分割方式都将是相同的。      \n",
    "\n",
    "\n",
    "X_train, X_test, y_train, y_test = train_test_split(X, y, random_state=42)\n",
    "在你的代码中，random_state=42 的作用是设置了一个特定的随机种子 (seed)，这意味着每次运行这段代码时，数据集的分割方式都是相同的。这对于保证在不同运行中得到一致的分割结果非常有用，这样可以使实验结果更具可比性。   \n",
    "\n",
    "总的来说，random_state 用于控制随机性，确保在相同的种子下，每次运行相同的代码会得到相同的结果，从而保证实验的可重复性。"
   ]
  },
  {
   "cell_type": "markdown",
   "id": "58cf013d",
   "metadata": {},
   "source": [
    "## 5.alpha"
   ]
  },
  {
   "cell_type": "markdown",
   "id": "6d0c86aa",
   "metadata": {},
   "source": [
    "alpha 在机器学习和统计学中通常用于表示正则化参数（regularization parameter）。在线性回归等模型中，正则化是一种用于控制模型复杂度的技术。它通过在模型的损失函数中添加一个额外的惩罚项来实现。这个惩罚项通常是模型参数的 L1 或 L2 范数。\n",
    "\n",
    "(1)当使用 L1 正则化时，损失函数会增加模型参数的绝对值之和。     \n",
    "(2)当使用 L2 正则化时，损失函数会增加模型参数的平方和的平方根。     \n",
    "alpha 控制了正则化的强度。较大的 alpha 会导致更强的正则化，使模型更趋向于简单的解决方案。较小的 alpha 允许模型拟合训练数据时更加灵活。      "
   ]
  },
  {
   "cell_type": "markdown",
   "id": "3ee6adec",
   "metadata": {},
   "source": [
    "在不同的机器学习算法中，alpha 可能具有不同的含义或用途，但通常都与正则化相关。例如，在岭回归（Ridge Regression）中，alpha 是控制 L2 正则化的参数，在 Lasso 回归中，alpha 控制 L1 正则化的强度。需要注意的是，在不同的上下文中，alpha 的含义可能会略有不同，因此在具体使用时应查看相应算法的文档或说明以获取准确的信息。"
   ]
  }
 ],
 "metadata": {
  "kernelspec": {
   "display_name": "Python 3 (ipykernel)",
   "language": "python",
   "name": "python3"
  },
  "language_info": {
   "codemirror_mode": {
    "name": "ipython",
    "version": 3
   },
   "file_extension": ".py",
   "mimetype": "text/x-python",
   "name": "python",
   "nbconvert_exporter": "python",
   "pygments_lexer": "ipython3",
   "version": "3.9.13"
  }
 },
 "nbformat": 4,
 "nbformat_minor": 5
}
