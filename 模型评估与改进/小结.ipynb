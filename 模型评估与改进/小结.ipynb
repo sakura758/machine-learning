{
 "cells": [
  {
   "cell_type": "markdown",
   "id": "770764c9-72e1-40d6-ad84-b118c3e7b5fa",
   "metadata": {},
   "source": [
    "# 小结与展望"
   ]
  },
  {
   "cell_type": "markdown",
   "id": "317ca857-ae7a-4e93-b81a-a376e5d1c777",
   "metadata": {},
   "source": [
    "本章有两个特别的要点，第一个要点与交叉验证有关。交叉验证或者使用测试集让我们可以评估一个机器学习模型未来的表现。但是，如果我们使用测试集或交叉验证来选择模型或选择模型参数，那么我们就 “用完了”测试数据，而使用相同的数据来评估模型未来的表现将会得到过于乐观的估计。因此，我们需要将数据集划分为训练数据、验证数据与测试数据，其中训练数据用于模型构建，验证数据用于选择模型与参数，测试数据用于模型评估。我们可以用交叉验证来代替每一次简单的划分。最常用的形式（如前所述）是训练/测试划分用干评估，然后对训练集使用交叉验证来选择模型与参数。"
   ]
  },
  {
   "cell_type": "markdown",
   "id": "4f71ccca-77f5-45b1-b3c3-653f5649b2c9",
   "metadata": {},
   "source": [
    "第二个要点与用于模型选择与模型评估的评估指标或评分函数有关。如何利用机器学习模型的预测结果做出商业决策，其理论有些超出了本书范围。但是，机器学习任务的最终目标很少是构建一个高精度的模型。 一定要确保你用于模型评估与选择的指标能够很好地替代模型的实际用途。在实际当中，分类问题很少会遇到平衡的类别，假正例和假反例也通常具有非常不同的后果。你一定要了解这些后果，并选择相应的评估指标。 "
   ]
  }
 ],
 "metadata": {
  "kernelspec": {
   "display_name": "Python 3 (ipykernel)",
   "language": "python",
   "name": "python3"
  },
  "language_info": {
   "codemirror_mode": {
    "name": "ipython",
    "version": 3
   },
   "file_extension": ".py",
   "mimetype": "text/x-python",
   "name": "python",
   "nbconvert_exporter": "python",
   "pygments_lexer": "ipython3",
   "version": "3.9.13"
  }
 },
 "nbformat": 4,
 "nbformat_minor": 5
}
