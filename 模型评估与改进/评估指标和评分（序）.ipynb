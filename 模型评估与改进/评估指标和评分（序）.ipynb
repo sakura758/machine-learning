{
 "cells": [
  {
   "cell_type": "markdown",
   "id": "a1f2bdf2-252c-46be-827d-33bfd27a2f04",
   "metadata": {},
   "source": [
    "# 评估指标与评分"
   ]
  },
  {
   "cell_type": "markdown",
   "id": "d67d93df-d138-4f03-bd8f-cc40480bbcc5",
   "metadata": {},
   "source": [
    "到目前为止，我们使用精度(正确分类的样本所占的比例)来评估分类性能，使用R^2来评估回归性能。但是，总结监督模型在给定数据集上的表现行多种方法,这两个指标只是 其中两种。在实践中，这些评估指标可能不适用于你的应用。在选择模型与调参时，选择 正确的指标是很重要的。"
   ]
  },
  {
   "cell_type": "code",
   "execution_count": null,
   "id": "f935d8d5-3be8-4859-ae77-35c2ffd3f364",
   "metadata": {},
   "outputs": [],
   "source": []
  },
  {
   "cell_type": "markdown",
   "id": "27247ef1-aea3-489c-b903-f520a34d3dad",
   "metadata": {},
   "source": [
    "## 1.牢记最终目标"
   ]
  },
  {
   "cell_type": "markdown",
   "id": "923f94ea-983a-48e9-9016-17822d1a0ef9",
   "metadata": {},
   "source": [
    "在选择指标时，你应该始终牢记机器学习应用的最终目标。在实践中，我们通常不仅对精确的预测感兴趣，还希望将这些预测结果用于更大的决策过程。在选择机器学习指标之前，你应该考虑应用的高级目标，这通常被称为**商业指标**(business metric)。对于一个机器学习应用，选择特定算法的结果被称为**商业影响**(business impact)，高级目标可能是避 免交通事故或者减少入院人数，也可能是吸引更多的网站用户或者让用户在你的商店中花更多的钱。在选择模型或调参时，你应该选择对商业指标具有最大正面影响的模型或参数值。这通常是很难的，因为要想评估某个模型的商业影响.可能需要将它放在真实的生产环境中。"
   ]
  },
  {
   "cell_type": "markdown",
   "id": "ebaa0f09-b6cb-4b96-8f39-a4fb1aabf8fa",
   "metadata": {},
   "source": [
    "开发的初期阶段调参，仅为了测试就将模型投入生产环境往往是不可行的，因为可能涉及很高的商业风险或个人风险。想象一下，为了测试无人驾驶汽车的行人避让能力，没有事先验证就让它直接上路。如果模型很糟糕的话，行人就会遇到麻烦！因此，我们通常需要找到某种替代的评估程序，使用一种更容易计算的评估指标。例如，我们可以测试对行人和非行人的图片进行分类并测量精度。清记住，这只是一种替代方法，找到与原始商业目标最接近的可评估的指标也很有用。应尽可能使用这个最接近的指标来进行模型评估与选择。评估的结果可能不是一个数字—— 算法的结果可能是顾客多了 10% ,但每位顾客的花费减少了 15%，—— 但它应该给出选择一个模型而不选另一个所造成的预期商业影响。"
   ]
  },
  {
   "cell_type": "code",
   "execution_count": null,
   "id": "ae5e1285-e136-4b40-a03f-ff10684b3a60",
   "metadata": {},
   "outputs": [],
   "source": []
  }
 ],
 "metadata": {
  "kernelspec": {
   "display_name": "Python 3 (ipykernel)",
   "language": "python",
   "name": "python3"
  },
  "language_info": {
   "codemirror_mode": {
    "name": "ipython",
    "version": 3
   },
   "file_extension": ".py",
   "mimetype": "text/x-python",
   "name": "python",
   "nbconvert_exporter": "python",
   "pygments_lexer": "ipython3",
   "version": "3.9.13"
  }
 },
 "nbformat": 4,
 "nbformat_minor": 5
}
