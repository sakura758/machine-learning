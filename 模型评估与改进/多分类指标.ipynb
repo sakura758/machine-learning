{
 "cells": [
  {
   "cell_type": "markdown",
   "id": "29506840-15e1-4901-87c7-1b64adcd9318",
   "metadata": {},
   "source": [
    "# 多分类指标"
   ]
  },
  {
   "cell_type": "code",
   "execution_count": null,
   "id": "4009d6fa-20c1-407f-9cfa-d43a17d838c1",
   "metadata": {},
   "outputs": [],
   "source": []
  }
 ],
 "metadata": {
  "kernelspec": {
   "display_name": "Python 3 (ipykernel)",
   "language": "python",
   "name": "python3"
  },
  "language_info": {
   "codemirror_mode": {
    "name": "ipython",
    "version": 3
   },
   "file_extension": ".py",
   "mimetype": "text/x-python",
   "name": "python",
   "nbconvert_exporter": "python",
   "pygments_lexer": "ipython3",
   "version": "3.9.13"
  }
 },
 "nbformat": 4,
 "nbformat_minor": 5
}
