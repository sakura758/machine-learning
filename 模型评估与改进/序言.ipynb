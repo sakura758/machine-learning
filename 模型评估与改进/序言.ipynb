{
 "cells": [
  {
   "cell_type": "markdown",
   "id": "e573283d-14bb-453b-be26-827939808bcd",
   "metadata": {},
   "source": [
    "# 序"
   ]
  },
  {
   "cell_type": "markdown",
   "id": "3fc58a79-d9bc-496c-9582-870e4e0781b4",
   "metadata": {},
   "source": [
    "在无监督学习中，模型评估与选择通常是一个非常定性的过程"
   ]
  },
  {
   "cell_type": "markdown",
   "id": "dc6b85af-f8d6-4647-84a3-9a748186b751",
   "metadata": {},
   "source": [
    "到目前为止，为了评估我们的监督模型，我们使用 train_test _split 函数将数据集划分为训练集和测试集，在训练集上调用 fit 方法来构建模型，并且在测试集上用 score 方法来评估这个模型一一对于分类问题而言，就是计算正确分类的样本所占的比例。"
   ]
  },
  {
   "cell_type": "code",
   "execution_count": 1,
   "id": "b17bdf7c-7aac-40ac-a7c0-9a7f33171c73",
   "metadata": {},
   "outputs": [
    {
     "name": "stdout",
     "output_type": "stream",
     "text": [
      "Test set score: 0.880\n"
     ]
    }
   ],
   "source": [
    "from sklearn.datasets import make_blobs\n",
    "from sklearn.linear_model import LogisticRegression\n",
    "from sklearn.model_selection import train_test_split\n",
    "\n",
    "X, y = make_blobs(random_state=0)\n",
    "X_train, X_test, y_train, y_test = train_test_split(X, y,random_state=0)\n",
    "logreg = LogisticRegression().fit(X_train, y_train)\n",
    "print(\"Test set score: {:.3f}\".format(logreg.score(X_test, y_test)))"
   ]
  },
  {
   "cell_type": "markdown",
   "id": "daaa5d51-5a2f-4765-a708-9e59b579c78e",
   "metadata": {},
   "source": [
    "之所以将数据划分为训练集和测试集，是因为我们想要度量模型对前所未见的新数据的泛化性能。我们对模型在训练集上的拟合效果不感兴趣，而是想知道模型对于训练过程中没有见过的数据的预测能力。"
   ]
  },
  {
   "cell_type": "markdown",
   "id": "ae44dff7-cae6-4a52-80b3-856f56e77a08",
   "metadata": {},
   "source": [
    "本章我们将从两个方面进行模型评估。我们首先介绍交叉验证，然后讨论评估分类和回归性能的方法，其中前者是一种更可靠的评估泛化性能的方法，后者是在默认度量 (score方法给出的精度和R)之外的方法。"
   ]
  },
  {
   "cell_type": "markdown",
   "id": "ba3de194-e7eb-4cd2-8e2b-82b1e05d82c4",
   "metadata": {},
   "source": [
    "我们还将讨论网格搜索，这是一种调节监督模型参数以获得最佳泛化性能的有效方法。`"
   ]
  },
  {
   "cell_type": "code",
   "execution_count": null,
   "id": "2042e0d0-ff72-4683-8b6c-a98c6ce0d7cc",
   "metadata": {},
   "outputs": [],
   "source": []
  }
 ],
 "metadata": {
  "kernelspec": {
   "display_name": "Python 3 (ipykernel)",
   "language": "python",
   "name": "python3"
  },
  "language_info": {
   "codemirror_mode": {
    "name": "ipython",
    "version": 3
   },
   "file_extension": ".py",
   "mimetype": "text/x-python",
   "name": "python",
   "nbconvert_exporter": "python",
   "pygments_lexer": "ipython3",
   "version": "3.9.13"
  }
 },
 "nbformat": 4,
 "nbformat_minor": 5
}
