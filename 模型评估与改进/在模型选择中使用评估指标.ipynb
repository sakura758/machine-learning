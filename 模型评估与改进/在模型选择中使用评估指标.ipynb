{
 "cells": [
  {
   "cell_type": "markdown",
   "id": "b985bae0-15f5-4135-a9c2-0c16cc176a45",
   "metadata": {},
   "source": [
    "# 在模型选择中使用评估指标"
   ]
  },
  {
   "cell_type": "markdown",
   "id": "017cea33-bef2-4a0e-8f3c-e33b73b80be2",
   "metadata": {},
   "source": [
    "我们通常希望，在使用GridSearchCV或 cross_val_score进行模型选择时能够使用AUC等指标。幸运的是，sctkit-learn提供了一种非常简单的实现方法,就是scoring参数， 它可以同时用于GridSearchCV和cross_val_score。你只需提供一个字符串，用于描述想要使用的评估指标。举个例子，我们想用AUC分数对digits数据集中“9 与其他”任务上的SVM分类器进行评估。想要将分数从默认值(精度)修改为AUC ,可以提供\"roc_jauc\"作为scoring参数的值："
   ]
  },
  {
   "cell_type": "code",
   "execution_count": 1,
   "id": "aef2d97e-2960-45c3-8fef-eae4d11da236",
   "metadata": {},
   "outputs": [
    {
     "name": "stdout",
     "output_type": "stream",
     "text": [
      "Defualt scoring: [0.975      0.99166667 1.         0.99442897 0.98050139]\n",
      "Explicit accuracy scoring: [0.975, 0.992, 1.000, 0.994, 0.981]\n",
      "AUC scoring: [0.997, 0.999, 1.000, 1.000, 0.984]\n"
     ]
    }
   ],
   "source": [
    "# 分类问题的默认评分是精度\n",
    "from sklearn.model_selection import cross_val_score\n",
    "from sklearn.svm import SVC\n",
    "from sklearn.datasets import load_digits\n",
    "\n",
    "digits = load_digits()\n",
    "print(\"Defualt scoring: {}\".format(cross_val_score(SVC(), digits.data, digits.target == 9)))\n",
    "\n",
    "# 指定 scoring=\"accuracy\" 不会改便结果\n",
    "explicit_accuracy = cross_val_score(SVC(), digits.data, digits.target == 9, scoring=\"accuracy\")\n",
    "\n",
    "\n",
    "# 使用适当的格式字符串将每个分数保留三位小数并格式化为字符串\n",
    "formatted_scores = [\"{:.3f}\".format(score) for score in explicit_accuracy]     \n",
    "\n",
    "#将格式化后的字符串连接起来\n",
    "explicit_accuracy = \", \".join(formatted_scores) \n",
    "print(\"Explicit accuracy scoring: [{}]\".format(explicit_accuracy))\n",
    "\n",
    "roc_auc = cross_val_score(SVC(), digits.data, digits.target == 9, scoring=\"roc_auc\")\n",
    "# 使用适当的格式字符串将每个分数保留三位小数并格式化为字符串\n",
    "formatted_score = [\"{:.3f}\".format(scores) for scores in roc_auc]     \n",
    "\n",
    "#将格式化后的字符串连接起来\n",
    "roc_auc = \", \".join(formatted_score)\n",
    "print(\"AUC scoring: [{}]\".format(roc_auc))"
   ]
  },
  {
   "cell_type": "markdown",
   "id": "ee125dbd-4903-474a-9723-aab5014e1ec6",
   "metadata": {},
   "source": [
    "类似地，我们可以改变GridSearchCV中用于选择最佳参数的指标:"
   ]
  },
  {
   "cell_type": "code",
   "execution_count": 2,
   "id": "e0fff4c5-9dbb-416f-bfa4-8718802b2487",
   "metadata": {},
   "outputs": [],
   "source": [
    "from sklearn.model_selection import train_test_split\n",
    "X_train, X_test, y_train, y_test = train_test_split(digits.data, digits.target == 9, random_state=0)"
   ]
  },
  {
   "cell_type": "code",
   "execution_count": 3,
   "id": "1070c24a-9fd3-462a-9674-d5d921943674",
   "metadata": {},
   "outputs": [
    {
     "name": "stdout",
     "output_type": "stream",
     "text": [
      "Grid-Search with accuracy:\n",
      "Best parameters: {'gamma': 0.0001}\n",
      "Best cross-validation score (accuracy)) : 0.976\n",
      "Test set AUC: 0.992\n",
      "Test set accuracy: 0.973\n"
     ]
    }
   ],
   "source": [
    "\n",
    "from sklearn.model_selection import GridSearchCV\n",
    "from sklearn.metrics import roc_auc_score\n",
    "# 我们给出「不太好的网格来说明：\n",
    "param_grid = {'gamma': [0.0001, 0.01, 0.1, 1, 10]}\n",
    "# 使甬默认的精度；\n",
    "grid = GridSearchCV(SVC(), param_grid=param_grid) \n",
    "grid.fit(X_train , y_train) \n",
    "print(\"Grid-Search with accuracy:\") \n",
    "print(\"Best parameters:\", grid.best_params_) \n",
    "print(\"Best cross-validation score (accuracy)) : {:.3f}\".format(grid.best_score_)) \n",
    "print(\"Test set AUC: {:.3f}\".format(roc_auc_score(y_test, grid.decision_function(X_test))))\n",
    "print(\"Test set accuracy: {:.3f}\".format(grid.score(X_test, y_test)))"
   ]
  },
  {
   "cell_type": "code",
   "execution_count": 4,
   "id": "6b68b710-8705-443a-ba69-13dfb5cec916",
   "metadata": {},
   "outputs": [
    {
     "name": "stdout",
     "output_type": "stream",
     "text": [
      "\n",
      "Grid-Search with AUC\n",
      "Best parameters: {'gamma': 0.01}\n",
      "Best cross-validation score (AUC): 0.998\n",
      "Test set AUC: 1.000\n",
      "Test set accuracy: 1.000\n"
     ]
    }
   ],
   "source": [
    "# 使用AUC评分来代替：\n",
    "grid = GridSearchCV(SVC(), param_grid=param_grid, scoring=\"roc_auc\") \n",
    "grid.fit(X_train , y_train) \n",
    "print(\"\\nGrid-Search with AUC\") \n",
    "print(\"Best parameters:\", grid.best_params_) \n",
    "print(\"Best cross-validation score (AUC): {:.3f}\".format(grid.best_score_)) \n",
    "print(\"Test set AUC: {:.3f}\".format(roc_auc_score(y_test, grid.decision_function(X_test)))) \n",
    "print(\"Test set accuracy: {:.3f}\".format(grid.score(X_test, y_test)))"
   ]
  },
  {
   "cell_type": "markdown",
   "id": "b3a51685-e3a3-479f-b11a-fb5fde194781",
   "metadata": {},
   "source": [
    "在使用精度时,选择的参数是gamma=0.001，而使用AUC时选择的参数是gamma=0.0l。在两种情况下，交叉验证精度与测试集精度是一致的。但是，使用AUC找到的参数设置，对应的AUC更高，甚至对应的精度也更高。"
   ]
  },
  {
   "cell_type": "markdown",
   "id": "e644d3aa-4d7b-413f-b7a1-102d926c6601",
   "metadata": {},
   "source": [
    "对于分类问题,scoring参数最重要的取值包括:accuracy（默认值）、roc_auc （ROC曲线下方的面积）、average_prectsion（准确率-召回率曲线下方的积）、f1, f1_macro, f1_micro和f1_weighted（这四个是二分类的f-分数以及各种加权变体）。对于回归问题最常用的取值包括:R^2（ R^2 分数），mean_squared_error（均方误差）和mean_absolute_error（平均绝对误差）。"
   ]
  },
  {
   "cell_type": "code",
   "execution_count": 5,
   "id": "96b7c0cf-f00f-4529-8605-5326c3f8394f",
   "metadata": {},
   "outputs": [
    {
     "name": "stdout",
     "output_type": "stream",
     "text": [
      "Available scorers: \n",
      " ['accuracy', 'adjusted_mutual_info_score', 'adjusted_rand_score', 'average_precision', 'balanced_accuracy', 'completeness_score', 'explained_variance', 'f1', 'f1_macro', 'f1_micro', 'f1_samples', 'f1_weighted', 'fowlkes_mallows_score', 'homogeneity_score', 'jaccard', 'jaccard_macro', 'jaccard_micro', 'jaccard_samples', 'jaccard_weighted', 'matthews_corrcoef', 'max_error', 'mutual_info_score', 'neg_brier_score', 'neg_log_loss', 'neg_mean_absolute_error', 'neg_mean_absolute_percentage_error', 'neg_mean_gamma_deviance', 'neg_mean_poisson_deviance', 'neg_mean_squared_error', 'neg_mean_squared_log_error', 'neg_median_absolute_error', 'neg_negative_likelihood_ratio', 'neg_root_mean_squared_error', 'normalized_mutual_info_score', 'positive_likelihood_ratio', 'precision', 'precision_macro', 'precision_micro', 'precision_samples', 'precision_weighted', 'r2', 'rand_score', 'recall', 'recall_macro', 'recall_micro', 'recall_samples', 'recall_weighted', 'roc_auc', 'roc_auc_ovo', 'roc_auc_ovo_weighted', 'roc_auc_ovr', 'roc_auc_ovr_weighted', 'top_k_accuracy', 'v_measure_score']\n"
     ]
    }
   ],
   "source": [
    "from sklearn.metrics._scorer import SCORERS\n",
    "print(\"Available scorers: \\n {}\".format(sorted(SCORERS.keys())))"
   ]
  },
  {
   "cell_type": "code",
   "execution_count": null,
   "id": "3480a3c0-0930-450b-85d8-e72d464d162a",
   "metadata": {},
   "outputs": [],
   "source": []
  }
 ],
 "metadata": {
  "kernelspec": {
   "display_name": "Python 3 (ipykernel)",
   "language": "python",
   "name": "python3"
  },
  "language_info": {
   "codemirror_mode": {
    "name": "ipython",
    "version": 3
   },
   "file_extension": ".py",
   "mimetype": "text/x-python",
   "name": "python",
   "nbconvert_exporter": "python",
   "pygments_lexer": "ipython3",
   "version": "3.9.13"
  }
 },
 "nbformat": 4,
 "nbformat_minor": 5
}
