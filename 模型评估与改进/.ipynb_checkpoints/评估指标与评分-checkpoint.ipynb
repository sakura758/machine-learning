{
 "cells": [
  {
   "cell_type": "markdown",
   "id": "7b050564-f888-4322-a878-fd14b67c9b7b",
   "metadata": {},
   "source": [
    "# 评估指标与评分"
   ]
  },
  {
   "cell_type": "markdown",
   "id": "8f7b7dec-3eb3-4535-aa2c-a53ce75292f3",
   "metadata": {},
   "source": [
    "到目前为止，我们使用精度(正确分类的样本所占的比例)来评估分类性能，使用R^2来评估回归性能。但是，总结监督模型在给定数据集上的表现行多种方法,这两个指标只是 其中两种。在实践中，这些评估指标可能不适用于你的应用。在选择模型与调参时，选择 正确的指标是很重要的。"
   ]
  },
  {
   "cell_type": "markdown",
   "id": "f84fc58d-54fa-47d6-882d-bc1ea4603db5",
   "metadata": {},
   "source": [
    "## 1.牢记最终目标"
   ]
  },
  {
   "cell_type": "code",
   "execution_count": null,
   "id": "542d933d-4b44-4154-b8b2-2e8f798ec7ca",
   "metadata": {},
   "outputs": [],
   "source": []
  }
 ],
 "metadata": {
  "kernelspec": {
   "display_name": "Python 3 (ipykernel)",
   "language": "python",
   "name": "python3"
  },
  "language_info": {
   "codemirror_mode": {
    "name": "ipython",
    "version": 3
   },
   "file_extension": ".py",
   "mimetype": "text/x-python",
   "name": "python",
   "nbconvert_exporter": "python",
   "pygments_lexer": "ipython3",
   "version": "3.9.13"
  }
 },
 "nbformat": 4,
 "nbformat_minor": 5
}
