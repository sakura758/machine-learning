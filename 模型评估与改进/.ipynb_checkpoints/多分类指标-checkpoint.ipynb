{
 "cells": [
  {
   "cell_type": "markdown",
   "id": "29506840-15e1-4901-87c7-1b64adcd9318",
   "metadata": {},
   "source": [
    "# 多分类指标"
   ]
  },
  {
   "cell_type": "markdown",
   "id": "d0bb5014-5c08-40b6-bb4d-1102bc94c73c",
   "metadata": {},
   "source": [
    "多分类问题的所有指标基本上都来自于二分类指标，但是要对所有类别进行平均。多分类的精度被定义为正确分类的样本所占的比例。同样，如果类别是不平衡的，精度并不是很好的评估度量。想象一个三分类问题，其中85%的数据点属于类别A。 10%属干类别B，5%属干类别C。在这个数据集上85%的精度说明了什么?一般来说，多分类结果比二分类结果更加难以理解，除了精度，常用的工具有混淆矩阵和分类报告,我们在二分类的例子中都见过。"
   ]
  },
  {
   "cell_type": "markdown",
   "id": "161c1fa6-e870-4f93-bf4e-9210bad1cf0e",
   "metadata": {},
   "source": [
    "将这两种详细的评估方法应用于对digits数据集中10种不同的手写数字进行分类的任务："
   ]
  },
  {
   "cell_type": "code",
   "execution_count": 3,
   "id": "7e48902b-3a08-49f7-955f-ad73d888a35f",
   "metadata": {},
   "outputs": [
    {
     "name": "stdout",
     "output_type": "stream",
     "text": [
      "Accuary: 0.951\n",
      "Confusion matrix: \n",
      " [[37  0  0  0  0  0  0  0  0  0]\n",
      " [ 0 40  0  0  0  0  0  0  2  1]\n",
      " [ 0  1 40  3  0  0  0  0  0  0]\n",
      " [ 0  0  0 43  0  0  0  0  1  1]\n",
      " [ 0  0  0  0 37  0  0  1  0  0]\n",
      " [ 0  0  0  0  0 46  0  0  0  2]\n",
      " [ 0  1  0  0  0  0 51  0  0  0]\n",
      " [ 0  0  0  1  1  0  0 46  0  0]\n",
      " [ 0  3  1  0  0  0  0  0 43  1]\n",
      " [ 0  0  0  0  0  1  0  0  1 45]]\n"
     ]
    },
    {
     "name": "stderr",
     "output_type": "stream",
     "text": [
      "D:\\python\\lib\\site-packages\\sklearn\\linear_model\\_logistic.py:458: ConvergenceWarning: lbfgs failed to converge (status=1):\n",
      "STOP: TOTAL NO. of ITERATIONS REACHED LIMIT.\n",
      "\n",
      "Increase the number of iterations (max_iter) or scale the data as shown in:\n",
      "    https://scikit-learn.org/stable/modules/preprocessing.html\n",
      "Please also refer to the documentation for alternative solver options:\n",
      "    https://scikit-learn.org/stable/modules/linear_model.html#logistic-regression\n",
      "  n_iter_i = _check_optimize_result(\n"
     ]
    }
   ],
   "source": [
    "from sklearn.datasets import load_digits\n",
    "from sklearn.model_selection import train_test_split\n",
    "from sklearn.linear_model import LogisticRegression\n",
    "from sklearn.metrics import accuracy_score,confusion_matrix\n",
    "\n",
    "digits = load_digits()\n",
    "X_train, X_test, y_train, y_test = train_test_split(digits.data, digits.target, random_state=0)\n",
    "lr = LogisticRegression().fit(X_train, y_train)\n",
    "pred = lr.predict(X_test)\n",
    "print(\"Accuary: {:.3f}\".format(accuracy_score(y_test, pred)))\n",
    "print(\"Confusion matrix: \\n {}\".format(confusion_matrix(y_test, pred)))"
   ]
  },
  {
   "cell_type": "markdown",
   "id": "11d2b917-7a46-4688-b1ac-cd8a4f24ba4a",
   "metadata": {},
   "source": [
    "模型的精度为95.3%,这表示我们已经做得相当好了。混淆矩阵为我们提供了更多细节。与二分类的情况相同，每一行对应于真实标签，每一列对应于预测标签。下图给出了一张视觉上更加吸引人的图像:"
   ]
  },
  {
   "cell_type": "code",
   "execution_count": 7,
   "id": "b6d31ca6-9287-4252-a698-c87491a84ed8",
   "metadata": {},
   "outputs": [
    {
     "data": {
      "image/png": "[encoded data removed]",
      "text/plain": [
       "<Figure size 640x480 with 1 Axes>"
      ]
     },
     "metadata": {},
     "output_type": "display_data"
    }
   ],
   "source": [
    "# 10个数字分类任务的混淆矩阵\n",
    "import mglearn\n",
    "import matplotlib.pyplot as plt\n",
    "scores_image = mglearn.tools.heatmap(confusion_matrix(y_test, pred), xlabel='Predicted label', ylabel='True label', \n",
    "                                    xticklabels=digits.target_names, yticklabels=digits.target_names,  cmap=plt.cm.gray_r,fmt=\"%d\")\n",
    "plt.title(\"Confusion matrix\")\n",
    "plt.gca().invert_yaxis()\n",
    "# gca 代表 \"get current axis\"，它获取当前图表的坐标轴。\n",
    "# invert_yaxis()：这是一个方法，用于反转 y 轴的方向。当调用这个方法时，y 轴上的值从上到下的方向将被反转，即最大值在顶部，最小值在底部。\n",
    "# plt.gca().invert_yaxis() 的作用是在 Matplotlib 中反转当前图表的 y 轴方向，使得图形的顶部变成 y 轴的最小值，底部变成 y 轴的最大值。"
   ]
  },
  {
   "cell_type": "markdown",
   "id": "c09b6d69-f14d-4466-85ec-a1f608247b77",
   "metadata": {},
   "source": [
    "对于第一个类别（数字0）, 它包含37个样本，所有这些样本都被划为类别0 （即类别0，没有假反例）。我们之所以可以看出这一点，是因为混淆矩阵第一行中其他所有元素都为0。我们还可以看到，没有其他数字被误分类为类别0，这是因为混淆矩阵第一列中其他所有元素都为0（即类别0 没有假正例）。但是有些数字与其他数字混在一起比如数字2（第3 行），其中有3个被划分到数字3 中（第4列），还有一个数字1被划分到数字2 中。"
   ]
  },
  {
   "cell_type": "markdown",
   "id": "a9b912b0-ec85-43d2-a4af-8c287932ac6b",
   "metadata": {},
   "source": [
    "利用classification_report函数，我们可以计算每个类别的准确率、召回率和f-分数："
   ]
  },
  {
   "cell_type": "code",
   "execution_count": 9,
   "id": "f00a559f-282f-453b-afaf-8bc91e047ac4",
   "metadata": {},
   "outputs": [
    {
     "name": "stdout",
     "output_type": "stream",
     "text": [
      "              precision    recall  f1-score   support\n",
      "\n",
      "           0       1.00      1.00      1.00        37\n",
      "           1       0.89      0.93      0.91        43\n",
      "           2       0.98      0.91      0.94        44\n",
      "           3       0.91      0.96      0.93        45\n",
      "           4       0.97      0.97      0.97        38\n",
      "           5       0.98      0.96      0.97        48\n",
      "           6       1.00      0.98      0.99        52\n",
      "           7       0.98      0.96      0.97        48\n",
      "           8       0.91      0.90      0.91        48\n",
      "           9       0.90      0.96      0.93        47\n",
      "\n",
      "    accuracy                           0.95       450\n",
      "   macro avg       0.95      0.95      0.95       450\n",
      "weighted avg       0.95      0.95      0.95       450\n",
      "\n"
     ]
    }
   ],
   "source": [
    "from sklearn.metrics import classification_report\n",
    "print(classification_report(y_test, pred))"
   ]
  },
  {
   "cell_type": "markdown",
   "id": "e223cba5-9450-4966-96cd-37a001571b7d",
   "metadata": {},
   "source": [
    "不出所料，类别0 的准确率和召回率都是完美的1 ,因为这个类别中没有混淆。另一方面，对干类别6 ,准确率为1。这是因为没有其他类别被误分类为6。我们还可以看到，模型对类别8、9和类别3的表现特别不好。"
   ]
  },
  {
   "cell_type": "markdown",
   "id": "6c456eae-bf3b-4b92-a868-c154b7eb1644",
   "metadata": {},
   "source": [
    "对于多分类问题中的不平衡数据集，最常用的指标就是多分类版本的f-分数。多分类f-分数背后的想法是，对每个类别计算一个二分类户分数，其中该类别是正类，其他所有类别组成反类。然后，使用以下策略之一对这些按类别户分数进行平均。"
   ]
  },
  {
   "cell_type": "markdown",
   "id": "62b92e83-e17f-47eb-a596-017a74f1b83d",
   "metadata": {},
   "source": [
    "■ “宏”(macro)平均：计算未加权的按类别f-分数，它对所有类别给出相同的权重,无论类别中的样本量大小。           \n",
    "■ \"加权\"(weighted)平均：以每个类别的支持作为权重来计算按类别产分数的平均值。分类报告中给出的就是这个值。   \n",
    "■ “微”(m icro)平均：计算所有类别中假正例、假反例和真正例的总数，然后利用这些计数来计算准确率、召回率和f-分数。"
   ]
  },
  {
   "cell_type": "markdown",
   "id": "fbe5a719-3961-4844-a6d6-c7b4885af4b0",
   "metadata": {},
   "source": [
    "如果你对每个**样本**等同看待，那么推荐使用“微”平均f-分数:如果你对每个**类别**等同看待,那么推荐使用“宏\"平均f-分数："
   ]
  },
  {
   "cell_type": "code",
   "execution_count": 11,
   "id": "ee7d2a67-f57d-43a8-809f-4bb279616e3b",
   "metadata": {},
   "outputs": [
    {
     "name": "stdout",
     "output_type": "stream",
     "text": [
      "Micro average f1 score: 0.951\n",
      "Macro average f1 score: 0.952\n"
     ]
    }
   ],
   "source": [
    "from sklearn.metrics import f1_score\n",
    "\n",
    "print(\"Micro average f1 score: {:.3f}\".format(f1_score(y_test, pred, average=\"micro\"))) \n",
    "print(\"Macro average f1 score: {:.3f}\".format(f1_score(y_test, pred, average=\"macro\")))"
   ]
  },
  {
   "cell_type": "code",
   "execution_count": null,
   "id": "0271c124-e3a2-46ed-b138-af633b30ea79",
   "metadata": {},
   "outputs": [],
   "source": []
  }
 ],
 "metadata": {
  "kernelspec": {
   "display_name": "Python 3 (ipykernel)",
   "language": "python",
   "name": "python3"
  },
  "language_info": {
   "codemirror_mode": {
    "name": "ipython",
    "version": 3
   },
   "file_extension": ".py",
   "mimetype": "text/x-python",
   "name": "python",
   "nbconvert_exporter": "python",
   "pygments_lexer": "ipython3",
   "version": "3.9.13"
  }
 },
 "nbformat": 4,
 "nbformat_minor": 5
}
