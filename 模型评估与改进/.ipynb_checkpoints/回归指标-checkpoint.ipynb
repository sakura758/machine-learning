{
 "cells": [
  {
   "cell_type": "markdown",
   "id": "cf84ca5f-2e46-47c1-a37f-4d2cc0e9b20e",
   "metadata": {},
   "source": [
    "# 回归指标"
   ]
  },
  {
   "cell_type": "markdown",
   "id": "a638b6ae-ac0f-4671-b9cb-709911c81e0a",
   "metadata": {},
   "source": [
    "对回归问题可以像分类问题一样进行详细评估，例如，对目标值估计过高与目标值估计过低进行对比分析。但是，对于我们见过的大多数应用来说，使用默认R^2就足够了，它由所存回归器的score方法给出。业务决策有时是根据均方误差或平均绝对误差做出的，这可能会鼓励人们使用这些指标来调节模型。但是一般来说，我们认为R^2是评估回归模型的更直观的指标。"
   ]
  },
  {
   "cell_type": "code",
   "execution_count": null,
   "id": "481b191b-620a-4029-8795-19077a532e74",
   "metadata": {},
   "outputs": [],
   "source": []
  }
 ],
 "metadata": {
  "kernelspec": {
   "display_name": "Python 3 (ipykernel)",
   "language": "python",
   "name": "python3"
  },
  "language_info": {
   "codemirror_mode": {
    "name": "ipython",
    "version": 3
   },
   "file_extension": ".py",
   "mimetype": "text/x-python",
   "name": "python",
   "nbconvert_exporter": "python",
   "pygments_lexer": "ipython3",
   "version": "3.9.13"
  }
 },
 "nbformat": 4,
 "nbformat_minor": 5
}
