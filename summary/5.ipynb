{
 "cells": [
  {
   "cell_type": "markdown",
   "metadata": {},
   "source": [
    "# 1. imshow()"
   ]
  },
  {
   "cell_type": "markdown",
   "metadata": {},
   "source": [
    "imshow() 函数是 Matplotlib 库中的一个函数，用于显示图像    \n",
    "imshow()函数常用于绘制二维的灰度图像或彩色图像    \n",
    "imshow() 函数可用于绘制矩阵、热力图、地图等    "
   ]
  },
  {
   "cell_type": "markdown",
   "metadata": {},
   "source": [
    "imshow(X, cmap=None, norm=None, aspect=None, interpolation=None, alpha=None, vmin=None, vmax=None, origin=None, extent=None, shape=None, filternorm=1, filterrad=4.0, imlim=None, resample=None, url=None, *, data=None, **kwargs)\n"
   ]
  },
  {
   "cell_type": "markdown",
   "metadata": {},
   "source": [
    "参数说明：\n",
    "\n",
    "X：输入数据。可以是二维数组、三维数组、PIL图像对象、matplotlib路径对象等。     \n",
    "cmap：颜色映射。用于控制图像中不同数值所对应的颜色。可以选择内置的颜色映射，如gray、hot、jet等，也可以自定义颜色映射。      \n",
    "norm：用于控制数值的归一化方式。可以选择Normalize、LogNorm等归一化方法。     \n",
    "aspect：控制图像纵横比（aspect ratio）。可以设置为auto或一个数字。      \n",
    "interpolation：插值方法。用于控制图像的平滑程度和细节程度。可以选择nearest、bilinear、bicubic等插值方法。     \n",
    "alpha：图像透明度。取值范围为0~1。     \n",
    "origin：坐标轴原点的位置。可以设置为upper或lower。    \n",
    "extent：控制显示的数据范围。可以设置为[xmin, xmax, ymin, ymax]。    \n",
    "vmin、vmax：控制颜色映射的值域范围。    \n",
    "filternorm 和 filterrad：用于图像滤波的对象。可以设置为None、antigrain、freetype等。    \n",
    "imlim： 用于指定图像显示范围。    \n",
    "resample：用于指定图像重采样方式。    \n",
    "url：用于指定图像链接。    "
   ]
  },
  {
   "cell_type": "code",
   "execution_count": 2,
   "metadata": {},
   "outputs": [
    {
     "data": {
      "image/png": "[encoded data removed]",
      "text/plain": [
       "<Figure size 640x480 with 1 Axes>"
      ]
     },
     "metadata": {},
     "output_type": "display_data"
    }
   ],
   "source": [
    "import matplotlib.pyplot as plt\n",
    "import numpy as np\n",
    "\n",
    "# 生成一个二维随机数组\n",
    "img = np.random.rand(10, 10)\n",
    "\n",
    "# 绘制灰度图像\n",
    "plt.imshow(img, cmap='gray')\n",
    "\n",
    "# 显示图像\n",
    "plt.show()"
   ]
  },
  {
   "cell_type": "code",
   "execution_count": null,
   "metadata": {},
   "outputs": [],
   "source": []
  },
  {
   "cell_type": "code",
   "execution_count": null,
   "metadata": {},
   "outputs": [],
   "source": []
  },
  {
   "cell_type": "code",
   "execution_count": null,
   "metadata": {},
   "outputs": [],
   "source": []
  },
  {
   "cell_type": "markdown",
   "metadata": {},
   "source": [
    "**pca = PCA(n_components=100, whiten=True, random_state=0)    \n",
    "pca.fit_transform(X_people)    \n",
    "X_pca = pca.transform(X_people)**"
   ]
  },
  {
   "cell_type": "markdown",
   "metadata": {},
   "source": [
    "当您对同一数据多次执行 PCA 降维时，数据在每一步都会经历转换。以下是执行两次 PCA 过程中数据的变化：\n",
    "\n",
    "\n",
    "第一次 PCA 变换 (pca.fit_transform(X_people))：\n",
    "\n",
    "第一个 PCA 变换识别数据中捕获最显着方差的方向（主成分）。\n",
    "数据被投影到由这些主成分定义的低维子空间上。\n",
    "转换后的数据根据这些新坐标有效地表示原始数据。\n",
    "\n",
    "\n",
    "第二次 PCA 变换（X_pca = pca.transform(X_people)）：\n",
    "\n",
    "第二次 PCA 转换将 PCA 应用于第一步中已转换的数据。\n",
    "由于数据已经被投影到较低维度的空间，因此这一步将其进一步投影到由从第一个 PCA 学到的主成分定义的更低维度的子空间。\n",
    "结果是原始数据的更加压缩的表示。\n",
    "值得注意的是，第二个 PCA 变换将在第一组主成分定义的子空间中进行操作。这意味着它正在已经降维的空间中寻找捕获最显着方差的方向。\n",
    "\n",
    "总之，执行两次 PCA 会导致进一步降维。第一个 PCA 变换识别数据中最显着的方差方向，第二个变换通过将数据投影到更低维的子空间来进一步细化这一方向。\n",
    "请记住，这种方法可能并不总是能产生有益的结果，应根据具体应用和数据特征明智地使用。"
   ]
  },
  {
   "cell_type": "code",
   "execution_count": null,
   "metadata": {},
   "outputs": [],
   "source": []
  },
  {
   "cell_type": "code",
   "execution_count": null,
   "metadata": {},
   "outputs": [],
   "source": []
  },
  {
   "cell_type": "markdown",
   "metadata": {},
   "source": [
    "# np.set_printoptions(precision=3, suppress=True, floatmode='fixed')"
   ]
  },
  {
   "cell_type": "markdown",
   "metadata": {},
   "source": [
    "要将\n",
    "[[ 1.00000000e+00 -7.52759287e-01  5.66646544e-01 -4.26548448e-01     \n",
    "   3.21088306e-01 -2.41702204e-01  1.81943579e-01 -1.36959719e-01      \n",
    "   1.03097700e-01 -7.76077513e-02  5.84199555e-02]      \n",
    " [ 1.00000000e+00  2.70428584e+00  7.31316190e+00  1.97768801e+01     \n",
    "   5.34823369e+01  1.44631526e+02  3.91124988e+02  1.05771377e+03     \n",
    "   2.86036036e+03  7.73523202e+03  2.09182784e+04]    \n",
    " [ 1.00000000e+00  1.39196365e+00  1.93756281e+00  2.69701700e+00     \n",
    "   3.75414962e+00  5.22563982e+00  7.27390068e+00  1.01250053e+01     \n",
    "   1.40936394e+01  1.96178338e+01  2.73073115e+01]   \n",
    " [ 1.00000000e+00  5.91950905e-01  3.50405874e-01  2.07423074e-01    \n",
    "   1.22784277e-01  7.26822637e-02  4.30243318e-02  2.54682921e-02     \n",
    "   1.50759786e-02  8.92423917e-03  5.28271146e-03]   \n",
    " [ 1.00000000e+00 -2.06388816e+00  4.25963433e+00 -8.79140884e+00    \n",
    "   1.81444846e+01 -3.74481869e+01  7.72888694e+01 -1.59515582e+02    \n",
    "   3.29222321e+02 -6.79478050e+02  1.40236670e+03]]     \n",
    "   转化为十进制类型"
   ]
  },
  {
   "cell_type": "markdown",
   "metadata": {},
   "source": [
    "使用np.set_printoptions(precision=3, suppress=True, floatmode='fixed')"
   ]
  },
  {
   "cell_type": "markdown",
   "metadata": {},
   "source": [
    "np.set_printoptions是 NumPy 中的一个函数，允许您配置打印 NumPy 数组时浮点数的显示方式。它提供了一种方便的方法来控制数值数据的精度、格式和其他显示选项。     \n",
    "\n",
    "以下是一些常用的参数np.set_printoptions：     \n",
    "\n",
    "precision：设置浮点值显示的位数。      \n",
    "threshold：设置触发汇总而不是完整表示的数组元素数量。      \n",
    "edgeitems：设置在每个维度的开头和结尾显示的数组元素的数量。    \n",
    "linewidth：设置每行的字符数，以便在输出中插入换行符。      \n",
    "suppress：如果为 True，则禁止使用科学记数法打印小浮点值。     \n",
    "floatmode：确定浮点值的显示模式。将其设置为“固定”以定点表示法显示它们。     "
   ]
  },
  {
   "cell_type": "code",
   "execution_count": null,
   "metadata": {},
   "outputs": [],
   "source": []
  }
 ],
 "metadata": {
  "kernelspec": {
   "display_name": "Python 3 (ipykernel)",
   "language": "python",
   "name": "python3"
  },
  "language_info": {
   "codemirror_mode": {
    "name": "ipython",
    "version": 3
   },
   "file_extension": ".py",
   "mimetype": "text/x-python",
   "name": "python",
   "nbconvert_exporter": "python",
   "pygments_lexer": "ipython3",
   "version": "3.9.13"
  }
 },
 "nbformat": 4,
 "nbformat_minor": 4
}
