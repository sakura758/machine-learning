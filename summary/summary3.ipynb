{
 "cells": [
  {
   "cell_type": "markdown",
   "metadata": {},
   "source": [
    "# 1. np.c_"
   ]
  },
  {
   "cell_type": "markdown",
   "metadata": {},
   "source": [
    "np.c_是 NumPy 提供的一种简写符号，用于通过沿第二个轴堆叠数字来创建数组，通常用于连接两个或多个数组或从现有数组创建新数组。"
   ]
  },
  {
   "cell_type": "markdown",
   "metadata": {},
   "source": [
    "(1) 连接数组：您可以用来np.c_沿第二个轴（列）连接两个或多个数组，有效地水平堆叠它们。当使用一维数组创建二维数组时，这特别有用。例如："
   ]
  },
  {
   "cell_type": "code",
   "execution_count": 1,
   "metadata": {},
   "outputs": [
    {
     "name": "stdout",
     "output_type": "stream",
     "text": [
      "[[1 4]\n",
      " [2 5]\n",
      " [3 6]]\n"
     ]
    }
   ],
   "source": [
    "import numpy as np\n",
    "\n",
    "array1 = np.array([1, 2, 3])\n",
    "array2 = np.array([4, 5, 6])\n",
    "\n",
    "concatenated = np.c_[array1, array2]\n",
    "\n",
    "print(concatenated)\n"
   ]
  },
  {
   "cell_type": "markdown",
   "metadata": {},
   "source": [
    "（2）创建新数组：您还可以使用np.c_现有数组创建新数组，在每列中定义所需的值。例如："
   ]
  },
  {
   "cell_type": "code",
   "execution_count": 3,
   "metadata": {},
   "outputs": [
    {
     "name": "stdout",
     "output_type": "stream",
     "text": [
      "[[ 1 40  1]\n",
      " [ 2 50  4]\n",
      " [ 3 60  9]]\n"
     ]
    }
   ],
   "source": [
    "array1 = np.array([1, 2, 3])\n",
    "array2 = np.array([4, 5, 6])\n",
    "\n",
    "new_array = np.c_[array1, 10 * array2, array1**2]\n",
    "\n",
    "print(new_array)"
   ]
  },
  {
   "cell_type": "markdown",
   "metadata": {},
   "source": [
    "np.c_是使用 NumPy 数组的便捷方法，特别是当您想要连接数组或按列构建新数组时。沿第一轴（行）串联的对应项是np.r_。"
   ]
  },
  {
   "cell_type": "code",
   "execution_count": null,
   "metadata": {},
   "outputs": [],
   "source": []
  },
  {
   "cell_type": "code",
   "execution_count": null,
   "metadata": {},
   "outputs": [],
   "source": []
  }
 ],
 "metadata": {
  "kernelspec": {
   "display_name": "Python 3",
   "language": "python",
   "name": "python3"
  },
  "language_info": {
   "codemirror_mode": {
    "name": "ipython",
    "version": 3
   },
   "file_extension": ".py",
   "mimetype": "text/x-python",
   "name": "python",
   "nbconvert_exporter": "python",
   "pygments_lexer": "ipython3",
   "version": "3.9.13"
  }
 },
 "nbformat": 4,
 "nbformat_minor": 2
}
