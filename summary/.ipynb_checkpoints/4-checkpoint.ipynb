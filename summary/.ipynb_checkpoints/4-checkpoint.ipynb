{
 "cells": [
  {
   "cell_type": "markdown",
   "metadata": {},
   "source": [
    "# 1. feature_names()"
   ]
  },
  {
   "cell_type": "code",
   "execution_count": 3,
   "metadata": {},
   "outputs": [
    {
     "data": {
      "text/plain": [
       "['sepal length (cm)',\n",
       " 'sepal width (cm)',\n",
       " 'petal length (cm)',\n",
       " 'petal width (cm)']"
      ]
     },
     "execution_count": 3,
     "metadata": {},
     "output_type": "execute_result"
    }
   ],
   "source": [
    "from sklearn.datasets import load_iris\n",
    "\n",
    "data = load_iris()\n",
    "feature_names = data.feature_names\n",
    "feature_names"
   ]
  },
  {
   "cell_type": "markdown",
   "metadata": {},
   "source": [
    "在常用于机器学习任务的 scikit-learn 库中，您可能会feature_names在其某些数据集中找到属性。属性feature_names不是函数，而是提供数据集中特征（属性）名称的属性或变量。"
   ]
  },
  {
   "cell_type": "code",
   "execution_count": null,
   "metadata": {},
   "outputs": [],
   "source": []
  },
  {
   "cell_type": "code",
   "execution_count": null,
   "metadata": {},
   "outputs": [],
   "source": []
  },
  {
   "cell_type": "markdown",
   "metadata": {},
   "source": [
    "# 2. bincount()"
   ]
  },
  {
   "cell_type": "markdown",
   "metadata": {},
   "source": [
    "np.bincount() 是 NumPy 中一个非常有用的函数，它用于计算非负整数数组中每个值的频次。\n",
    "\n",
    "具体来说，np.bincount() 接受一个一维的非负整数数组作为输入，然后返回一个数组，其中第 i 个元素表示整数 i 在输入数组中出现的次数。"
   ]
  },
  {
   "cell_type": "code",
   "execution_count": 1,
   "metadata": {},
   "outputs": [
    {
     "name": "stdout",
     "output_type": "stream",
     "text": [
      "[1 3 1 1 0 0 0 3]\n"
     ]
    }
   ],
   "source": [
    "import numpy as np\n",
    "\n",
    "# 创建一个输入数组\n",
    "arr = np.array([0, 1, 1, 3, 2, 1, 7, 7, 7])\n",
    "\n",
    "# 使用 np.bincount() 计算频次\n",
    "counts = np.bincount(arr)\n",
    "\n",
    "print(counts)"
   ]
  },
  {
   "cell_type": "markdown",
   "metadata": {},
   "source": [
    "输出将会是一个数组，其中第 i 个元素表示整数 i 在输入数组 arr 中出现的次数。\n",
    "\n",
    "注意，np.bincount() 对于负数或浮点数是不起作用的，因为它是基于整数计数的。"
   ]
  },
  {
   "cell_type": "code",
   "execution_count": null,
   "metadata": {},
   "outputs": [],
   "source": []
  },
  {
   "cell_type": "code",
   "execution_count": null,
   "metadata": {},
   "outputs": [],
   "source": []
  },
  {
   "cell_type": "markdown",
   "metadata": {},
   "source": [
    "# 3. np.argsort()"
   ]
  },
  {
   "cell_type": "markdown",
   "metadata": {},
   "source": [
    "格式：np.argsort(a)\n",
    "注意：返回的是元素值从小到大排序后的索引值的数组"
   ]
  },
  {
   "cell_type": "code",
   "execution_count": 5,
   "metadata": {},
   "outputs": [
    {
     "name": "stdout",
     "output_type": "stream",
     "text": [
      "a: [3 1 2 1 3 5]\n",
      "b1: [1 3 2 0 4 5]\n",
      "b2: [5 0 4 2 1 3]\n"
     ]
    }
   ],
   "source": [
    "import numpy as np\n",
    "a = np.array([3,1,2,1,3,5])\n",
    "print(\"a:\", a)\n",
    "\n",
    "b1 = np.argsort(a)                        # 对a按升序排列        \n",
    "b2 = np.argsort(-a)                       # 对a按降序排列        \n",
    "            \t\n",
    "print(\"b1:\", b1)\n",
    "print(\"b2:\", b2)"
   ]
  },
  {
   "cell_type": "code",
   "execution_count": null,
   "metadata": {},
   "outputs": [],
   "source": []
  },
  {
   "cell_type": "code",
   "execution_count": null,
   "metadata": {},
   "outputs": [],
   "source": []
  },
  {
   "cell_type": "markdown",
   "metadata": {},
   "source": [
    "# 4. numpy.random.RandomState()函数用法"
   ]
  },
  {
   "cell_type": "markdown",
   "metadata": {},
   "source": [
    "可以通过numpy工具包生成模拟数据集，使用RandomState获得随机数生成器\n",
    "\n",
    "from numpy.random import RandomState\n",
    " \n",
    "rdm = RandomState(1)     \n",
    "注意：这里1为随机数种子，只要随机数种子seed相同，产生的随机数系列就相同"
   ]
  },
  {
   "cell_type": "markdown",
   "metadata": {},
   "source": [
    "使用numpy.random.RandomState(1).uniform(1,2,(3,4))函数生成一个3行4列的数组，其中每个元素都是在[1,2]区间内 均匀分布 的随机数；"
   ]
  },
  {
   "cell_type": "code",
   "execution_count": 6,
   "metadata": {},
   "outputs": [
    {
     "name": "stdout",
     "output_type": "stream",
     "text": [
      "[[1.417022   1.72032449 1.00011437 1.30233257]\n",
      " [1.14675589 1.09233859 1.18626021 1.34556073]\n",
      " [1.39676747 1.53881673 1.41919451 1.6852195 ]]\n"
     ]
    }
   ],
   "source": [
    "from numpy.random import RandomState\n",
    "\n",
    "rdm = RandomState(1)  # 定义一个随机数种子\n",
    "a = rdm.uniform(1,2,(3,4))  # 产生一个3行4列的数组，其中每个元素都是在[1,2]区间内均匀分布的随机数\n",
    "print(a)"
   ]
  },
  {
   "cell_type": "markdown",
   "metadata": {},
   "source": [
    "uniform() 方法将随机生成下一个实数，它在 [x, y] 范围内。"
   ]
  },
  {
   "cell_type": "code",
   "execution_count": 8,
   "metadata": {},
   "outputs": [
    {
     "name": "stdout",
     "output_type": "stream",
     "text": [
      "uniform(5, 10) 的随机数为 :  9.23288936303289\n",
      "uniform(7, 14) 的随机数为 :  11.995112790051781\n"
     ]
    }
   ],
   "source": [
    "import random\n",
    " \n",
    "print(\"uniform(5, 10) 的随机数为 : \", random.uniform(5, 10))\n",
    " \n",
    "print (\"uniform(7, 14) 的随机数为 : \",  random.uniform(7, 14))"
   ]
  },
  {
   "cell_type": "code",
   "execution_count": null,
   "metadata": {},
   "outputs": [],
   "source": []
  },
  {
   "cell_type": "code",
   "execution_count": null,
   "metadata": {},
   "outputs": [],
   "source": []
  },
  {
   "cell_type": "markdown",
   "metadata": {},
   "source": [
    "# 5. Silhouette_score()"
   ]
  },
  {
   "cell_type": "markdown",
   "metadata": {},
   "source": [
    "silhouette_score是用于评估聚类任务中聚类质量的指标。它衡量同一簇内的相似数据点与相邻簇中的数据点的比较情况。较高的轮廓分数表明聚类分离良好并且聚类适当，而较低的分数表明数据点可能被分配到错误的聚类或者聚类重叠。"
   ]
  },
  {
   "cell_type": "markdown",
   "metadata": {},
   "source": [
    "silhouette_score函数通常采用以下参数："
   ]
  },
  {
   "cell_type": "markdown",
   "metadata": {},
   "source": [
    "X：这是您要聚类的数据。它是一个类似数组或特征矩阵，其中每行代表一个数据点，每列代表一个特征。\n",
    "\n",
    "labels：类数组或聚类标签列表，指示数据集中每个数据点的聚类分配。标签的长度应与数据集中数据点的数量相同。\n",
    "\n",
    "metric：该参数指定用于计算轮廓分数的距离度量。默认值为“euclidean”，它测量数据点之间的欧几里德距离。您还可以指定 scikit-learn 支持的其他距离度量，例如“manhattan”、“cosine”或自定义距离函数。\n",
    "\n",
    "sample_size（可选）：如果提供，它指定大型数据集的随机样本的大小。通过使用随机样本，您可以加快轮廓分数的计算速度，同时仍然获得完整数据集分数的估计。\n",
    "\n",
    "silhouette_score函数返回一个浮点值，它是所提供的聚类分配的轮廓分数。轮廓分数范围从-1到1："
   ]
  },
  {
   "cell_type": "markdown",
   "metadata": {},
   "source": [
    "接近 +1 的分数表示簇内的数据点与其他簇很好地分离，并且聚类是适当的。\n",
    "接近 0 的分数表明聚类重叠，或者数据点非常接近两个相邻聚类之间的决策边界。\n",
    "接近 -1 的分数表示数据点可能被分配到错误的聚类，并且聚类不合适。"
   ]
  },
  {
   "cell_type": "code",
   "execution_count": null,
   "metadata": {},
   "outputs": [],
   "source": []
  },
  {
   "cell_type": "code",
   "execution_count": null,
   "metadata": {},
   "outputs": [],
   "source": []
  },
  {
   "cell_type": "markdown",
   "metadata": {},
   "source": [
    "# 6. adjusted_rand_score()"
   ]
  },
  {
   "cell_type": "markdown",
   "metadata": {},
   "source": [
    "adjusted_rand_scoresklearn.metrics.cluster是scikit-learn 库中的模块提供的函数。它用于计算调整兰德指数（ARI）以评估两个聚类之间的相似性。"
   ]
  },
  {
   "cell_type": "markdown",
   "metadata": {},
   "source": [
    "下面是该函数的详细解释：\n",
    "  \n",
    "**sklearn.metrics.cluster.adjusted_rand_score(labels_true, labels_pred)**      \n",
    "参数：     \n",
    "\n",
    "**labels_true**：此参数表示数据点的真实聚类分配或真实标签。它应该是一个形状为 (n_samples) 的类似数组的对象，其中n_samples是数据点的数量。的每个元素labels_true应指示相应数据点的聚类分配。\n",
    "\n",
    "**labels_pred**：该参数表示从聚类算法获得的预测聚类分配。它应该是一个形状为 (n_samples) 的类似数组的对象，其中n_samples是数据点的数量。的每个元素labels_pred应指示相应数据点的预测聚类分配。"
   ]
  },
  {
   "cell_type": "code",
   "execution_count": null,
   "metadata": {},
   "outputs": [],
   "source": []
  },
  {
   "cell_type": "markdown",
   "metadata": {},
   "source": [
    "返回：\n",
    "\n",
    "该函数返回一个表示调整兰德指数 (ARI) 分数的浮点值。ARI 得分范围为 -1 到 1，其中 1 表示聚类之间完全一致，0 表示偶然预期的一致程度，负值表示比随机一致更差。"
   ]
  },
  {
   "cell_type": "code",
   "execution_count": 2,
   "metadata": {},
   "outputs": [
    {
     "name": "stdout",
     "output_type": "stream",
     "text": [
      "Adjusted Rand Index (ARI): 1.0\n"
     ]
    }
   ],
   "source": [
    "from sklearn.metrics.cluster import adjusted_rand_score\n",
    "\n",
    "# Example true and predicted cluster assignments\n",
    "labels_true = [0, 0, 1, 1, 1, 2, 2, 2]\n",
    "labels_pred = [1, 1, 0, 0, 0, 2, 2, 2]\n",
    "\n",
    "# Calculate the Adjusted Rand Index (ARI)\n",
    "ari_score = adjusted_rand_score(labels_true, labels_pred)\n",
    "\n",
    "print(f\"Adjusted Rand Index (ARI): {ari_score}\")\n"
   ]
  },
  {
   "cell_type": "markdown",
   "metadata": {},
   "source": [
    "在此示例中，labels_true和labels_pred是分别表示真实聚类分配和预测聚类分配的列表。该adjusted_rand_score函数用于计算 ARI 分数。\n",
    "\n",
    "请记住，ARI 对集群数量很敏感，因此如果不知道集群的真实数量，它可能不是最佳指标。在这种情况下，其他评估指标（例如轮廓分数或互信息）可能更合适。"
   ]
  },
  {
   "cell_type": "code",
   "execution_count": null,
   "metadata": {},
   "outputs": [],
   "source": []
  },
  {
   "cell_type": "code",
   "execution_count": null,
   "metadata": {},
   "outputs": [],
   "source": []
  },
  {
   "cell_type": "markdown",
   "metadata": {},
   "source": [
    "# 7. get_dummies()"
   ]
  },
  {
   "cell_type": "markdown",
   "metadata": {},
   "source": [
    "get_dummies() 函数是 pandas 库中的一个函数，用于将分类变量（categorical variables）转换为虚拟/哑变量（dummy variables）。在统计建模和机器学习中，通常需要处理分类变量，而算法对于数字输入更为友好。因此，将分类变量转换为虚拟变量是一种常见的预处理步骤。"
   ]
  },
  {
   "cell_type": "code",
   "execution_count": null,
   "metadata": {},
   "outputs": [],
   "source": []
  },
  {
   "cell_type": "markdown",
   "metadata": {},
   "source": [
    "下面是 get_dummies() 函数的基本用法和解释："
   ]
  },
  {
   "cell_type": "markdown",
   "metadata": {},
   "source": [
    "pandas.get_dummies(data, prefix=None, prefix_sep='_', dummy_na=False, columns=None, sparse=False, drop_first=False, dtype=None)\n"
   ]
  },
  {
   "cell_type": "code",
   "execution_count": null,
   "metadata": {},
   "outputs": [],
   "source": []
  },
  {
   "cell_type": "markdown",
   "metadata": {},
   "source": [
    "data: 要转换的 DataFrame 或 Series。    \n",
    "prefix: 虚拟变量的前缀，用于标识原始分类变量。    \n",
    "prefix_sep: 前缀与原始列名之间的分隔符，默认为下划线 \"_ \"。   \n",
    "dummy_na: 是否为缺失值创建一个虚拟变量列，如果原始数据中有缺失值，则为 True。   \n",
    "columns: 指定要转换的列。如果不指定，将转换所有分类变量列。    \n",
    "sparse: 如果为 True，则返回稀疏矩阵（SparseDataFrame），否则返回稠密矩阵。     \n",
    "drop_first: 是否删除每个类别的第一个虚拟变量列，以避免多重共线性问题。默认为 False。        \n",
    "dtype: 指定输出虚拟变量的数据类型。     "
   ]
  },
  {
   "cell_type": "code",
   "execution_count": 3,
   "metadata": {},
   "outputs": [
    {
     "name": "stdout",
     "output_type": "stream",
     "text": [
      "   col_A_cat  col_A_dog  col_B_large  col_B_medium  col_B_small\n",
      "0       True      False        False         False         True\n",
      "1      False       True         True         False        False\n",
      "2       True      False        False          True        False\n",
      "3      False       True        False         False         True\n"
     ]
    }
   ],
   "source": [
    "import pandas as pd\n",
    "\n",
    "# 创建一个包含分类变量的 DataFrame\n",
    "data = pd.DataFrame({'A': ['cat', 'dog', 'cat', 'dog'],\n",
    "                     'B': ['small', 'large', 'medium', 'small']})\n",
    "\n",
    "# 使用get_dummies()转换分类变量为虚拟变量\n",
    "result = pd.get_dummies(data, columns=['A', 'B'], prefix=['col_A', 'col_B'])\n",
    "\n",
    "print(result)\n"
   ]
  },
  {
   "cell_type": "code",
   "execution_count": null,
   "metadata": {},
   "outputs": [],
   "source": []
  },
  {
   "cell_type": "code",
   "execution_count": null,
   "metadata": {},
   "outputs": [],
   "source": []
  },
  {
   "cell_type": "markdown",
   "metadata": {},
   "source": [
    "# 8. reshape()"
   ]
  },
  {
   "cell_type": "markdown",
   "metadata": {},
   "source": [
    "numpy.reshape(a, newshape, order='C')"
   ]
  },
  {
   "cell_type": "markdown",
   "metadata": {},
   "source": [
    "reshape() 是 NumPy 库中用于改变数组形状的函数。它允许你重新组织数组的维度，从而改变数组的形状，但总的元素数量保持不变。·"
   ]
  },
  {
   "cell_type": "markdown",
   "metadata": {},
   "source": [
    "a: 要被重新形状的数组。  \n",
    "newshape: 新的形状，可以是一个整数或一个表示新形状的元组。   \n",
    "order: 指定在重新排列元素时使用的顺序。可选值为 'C'（按行排列）或 'F'（按列排列）。   "
   ]
  },
  {
   "cell_type": "code",
   "execution_count": 5,
   "metadata": {},
   "outputs": [
    {
     "name": "stdout",
     "output_type": "stream",
     "text": [
      "[[1 2 3]\n",
      " [4 5 6]]\n"
     ]
    }
   ],
   "source": [
    "import numpy as np\n",
    "\n",
    "# 创建一个一维数组\n",
    "arr = np.array([1, 2, 3, 4, 5, 6])\n",
    "\n",
    "# 将一维数组转换为二维数组，形状为 (2, 3)\n",
    "arr_reshaped = arr.reshape((2, 3))\n",
    "print(arr_reshaped)"
   ]
  },
  {
   "cell_type": "markdown",
   "metadata": {},
   "source": [
    "在这个例子中，arr 是一个包含6个元素的一维数组，然后通过 reshape((2, 3)) 将其重新形状为一个2行3列的二维数组"
   ]
  },
  {
   "cell_type": "markdown",
   "metadata": {},
   "source": [
    "你也可以使用 -1 作为 newshape 的一个维度，表示该维度的大小应该根据数组的总元素数量和其他维度的大小自动推断。"
   ]
  },
  {
   "cell_type": "code",
   "execution_count": 6,
   "metadata": {},
   "outputs": [
    {
     "name": "stdout",
     "output_type": "stream",
     "text": [
      "[[1 2 3]\n",
      " [4 5 6]]\n"
     ]
    }
   ],
   "source": [
    "arr_auto_reshape = arr.reshape((2, -1))\n",
    "print(arr_auto_reshape)"
   ]
  },
  {
   "cell_type": "code",
   "execution_count": null,
   "metadata": {},
   "outputs": [],
   "source": []
  },
  {
   "cell_type": "markdown",
   "metadata": {},
   "source": [
    "在 NumPy 中，reshape(-1, 1) 的用法经常用于将数组转换为一个列向量。这意味着你希望将数组重新组织为两维，其中第一个维度的大小是未知的（由 -1 表示），而第二个维度的大小为1。这通常用于将一维数组转换为列向量。"
   ]
  },
  {
   "cell_type": "code",
   "execution_count": 7,
   "metadata": {},
   "outputs": [
    {
     "name": "stdout",
     "output_type": "stream",
     "text": [
      "[[1]\n",
      " [2]\n",
      " [3]\n",
      " [4]\n",
      " [5]]\n"
     ]
    }
   ],
   "source": [
    "import numpy as np\n",
    "\n",
    "# 创建一个一维数组\n",
    "arr = np.array([1, 2, 3, 4, 5])\n",
    "\n",
    "# 将一维数组转换为列向量\n",
    "arr_reshaped = arr.reshape(-1, 1)\n",
    "\n",
    "print(arr_reshaped)"
   ]
  },
  {
   "cell_type": "markdown",
   "metadata": {},
   "source": [
    "在这个例子中，arr 是一个包含5个元素的一维数组。通过使用 reshape(-1, 1)，我们将其转换为一个列向量，结果是一个二维数组，形状为 (5, 1)"
   ]
  },
  {
   "cell_type": "code",
   "execution_count": null,
   "metadata": {},
   "outputs": [],
   "source": []
  },
  {
   "cell_type": "code",
   "execution_count": null,
   "metadata": {},
   "outputs": [],
   "source": []
  },
  {
   "cell_type": "markdown",
   "metadata": {},
   "source": [
    "# 9. np.digitize() "
   ]
  },
  {
   "cell_type": "markdown",
   "metadata": {},
   "source": [
    "np.digitize() 函数是 NumPy 库中用于将一组数值映射到离散的箱体或 bins 的函数。"
   ]
  },
  {
   "cell_type": "markdown",
   "metadata": {},
   "source": [
    "numpy.digitize(x, bins, right=False)\n"
   ]
  },
  {
   "cell_type": "markdown",
   "metadata": {},
   "source": [
    "x: 要映射的数组或数值。   \n",
    "bins: 指定箱体边界的序列。这可以是一个一维数组，也可以是一个标量。如果 bins 是标量，x 将被分配到整个范围的箱体中。   \n",
    "right: 如果为 True，则箱体是左闭右开的，即包括左边界但不包括右边界。如果为 False（默认），则箱体是左开右闭的，即包括右边界但不包括左边界。"
   ]
  },
  {
   "cell_type": "markdown",
   "metadata": {},
   "source": [
    "np.digitize() 返回一个数组，表示每个元素在 bins 中的位置。具体来说，对于 x[i]，digitize 返回的值是最小的整数 bin_edges[j]，使得 x[i] 小于或等于 bin_edges[j]。"
   ]
  },
  {
   "cell_type": "code",
   "execution_count": 3,
   "metadata": {},
   "outputs": [
    {
     "name": "stdout",
     "output_type": "stream",
     "text": [
      "[1 2 2 3 3]\n"
     ]
    }
   ],
   "source": [
    "import numpy as np\n",
    "\n",
    "# 创建一组数据\n",
    "data = np.array([1.2, 2.4, 3.6, 4.8, 5.0])\n",
    "\n",
    "# 定义箱体边界\n",
    "bins = np.array([0.0, 2.0, 4.0, 6.0])\n",
    "\n",
    "# 使用 np.digitize() 将数据映射到箱体\n",
    "result = np.digitize(data, bins)\n",
    "\n",
    "print(result)"
   ]
  },
  {
   "cell_type": "markdown",
   "metadata": {},
   "source": [
    "在这个例子中，data 中的每个元素被映射到 bins 中对应的箱体。结果将是一个表示映射位置的数组："
   ]
  },
  {
   "cell_type": "markdown",
   "metadata": {},
   "source": [
    "这意味着第一个元素（1.2）被映射到第一个箱体（小于2.0），第二个元素（2.4）被映射到第二个箱体（大于等于2.0且小于4.0），以此类推。"
   ]
  },
  {
   "cell_type": "code",
   "execution_count": null,
   "metadata": {},
   "outputs": [],
   "source": []
  },
  {
   "cell_type": "code",
   "execution_count": null,
   "metadata": {},
   "outputs": [],
   "source": []
  },
  {
   "cell_type": "markdown",
   "metadata": {},
   "source": [
    "# 10. vlines()"
   ]
  },
  {
   "cell_type": "markdown",
   "metadata": {},
   "source": [
    "vlines() 函数是 Matplotlib 库中用于在图中绘制垂直线的函数。它的基本语法如下："
   ]
  },
  {
   "cell_type": "markdown",
   "metadata": {},
   "source": [
    "matplotlib.pyplot.vlines(x, ymin, ymax, colors='k', linestyles='solid', label='', **kwargs)"
   ]
  },
  {
   "cell_type": "markdown",
   "metadata": {},
   "source": [
    "x: 表示垂直线的 x 坐标位置，可以是一个单独的值或一个包含多个值的数组。    \n",
    "ymin: 表示垂直线的起始 y 坐标位置。     \n",
    "ymax: 表示垂直线的结束 y 坐标位置。    \n",
    "colors: 线的颜色，可以是字符串（例如，'k' 表示黑色）或颜色代码。默认为黑色。    \n",
    "linestyles: 线的样式，可以是字符串，如 'solid'、'dashed'、'dashdot' 等。默认为实线。      \n",
    "label: 线的标签，用于图例。     \n",
    "**kwargs: 其他关键字参数，用于进一步自定义绘制的线。     "
   ]
  },
  {
   "cell_type": "code",
   "execution_count": 6,
   "metadata": {},
   "outputs": [
    {
     "data": {
      "image/png": "[encoded data removed]",
      "text/plain": [
       "<Figure size 640x480 with 1 Axes>"
      ]
     },
     "metadata": {},
     "output_type": "display_data"
    }
   ],
   "source": [
    "import matplotlib.pyplot as plt\n",
    "\n",
    "# 绘制一条垂直线\n",
    "plt.vlines(x=2, ymin=-3, ymax=3, colors='r', linestyles='dashed', label='Vertical Line')\n",
    "\n",
    "# 设置图例\n",
    "plt.legend()\n",
    "\n",
    "# 显示图形\n",
    "plt.show()"
   ]
  },
  {
   "cell_type": "markdown",
   "metadata": {},
   "source": [
    "在这个例子中，vlines() 函数绘制了一条从 y=-3 到 y=3 的红色虚线，垂直于 x 轴，位于 x=2 处。 label 参数用于指定图例中线的标签，然后通过 plt.legend() 添加了图例。"
   ]
  },
  {
   "cell_type": "markdown",
   "metadata": {},
   "source": [
    "这个函数通常用于在图中标记特定的位置，例如，标记分割点、临界值等。"
   ]
  },
  {
   "cell_type": "code",
   "execution_count": null,
   "metadata": {},
   "outputs": [],
   "source": []
  }
 ],
 "metadata": {
  "kernelspec": {
   "display_name": "Python 3 (ipykernel)",
   "language": "python",
   "name": "python3"
  },
  "language_info": {
   "codemirror_mode": {
    "name": "ipython",
    "version": 3
   },
   "file_extension": ".py",
   "mimetype": "text/x-python",
   "name": "python",
   "nbconvert_exporter": "python",
   "pygments_lexer": "ipython3",
   "version": "3.9.13"
  }
 },
 "nbformat": 4,
 "nbformat_minor": 4
}
