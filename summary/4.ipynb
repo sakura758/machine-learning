{
 "cells": [
  {
   "cell_type": "markdown",
   "metadata": {},
   "source": [
    "# 1. feature_names()"
   ]
  },
  {
   "cell_type": "code",
   "execution_count": 3,
   "metadata": {},
   "outputs": [
    {
     "data": {
      "text/plain": [
       "['sepal length (cm)',\n",
       " 'sepal width (cm)',\n",
       " 'petal length (cm)',\n",
       " 'petal width (cm)']"
      ]
     },
     "execution_count": 3,
     "metadata": {},
     "output_type": "execute_result"
    }
   ],
   "source": [
    "from sklearn.datasets import load_iris\n",
    "\n",
    "data = load_iris()\n",
    "feature_names = data.feature_names\n",
    "feature_names"
   ]
  },
  {
   "cell_type": "markdown",
   "metadata": {},
   "source": [
    "在常用于机器学习任务的 scikit-learn 库中，您可能会feature_names在其某些数据集中找到属性。属性feature_names不是函数，而是提供数据集中特征（属性）名称的属性或变量。"
   ]
  },
  {
   "cell_type": "code",
   "execution_count": null,
   "metadata": {},
   "outputs": [],
   "source": []
  },
  {
   "cell_type": "code",
   "execution_count": null,
   "metadata": {},
   "outputs": [],
   "source": []
  },
  {
   "cell_type": "markdown",
   "metadata": {},
   "source": [
    "# 2. bincount()"
   ]
  },
  {
   "cell_type": "markdown",
   "metadata": {},
   "source": [
    "np.bincount() 是 NumPy 中一个非常有用的函数，它用于计算非负整数数组中每个值的频次。\n",
    "\n",
    "具体来说，np.bincount() 接受一个一维的非负整数数组作为输入，然后返回一个数组，其中第 i 个元素表示整数 i 在输入数组中出现的次数。"
   ]
  },
  {
   "cell_type": "code",
   "execution_count": 1,
   "metadata": {},
   "outputs": [
    {
     "name": "stdout",
     "output_type": "stream",
     "text": [
      "[1 3 1 1 0 0 0 3]\n"
     ]
    }
   ],
   "source": [
    "import numpy as np\n",
    "\n",
    "# 创建一个输入数组\n",
    "arr = np.array([0, 1, 1, 3, 2, 1, 7, 7, 7])\n",
    "\n",
    "# 使用 np.bincount() 计算频次\n",
    "counts = np.bincount(arr)\n",
    "\n",
    "print(counts)"
   ]
  },
  {
   "cell_type": "markdown",
   "metadata": {},
   "source": [
    "输出将会是一个数组，其中第 i 个元素表示整数 i 在输入数组 arr 中出现的次数。\n",
    "\n",
    "注意，np.bincount() 对于负数或浮点数是不起作用的，因为它是基于整数计数的。"
   ]
  },
  {
   "cell_type": "code",
   "execution_count": null,
   "metadata": {},
   "outputs": [],
   "source": []
  },
  {
   "cell_type": "code",
   "execution_count": null,
   "metadata": {},
   "outputs": [],
   "source": []
  },
  {
   "cell_type": "markdown",
   "metadata": {},
   "source": [
    "# 3. np.argsort()"
   ]
  },
  {
   "cell_type": "markdown",
   "metadata": {},
   "source": [
    "格式：np.argsort(a)\n",
    "注意：返回的是元素值从小到大排序后的索引值的数组"
   ]
  },
  {
   "cell_type": "code",
   "execution_count": 5,
   "metadata": {},
   "outputs": [
    {
     "name": "stdout",
     "output_type": "stream",
     "text": [
      "a: [3 1 2 1 3 5]\n",
      "b1: [1 3 2 0 4 5]\n",
      "b2: [5 0 4 2 1 3]\n"
     ]
    }
   ],
   "source": [
    "import numpy as np\n",
    "a = np.array([3,1,2,1,3,5])\n",
    "print(\"a:\", a)\n",
    "\n",
    "b1 = np.argsort(a)                        # 对a按升序排列        \n",
    "b2 = np.argsort(-a)                       # 对a按降序排列        \n",
    "            \t\n",
    "print(\"b1:\", b1)\n",
    "print(\"b2:\", b2)"
   ]
  },
  {
   "cell_type": "code",
   "execution_count": null,
   "metadata": {},
   "outputs": [],
   "source": []
  },
  {
   "cell_type": "code",
   "execution_count": null,
   "metadata": {},
   "outputs": [],
   "source": []
  },
  {
   "cell_type": "markdown",
   "metadata": {},
   "source": [
    "# 4. numpy.random.RandomState()函数用法"
   ]
  },
  {
   "cell_type": "markdown",
   "metadata": {},
   "source": [
    "可以通过numpy工具包生成模拟数据集，使用RandomState获得随机数生成器\n",
    "\n",
    "from numpy.random import RandomState\n",
    " \n",
    "rdm = RandomState(1)     \n",
    "注意：这里1为随机数种子，只要随机数种子seed相同，产生的随机数系列就相同"
   ]
  },
  {
   "cell_type": "markdown",
   "metadata": {},
   "source": [
    "使用numpy.random.RandomState(1).uniform(1,2,(3,4))函数生成一个3行4列的数组，其中每个元素都是在[1,2]区间内 均匀分布 的随机数；"
   ]
  },
  {
   "cell_type": "code",
   "execution_count": 6,
   "metadata": {},
   "outputs": [
    {
     "name": "stdout",
     "output_type": "stream",
     "text": [
      "[[1.417022   1.72032449 1.00011437 1.30233257]\n",
      " [1.14675589 1.09233859 1.18626021 1.34556073]\n",
      " [1.39676747 1.53881673 1.41919451 1.6852195 ]]\n"
     ]
    }
   ],
   "source": [
    "from numpy.random import RandomState\n",
    "\n",
    "rdm = RandomState(1)  # 定义一个随机数种子\n",
    "a = rdm.uniform(1,2,(3,4))  # 产生一个3行4列的数组，其中每个元素都是在[1,2]区间内均匀分布的随机数\n",
    "print(a)"
   ]
  },
  {
   "cell_type": "markdown",
   "metadata": {},
   "source": [
    "uniform() 方法将随机生成下一个实数，它在 [x, y] 范围内。"
   ]
  },
  {
   "cell_type": "code",
   "execution_count": 8,
   "metadata": {},
   "outputs": [
    {
     "name": "stdout",
     "output_type": "stream",
     "text": [
      "uniform(5, 10) 的随机数为 :  9.23288936303289\n",
      "uniform(7, 14) 的随机数为 :  11.995112790051781\n"
     ]
    }
   ],
   "source": [
    "import random\n",
    " \n",
    "print(\"uniform(5, 10) 的随机数为 : \", random.uniform(5, 10))\n",
    " \n",
    "print (\"uniform(7, 14) 的随机数为 : \",  random.uniform(7, 14))"
   ]
  },
  {
   "cell_type": "code",
   "execution_count": null,
   "metadata": {},
   "outputs": [],
   "source": []
  },
  {
   "cell_type": "code",
   "execution_count": null,
   "metadata": {},
   "outputs": [],
   "source": []
  },
  {
   "cell_type": "markdown",
   "metadata": {},
   "source": [
    "# 5. Silhouette_score()"
   ]
  },
  {
   "cell_type": "markdown",
   "metadata": {},
   "source": [
    "silhouette_score是用于评估聚类任务中聚类质量的指标。它衡量同一簇内的相似数据点与相邻簇中的数据点的比较情况。较高的轮廓分数表明聚类分离良好并且聚类适当，而较低的分数表明数据点可能被分配到错误的聚类或者聚类重叠。"
   ]
  },
  {
   "cell_type": "markdown",
   "metadata": {},
   "source": [
    "silhouette_score函数通常采用以下参数："
   ]
  },
  {
   "cell_type": "markdown",
   "metadata": {},
   "source": [
    "X：这是您要聚类的数据。它是一个类似数组或特征矩阵，其中每行代表一个数据点，每列代表一个特征。\n",
    "\n",
    "labels：类数组或聚类标签列表，指示数据集中每个数据点的聚类分配。标签的长度应与数据集中数据点的数量相同。\n",
    "\n",
    "metric：该参数指定用于计算轮廓分数的距离度量。默认值为“euclidean”，它测量数据点之间的欧几里德距离。您还可以指定 scikit-learn 支持的其他距离度量，例如“manhattan”、“cosine”或自定义距离函数。\n",
    "\n",
    "sample_size（可选）：如果提供，它指定大型数据集的随机样本的大小。通过使用随机样本，您可以加快轮廓分数的计算速度，同时仍然获得完整数据集分数的估计。\n",
    "\n",
    "silhouette_score函数返回一个浮点值，它是所提供的聚类分配的轮廓分数。轮廓分数范围从-1到1："
   ]
  },
  {
   "cell_type": "markdown",
   "metadata": {},
   "source": [
    "接近 +1 的分数表示簇内的数据点与其他簇很好地分离，并且聚类是适当的。\n",
    "接近 0 的分数表明聚类重叠，或者数据点非常接近两个相邻聚类之间的决策边界。\n",
    "接近 -1 的分数表示数据点可能被分配到错误的聚类，并且聚类不合适。"
   ]
  },
  {
   "cell_type": "code",
   "execution_count": null,
   "metadata": {},
   "outputs": [],
   "source": []
  },
  {
   "cell_type": "code",
   "execution_count": null,
   "metadata": {},
   "outputs": [],
   "source": []
  },
  {
   "cell_type": "markdown",
   "metadata": {},
   "source": [
    "# 6. adjusted_rand_score()"
   ]
  },
  {
   "cell_type": "markdown",
   "metadata": {},
   "source": [
    "adjusted_rand_scoresklearn.metrics.cluster是scikit-learn 库中的模块提供的函数。它用于计算调整兰德指数（ARI）以评估两个聚类之间的相似性。"
   ]
  },
  {
   "cell_type": "markdown",
   "metadata": {},
   "source": [
    "下面是该函数的详细解释：\n",
    "  \n",
    "**sklearn.metrics.cluster.adjusted_rand_score(labels_true, labels_pred)**      \n",
    "参数：     \n",
    "\n",
    "**labels_true**：此参数表示数据点的真实聚类分配或真实标签。它应该是一个形状为 (n_samples) 的类似数组的对象，其中n_samples是数据点的数量。的每个元素labels_true应指示相应数据点的聚类分配。\n",
    "\n",
    "**labels_pred**：该参数表示从聚类算法获得的预测聚类分配。它应该是一个形状为 (n_samples) 的类似数组的对象，其中n_samples是数据点的数量。的每个元素labels_pred应指示相应数据点的预测聚类分配。"
   ]
  },
  {
   "cell_type": "code",
   "execution_count": null,
   "metadata": {},
   "outputs": [],
   "source": []
  },
  {
   "cell_type": "markdown",
   "metadata": {},
   "source": [
    "返回：\n",
    "\n",
    "该函数返回一个表示调整兰德指数 (ARI) 分数的浮点值。ARI 得分范围为 -1 到 1，其中 1 表示聚类之间完全一致，0 表示偶然预期的一致程度，负值表示比随机一致更差。"
   ]
  },
  {
   "cell_type": "code",
   "execution_count": 2,
   "metadata": {},
   "outputs": [
    {
     "name": "stdout",
     "output_type": "stream",
     "text": [
      "Adjusted Rand Index (ARI): 1.0\n"
     ]
    }
   ],
   "source": [
    "from sklearn.metrics.cluster import adjusted_rand_score\n",
    "\n",
    "# Example true and predicted cluster assignments\n",
    "labels_true = [0, 0, 1, 1, 1, 2, 2, 2]\n",
    "labels_pred = [1, 1, 0, 0, 0, 2, 2, 2]\n",
    "\n",
    "# Calculate the Adjusted Rand Index (ARI)\n",
    "ari_score = adjusted_rand_score(labels_true, labels_pred)\n",
    "\n",
    "print(f\"Adjusted Rand Index (ARI): {ari_score}\")\n"
   ]
  },
  {
   "cell_type": "markdown",
   "metadata": {},
   "source": [
    "在此示例中，labels_true和labels_pred是分别表示真实聚类分配和预测聚类分配的列表。该adjusted_rand_score函数用于计算 ARI 分数。\n",
    "\n",
    "请记住，ARI 对集群数量很敏感，因此如果不知道集群的真实数量，它可能不是最佳指标。在这种情况下，其他评估指标（例如轮廓分数或互信息）可能更合适。"
   ]
  },
  {
   "cell_type": "code",
   "execution_count": null,
   "metadata": {},
   "outputs": [],
   "source": []
  }
 ],
 "metadata": {
  "kernelspec": {
   "display_name": "Python 3 (ipykernel)",
   "language": "python",
   "name": "python3"
  },
  "language_info": {
   "codemirror_mode": {
    "name": "ipython",
    "version": 3
   },
   "file_extension": ".py",
   "mimetype": "text/x-python",
   "name": "python",
   "nbconvert_exporter": "python",
   "pygments_lexer": "ipython3",
   "version": "3.9.13"
  }
 },
 "nbformat": 4,
 "nbformat_minor": 4
}
