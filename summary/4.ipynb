{
 "cells": [
  {
   "cell_type": "markdown",
   "metadata": {},
   "source": [
    "# 1. feature_names()"
   ]
  },
  {
   "cell_type": "code",
   "execution_count": 3,
   "metadata": {},
   "outputs": [
    {
     "data": {
      "text/plain": [
       "['sepal length (cm)',\n",
       " 'sepal width (cm)',\n",
       " 'petal length (cm)',\n",
       " 'petal width (cm)']"
      ]
     },
     "execution_count": 3,
     "metadata": {},
     "output_type": "execute_result"
    }
   ],
   "source": [
    "from sklearn.datasets import load_iris\n",
    "\n",
    "data = load_iris()\n",
    "feature_names = data.feature_names\n",
    "feature_names"
   ]
  },
  {
   "cell_type": "markdown",
   "metadata": {},
   "source": [
    "在常用于机器学习任务的 scikit-learn 库中，您可能会feature_names在其某些数据集中找到属性。属性feature_names不是函数，而是提供数据集中特征（属性）名称的属性或变量。"
   ]
  },
  {
   "cell_type": "code",
   "execution_count": null,
   "metadata": {},
   "outputs": [],
   "source": []
  },
  {
   "cell_type": "code",
   "execution_count": null,
   "metadata": {},
   "outputs": [],
   "source": []
  },
  {
   "cell_type": "markdown",
   "metadata": {},
   "source": [
    "# 2. bincount()"
   ]
  },
  {
   "cell_type": "markdown",
   "metadata": {},
   "source": [
    "np.bincount() 是 NumPy 中一个非常有用的函数，它用于计算非负整数数组中每个值的频次。\n",
    "\n",
    "具体来说，np.bincount() 接受一个一维的非负整数数组作为输入，然后返回一个数组，其中第 i 个元素表示整数 i 在输入数组中出现的次数。"
   ]
  },
  {
   "cell_type": "code",
   "execution_count": 1,
   "metadata": {},
   "outputs": [
    {
     "name": "stdout",
     "output_type": "stream",
     "text": [
      "[1 3 1 1 0 0 0 3]\n"
     ]
    }
   ],
   "source": [
    "import numpy as np\n",
    "\n",
    "# 创建一个输入数组\n",
    "arr = np.array([0, 1, 1, 3, 2, 1, 7, 7, 7])\n",
    "\n",
    "# 使用 np.bincount() 计算频次\n",
    "counts = np.bincount(arr)\n",
    "\n",
    "print(counts)"
   ]
  },
  {
   "cell_type": "markdown",
   "metadata": {},
   "source": [
    "输出将会是一个数组，其中第 i 个元素表示整数 i 在输入数组 arr 中出现的次数。\n",
    "\n",
    "注意，np.bincount() 对于负数或浮点数是不起作用的，因为它是基于整数计数的。"
   ]
  },
  {
   "cell_type": "code",
   "execution_count": null,
   "metadata": {},
   "outputs": [],
   "source": []
  },
  {
   "cell_type": "code",
   "execution_count": null,
   "metadata": {},
   "outputs": [],
   "source": []
  },
  {
   "cell_type": "markdown",
   "metadata": {},
   "source": [
    "# 3. np.argsort()"
   ]
  },
  {
   "cell_type": "markdown",
   "metadata": {},
   "source": [
    "格式：np.argsort(a)\n",
    "注意：返回的是元素值从小到大排序后的索引值的数组"
   ]
  },
  {
   "cell_type": "code",
   "execution_count": 5,
   "metadata": {},
   "outputs": [
    {
     "name": "stdout",
     "output_type": "stream",
     "text": [
      "a: [3 1 2 1 3 5]\n",
      "b1: [1 3 2 0 4 5]\n",
      "b2: [5 0 4 2 1 3]\n"
     ]
    }
   ],
   "source": [
    "import numpy as np\n",
    "a = np.array([3,1,2,1,3,5])\n",
    "print(\"a:\", a)\n",
    "\n",
    "b1 = np.argsort(a)                        # 对a按升序排列        \n",
    "b2 = np.argsort(-a)                       # 对a按降序排列        \n",
    "            \t\n",
    "print(\"b1:\", b1)\n",
    "print(\"b2:\", b2)"
   ]
  },
  {
   "cell_type": "code",
   "execution_count": null,
   "metadata": {},
   "outputs": [],
   "source": []
  },
  {
   "cell_type": "code",
   "execution_count": null,
   "metadata": {},
   "outputs": [],
   "source": []
  },
  {
   "cell_type": "markdown",
   "metadata": {},
   "source": [
    "# 4. numpy.random.RandomState()函数用法"
   ]
  },
  {
   "cell_type": "markdown",
   "metadata": {},
   "source": [
    "可以通过numpy工具包生成模拟数据集，使用RandomState获得随机数生成器\n",
    "\n",
    "from numpy.random import RandomState\n",
    " \n",
    "rdm = RandomState(1)     \n",
    "注意：这里1为随机数种子，只要随机数种子seed相同，产生的随机数系列就相同"
   ]
  },
  {
   "cell_type": "markdown",
   "metadata": {},
   "source": [
    "使用numpy.random.RandomState(1).uniform(1,2,(3,4))函数生成一个3行4列的数组，其中每个元素都是在[1,2]区间内 均匀分布 的随机数；"
   ]
  },
  {
   "cell_type": "code",
   "execution_count": 6,
   "metadata": {},
   "outputs": [
    {
     "name": "stdout",
     "output_type": "stream",
     "text": [
      "[[1.417022   1.72032449 1.00011437 1.30233257]\n",
      " [1.14675589 1.09233859 1.18626021 1.34556073]\n",
      " [1.39676747 1.53881673 1.41919451 1.6852195 ]]\n"
     ]
    }
   ],
   "source": [
    "from numpy.random import RandomState\n",
    "\n",
    "rdm = RandomState(1)  # 定义一个随机数种子\n",
    "a = rdm.uniform(1,2,(3,4))  # 产生一个3行4列的数组，其中每个元素都是在[1,2]区间内均匀分布的随机数\n",
    "print(a)"
   ]
  },
  {
   "cell_type": "markdown",
   "metadata": {},
   "source": [
    "uniform() 方法将随机生成下一个实数，它在 [x, y] 范围内。"
   ]
  },
  {
   "cell_type": "code",
   "execution_count": 8,
   "metadata": {},
   "outputs": [
    {
     "name": "stdout",
     "output_type": "stream",
     "text": [
      "uniform(5, 10) 的随机数为 :  9.23288936303289\n",
      "uniform(7, 14) 的随机数为 :  11.995112790051781\n"
     ]
    }
   ],
   "source": [
    "import random\n",
    " \n",
    "print(\"uniform(5, 10) 的随机数为 : \", random.uniform(5, 10))\n",
    " \n",
    "print (\"uniform(7, 14) 的随机数为 : \",  random.uniform(7, 14))"
   ]
  },
  {
   "cell_type": "code",
   "execution_count": null,
   "metadata": {},
   "outputs": [],
   "source": []
  }
 ],
 "metadata": {
  "kernelspec": {
   "display_name": "Python 3",
   "language": "python",
   "name": "python3"
  },
  "language_info": {
   "codemirror_mode": {
    "name": "ipython",
    "version": 3
   },
   "file_extension": ".py",
   "mimetype": "text/x-python",
   "name": "python",
   "nbconvert_exporter": "python",
   "pygments_lexer": "ipython3",
   "version": "3.9.13"
  }
 },
 "nbformat": 4,
 "nbformat_minor": 2
}
