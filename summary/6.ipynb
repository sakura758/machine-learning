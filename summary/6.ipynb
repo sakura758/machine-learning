{
 "cells": [
  {
   "cell_type": "markdown",
   "id": "55cc9dd1-889a-4b3b-88de-e1db7ad77824",
   "metadata": {},
   "source": [
    "# 1.date_range"
   ]
  },
  {
   "cell_type": "markdown",
   "id": "6509a423-c253-4115-8b22-66922a134684",
   "metadata": {},
   "source": [
    "date_range()是pandas中常用的函数，用于生成一个固定频率的DatetimeIndex时间索引。"
   ]
  },
  {
   "cell_type": "markdown",
   "id": "137c45ba-b48f-43ae-ae2c-c37d0ffc1552",
   "metadata": {},
   "source": [
    "date_range(start=None, end=None, periods=None, freq=None, tz=None, normalize=False, name=None, closed=None, **kwargs)"
   ]
  },
  {
   "cell_type": "markdown",
   "id": "2aae4c8f-06aa-4086-b755-bb774d1125ea",
   "metadata": {},
   "source": [
    "常用参数     \n",
    "start、end、periods、freq。    \n",
    "\n",
    "start：指定生成时间序列的开始时间    \n",
    "end：指定生成时间序列的结束时间    \n",
    "periods：指定生成时间序列的数量     \n",
    "freq：生成频率，默认‘D’，可以是’H’、‘D’、‘M’、‘5H’、‘10D’、…    \n",
    "还可以根据closed参数选择是否包含开始和结束时间，left包含开始时间，不包含结束时间，right与之相反。默认同时包含开始时间和结束时间。     \n",
    "函数调用时至少要指定参数start、end、periods中的两个。      \n"
   ]
  },
  {
   "cell_type": "code",
   "execution_count": null,
   "id": "f1675252-d8bb-46b2-974c-7b96d87545b5",
   "metadata": {},
   "outputs": [],
   "source": []
  },
  {
   "cell_type": "code",
   "execution_count": null,
   "id": "03777cfd-962b-4cbf-a64f-757437bd07d0",
   "metadata": {},
   "outputs": [],
   "source": []
  },
  {
   "cell_type": "markdown",
   "id": "9bef71c9-ed09-44c5-a5b8-7083bedcdf64",
   "metadata": {},
   "source": [
    "# 2. xticks"
   ]
  },
  {
   "cell_type": "markdown",
   "id": "94ee8fe8-cdd2-40b4-ba63-c0fe5f8d40e7",
   "metadata": {},
   "source": [
    "xticks()函数原型："
   ]
  },
  {
   "cell_type": "markdown",
   "id": "f2a94bd9-9e7a-4fbc-a765-0722c8bb4331",
   "metadata": {},
   "source": [
    "xticks(ticks, [labels], **kwargs)"
   ]
  },
  {
   "cell_type": "markdown",
   "id": "990ded28-f751-4b02-82fd-93263f737786",
   "metadata": {},
   "source": [
    "参数说明：       \n",
    "ticks：数组类型，用于设置X轴刻度间隔    \n",
    "[labels]：数组类型，用于设置每个间隔的显示标签        \n",
    "**kwargs：用于设置标签字体倾斜度和颜色等外观属性。（注：python里的双星号代表这个位置接收任意多个关键字参数\n",
    " "
   ]
  },
  {
   "cell_type": "code",
   "execution_count": null,
   "id": "a7132f07-abdd-46bc-a6e2-94b574984c80",
   "metadata": {},
   "outputs": [],
   "source": []
  }
 ],
 "metadata": {
  "kernelspec": {
   "display_name": "Python 3 (ipykernel)",
   "language": "python",
   "name": "python3"
  },
  "language_info": {
   "codemirror_mode": {
    "name": "ipython",
    "version": 3
   },
   "file_extension": ".py",
   "mimetype": "text/x-python",
   "name": "python",
   "nbconvert_exporter": "python",
   "pygments_lexer": "ipython3",
   "version": "3.9.13"
  }
 },
 "nbformat": 4,
 "nbformat_minor": 5
}
