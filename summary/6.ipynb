{
 "cells": [
  {
   "cell_type": "markdown",
   "id": "55cc9dd1-889a-4b3b-88de-e1db7ad77824",
   "metadata": {},
   "source": [
    "# 1.date_range"
   ]
  },
  {
   "cell_type": "markdown",
   "id": "6509a423-c253-4115-8b22-66922a134684",
   "metadata": {},
   "source": [
    "date_range()是pandas中常用的函数，用于生成一个固定频率的DatetimeIndex时间索引。"
   ]
  },
  {
   "cell_type": "markdown",
   "id": "137c45ba-b48f-43ae-ae2c-c37d0ffc1552",
   "metadata": {},
   "source": [
    "date_range(start=None, end=None, periods=None, freq=None, tz=None, normalize=False, name=None, closed=None, **kwargs)"
   ]
  },
  {
   "cell_type": "markdown",
   "id": "2aae4c8f-06aa-4086-b755-bb774d1125ea",
   "metadata": {},
   "source": [
    "常用参数     \n",
    "start、end、periods、freq。    \n",
    "\n",
    "start：指定生成时间序列的开始时间    \n",
    "end：指定生成时间序列的结束时间    \n",
    "periods：指定生成时间序列的数量     \n",
    "freq：生成频率，默认‘D’，可以是’H’、‘D’、‘M’、‘5H’、‘10D’、…    \n",
    "还可以根据closed参数选择是否包含开始和结束时间，left包含开始时间，不包含结束时间，right与之相反。默认同时包含开始时间和结束时间。     \n",
    "函数调用时至少要指定参数start、end、periods中的两个。      \n"
   ]
  },
  {
   "cell_type": "code",
   "execution_count": null,
   "id": "f1675252-d8bb-46b2-974c-7b96d87545b5",
   "metadata": {},
   "outputs": [],
   "source": []
  },
  {
   "cell_type": "code",
   "execution_count": null,
   "id": "03777cfd-962b-4cbf-a64f-757437bd07d0",
   "metadata": {},
   "outputs": [],
   "source": []
  },
  {
   "cell_type": "markdown",
   "id": "9bef71c9-ed09-44c5-a5b8-7083bedcdf64",
   "metadata": {},
   "source": [
    "# 2. xticks"
   ]
  },
  {
   "cell_type": "markdown",
   "id": "94ee8fe8-cdd2-40b4-ba63-c0fe5f8d40e7",
   "metadata": {},
   "source": [
    "xticks()函数原型："
   ]
  },
  {
   "cell_type": "markdown",
   "id": "f2a94bd9-9e7a-4fbc-a765-0722c8bb4331",
   "metadata": {},
   "source": [
    "xticks(ticks, [labels], **kwargs)"
   ]
  },
  {
   "cell_type": "markdown",
   "id": "990ded28-f751-4b02-82fd-93263f737786",
   "metadata": {},
   "source": [
    "参数说明：       \n",
    "ticks：数组类型，用于设置X轴刻度间隔    \n",
    "[labels]：数组类型，用于设置每个间隔的显示标签        \n",
    "**kwargs：用于设置标签字体倾斜度和颜色等外观属性。（注：python里的双星号代表这个位置接收任意多个关键字参数\n",
    " "
   ]
  },
  {
   "cell_type": "code",
   "execution_count": null,
   "id": "a7132f07-abdd-46bc-a6e2-94b574984c80",
   "metadata": {},
   "outputs": [],
   "source": []
  },
  {
   "cell_type": "code",
   "execution_count": null,
   "id": "e4466f29-e233-422b-a032-7da901b8b38f",
   "metadata": {},
   "outputs": [],
   "source": []
  },
  {
   "cell_type": "markdown",
   "id": "67965a79-2907-463d-8d49-57517b8a41f8",
   "metadata": {},
   "source": [
    "# 3. 分类模型predict_proba、predict、decision_function用法详解"
   ]
  },
  {
   "cell_type": "markdown",
   "id": "7d320aa1-b65d-4389-b425-89028d3842f0",
   "metadata": {},
   "source": [
    "在使用sklearn训练完分类模型后，下一步就是要验证一下模型的预测结果，对于分类模型，sklearn中通常提供了predict_proba、predict、decision_function三种方法来展示模型对于输入样本的评判结果。"
   ]
  },
  {
   "cell_type": "markdown",
   "id": "50379399-68df-43ee-8d78-43815e76815b",
   "metadata": {},
   "source": [
    "说明一下，在sklearn中，对于训练好的分类模型，模型都有一个classes_属性，classes_属性中按顺序保存着训练样本的类别标记。下面是使用Logistic Regression分类器在为例，展示一下分类器的classes_属性。"
   ]
  },
  {
   "cell_type": "code",
   "execution_count": 1,
   "id": "0a8a4a52-49d1-4b69-bde5-dc9ca565e3a0",
   "metadata": {},
   "outputs": [
    {
     "name": "stdout",
     "output_type": "stream",
     "text": [
      "[0 1 2 3]\n"
     ]
    }
   ],
   "source": [
    "# 样本标签从0开始的场景下训练分类模型\n",
    "import numpy as np\n",
    "from sklearn.linear_model import LogisticRegression\n",
    " \n",
    "x = np.array(\n",
    "    [\n",
    "        [-1, -1],\n",
    "        [-2, -1],\n",
    "        [1, 1],\n",
    "        [2, 1],\n",
    "        [-1, 1],\n",
    "        [-1, 2],\n",
    "        [1, -1],\n",
    "        [1, -2]\n",
    "    ]\n",
    ")\n",
    "y = np.array([2, 2, 3, 3, 0, 0, 1, 1])\n",
    " \n",
    "clf = LogisticRegression()\n",
    "clf.fit(x, y)\n",
    "print(clf.classes_)\n"
   ]
  },
  {
   "cell_type": "code",
   "execution_count": 2,
   "id": "ffd93075-e670-4eb4-8504-78048fc86822",
   "metadata": {},
   "outputs": [
    {
     "name": "stdout",
     "output_type": "stream",
     "text": [
      "[2 4 6 8]\n"
     ]
    }
   ],
   "source": [
    "# 样本标签不是从0开始的场景下训练分类模型\n",
    "import numpy as np\n",
    "from sklearn.linear_model import LogisticRegression\n",
    " \n",
    "x = np.array(\n",
    "    [\n",
    "        [-1, -1],\n",
    "        [-2, -1],\n",
    "        [1, 1],\n",
    "        [2, 1],\n",
    "        [-1, 1],\n",
    "        [-1, 2],\n",
    "        [1, -1],\n",
    "        [1, -2]\n",
    "    ]\n",
    ")\n",
    "y = np.array([6, 6, 2, 2, 4, 4, 8, 8])\n",
    " \n",
    "clf = LogisticRegression()\n",
    "clf.fit(x, y)\n",
    "print(clf.classes_)"
   ]
  },
  {
   "cell_type": "markdown",
   "id": "5ec65db0-8d8c-45cc-baf3-4f34e550f2af",
   "metadata": {},
   "source": [
    "注意观察上述两种情况下classes_属性的输出结果，该输出结果的顺序就对应后续要说predict_proba、predict、decision_function输出结果的顺序或顺序组合。"
   ]
  },
  {
   "cell_type": "markdown",
   "id": "4b853ae3-88af-4824-b7c6-2e48bbc8919c",
   "metadata": {},
   "source": [
    "注意观察上述两种情况下classes_属性的输出结果，该输出结果的顺序就对应后续要说predict_proba、predict、decision_function输出结果的顺序或顺序组合。"
   ]
  },
  {
   "cell_type": "markdown",
   "id": "b16fac0d-3263-41a0-b6dd-38aeec3f51f7",
   "metadata": {},
   "source": [
    "## 1、predict_proba:  \n",
    "模型预测输入样本属于每种类别的概率，概率和为1，每个位置的概率分别对应classes_中对应位置的类别标签。以上述类别标签为[2 4 6 8]的那个分类器为例，查看一下分类模型预测的概率。"
   ]
  },
  {
   "cell_type": "markdown",
   "id": "cb990a3c-4cd3-48f0-bc30-3b1383379e8b",
   "metadata": {},
   "source": [
    "## 2、predict: \n",
    "模型预测输入样本所属的类别，是则输出1，不是则输出0。\n",
    "\n",
    "在上一步中知道了predict_proba是输出样本属于各个类别的概率，且取概率最大的类别作为样本的预测结果，下面看一下predict的预测结果与predict_proba的最大值是否一致。"
   ]
  },
  {
   "cell_type": "markdown",
   "id": "d5769b00-00a4-4a8c-95aa-b5b7db41554d",
   "metadata": {},
   "source": [
    "## 3. decision_function"
   ]
  },
  {
   "cell_type": "markdown",
   "id": "bbfb84f9-4827-4bff-b60b-70f78439bdb5",
   "metadata": {},
   "source": [
    "(1) 二分类的decison_function\n",
    "\n",
    "二分类模型中，decision_function返回的数组形状等于样本个数，也就是一个样本返回一个decision_function值。并且，此时的decision_function_shape参数失效 ，因为只需要训练一个分类器就行了，就不存在是单挑还是群殴的问题了。在二分类的情况下，分类模型的decision_function返回结果的形状与样本数量相同，且返回结果的数值表示模型预测样本属于positive正样本的可信度。并且，二分类情况下classes_中的第一个标签代表是负样本，第二个标签代表正样本。"
   ]
  },
  {
   "cell_type": "markdown",
   "id": "b8c0c68d-0766-4f71-b204-2ed33ded66ab",
   "metadata": {},
   "source": [
    "(2)多分类的decision_function\n",
    "\n",
    "多分类模型中，decision_function返回的数组形状依据使用的模式是‘ovr’还是‘ovo’而分别返回n_classes个和n_classes * (n_classes - 1) / 2个数值。在ovr场景下，decision_function输出的最大值对应的正样本类别就是decision_function认为置信度最高的预测类别。"
   ]
  },
  {
   "cell_type": "code",
   "execution_count": null,
   "id": "fcdbd17d-77b6-4387-be7c-d4f8ca994644",
   "metadata": {},
   "outputs": [],
   "source": []
  },
  {
   "cell_type": "markdown",
   "id": "598aa467-aea7-4a51-ba81-b62a73862e90",
   "metadata": {},
   "source": [
    "通过上面讲的这些大概也能得出decision_function、predict_procaba、predict之间的联系了："
   ]
  },
  {
   "cell_type": "markdown",
   "id": "2c1b6a92-a994-4eaf-a7ca-3fadce590ce8",
   "metadata": {},
   "source": [
    "decision_function：输出样本距离各个分类器的分隔超平面的置信度，并由此可以推算出predict的预测结果\n",
    "\n",
    "predict_procaba：输出样本属于各个类别的概率值，并由此可以推算出predict的预测结果\n",
    "\n",
    "predict：输出样本属于具体类别的预测结果"
   ]
  },
  {
   "cell_type": "code",
   "execution_count": null,
   "id": "6dcae5de-d8b0-43f2-8b32-044ef23b8c29",
   "metadata": {},
   "outputs": [],
   "source": []
  }
 ],
 "metadata": {
  "kernelspec": {
   "display_name": "Python 3 (ipykernel)",
   "language": "python",
   "name": "python3"
  },
  "language_info": {
   "codemirror_mode": {
    "name": "ipython",
    "version": 3
   },
   "file_extension": ".py",
   "mimetype": "text/x-python",
   "name": "python",
   "nbconvert_exporter": "python",
   "pygments_lexer": "ipython3",
   "version": "3.9.13"
  }
 },
 "nbformat": 4,
 "nbformat_minor": 5
}
