{
 "cells": [
  {
   "cell_type": "markdown",
   "id": "25ba2ad1",
   "metadata": {},
   "source": [
    "# mglearn\n",
    "mglearn 是一个用于教学目的的小型 Python 库，由 Andreas C. Müller 和 Sarah Guido 为他们的书籍 \"Introduction to Machine Learning with Python\" 创建。这本书是一本介绍机器学习基础原理和实践的优秀教材。\n",
    "\n",
    "mglearn 为初学者提供了一个简单且直观的工具，用于可视化和理解机器学习算法的基本概念。它包含了许多用于生成示例数据集、绘制图形和展示算法行为的函数。\n",
    "\n",
    "以下是 mglearn 提供的一些主要功能：\n",
    "\n",
    "生成示例数据集：mglearn 包含了许多函数，可以用于生成用于演示和练习的示例数据集。例如，mglearn.datasets.make_forge() 可以生成一个简单的二分类数据集。\n",
    "\n",
    "绘制图形：mglearn 提供了用于绘制各种图形的函数，包括散点图、分类器的决策边界等。\n",
    "\n",
    "可视化算法行为：mglearn 允许你可视化机器学习算法的工作方式，例如可视化决策树的分裂点、可视化模型的预测等。\n",
    "\n",
    "简单的模型评估：mglearn 中的一些函数可以帮助你快速评估模型的性能，例如绘制学习曲线。\n",
    "\n"
   ]
  },
  {
   "cell_type": "code",
   "execution_count": null,
   "id": "367e3b17",
   "metadata": {},
   "outputs": [],
   "source": []
  },
  {
   "cell_type": "markdown",
   "id": "c44e7f9b",
   "metadata": {},
   "source": [
    "## 以下是一些 mglearn 中常用的函数："
   ]
  },
  {
   "cell_type": "markdown",
   "id": "414ea32d",
   "metadata": {},
   "source": [
    "### (1)make_forge():\n",
    "\n",
    "生成一个简单的合成数据集，用于分类示例。它包含两个特征和两个类别。   \n",
    "\n",
    "示例：   \n",
    "X, y = mglearn.datasets.make_forge()"
   ]
  },
  {
   "cell_type": "code",
   "execution_count": null,
   "id": "06d5c9ba",
   "metadata": {},
   "outputs": [],
   "source": []
  },
  {
   "cell_type": "code",
   "execution_count": null,
   "id": "7ff416d2",
   "metadata": {},
   "outputs": [],
   "source": []
  },
  {
   "cell_type": "markdown",
   "id": "4d3bcd56",
   "metadata": {},
   "source": [
    "### (2)discrete_scatter():\n",
    "用于绘制离散数据的散点图。\n",
    "\n",
    "示例：    \n",
    "mglearn.discrete_scatter(X[:, 0], X[:, 1], y)"
   ]
  },
  {
   "cell_type": "code",
   "execution_count": null,
   "id": "18c479c1",
   "metadata": {},
   "outputs": [],
   "source": []
  },
  {
   "cell_type": "markdown",
   "id": "fe667850",
   "metadata": {},
   "source": [
    "mglearn.discrete_scatter(x1, x2, y=None, markers=None, s=10, ax=None, labels=None, padding=None, alpha=1, c=None, markeredgewidth=None)\n",
    "\n",
    "\n",
    "\n",
    "参数解释如下：     \n",
    "x1: 第一个特征的值，通常是一个一维数组或列表。   \n",
    "\n",
    "x2: 第二个特征的值，通常也是一个一维数组或列表。    \n",
    "\n",
    "y: 类别标签，通常是一个一维数组或列表。如果提供了类别标签，函数将会按照类别对数据点进行分组，并使用不同的颜色和标记符号来表示不同的类别。    \n",
    "\n",
    "markers: 用于表示散点的标记符号，可以是一个字符串（如 'o'、'x'、's' 等）或一个包含标记符号的列表。    \n",
    "\n",
    "s: 散点的大小。    \n",
    "\n",
    "ax: 用于绘制散点图的坐标轴对象。如果未提供，函数会自动创建一个新的坐标轴。    \n",
    "\n",
    "labels: 用于标记每个类别的标签。    \n",
    "\n",
    "padding: 控制标签与数据点之间的距离。    \n",
    "\n",
    "alpha: 控制散点的透明度。    \n",
    "\n",
    "c: 用于指定颜色的参数，可以是一个颜色的名称（如 'red'、'blue' 等）或一个颜色值。    \n",
    "\n",
    "markeredgewidth: 标记的边缘宽度。    "
   ]
  },
  {
   "cell_type": "code",
   "execution_count": null,
   "id": "03425e10",
   "metadata": {},
   "outputs": [],
   "source": []
  },
  {
   "cell_type": "markdown",
   "id": "c2a806b4",
   "metadata": {},
   "source": [
    "mglearn.discrete_scatter 函数通常与 mglearn.plots.plot_2d_separator 一起使用，用于可视化分类模型的分类边界和数据点分布。"
   ]
  },
  {
   "cell_type": "code",
   "execution_count": null,
   "id": "ca5730da",
   "metadata": {},
   "outputs": [],
   "source": []
  },
  {
   "cell_type": "code",
   "execution_count": null,
   "id": "0061999b",
   "metadata": {},
   "outputs": [],
   "source": []
  },
  {
   "cell_type": "markdown",
   "id": "ad7b5c04",
   "metadata": {},
   "source": [
    "### (3)plot_2d_classification():\n",
    "用于绘制二维分类模型的决策边界。    \n",
    "\n",
    "示例：    \n",
    "mglearn.plots.plot_2d_classification(classifier, X, fill=True, alpha=0.3)"
   ]
  },
  {
   "cell_type": "code",
   "execution_count": null,
   "id": "c97c44c1",
   "metadata": {},
   "outputs": [],
   "source": []
  },
  {
   "cell_type": "markdown",
   "id": "fd61386b",
   "metadata": {},
   "source": [
    "mglearn.plots.plot_2d_separator(classifier, X, fill=False, ax=None, eps=None, alpha=1, cm=None, linewidth=None, threshold=None, linestyle='solid')    \n",
    "      \n",
    "\n",
    "参数解释如下：     \n",
    "（1）classifier: 训练好的分类器模型对象。这是一个必需的参数，表示要绘制的分类边界所基于的模型。     \n",
    "     \n",
    "（2）X: 包含特征的数据集，通常是一个二维数组。    \n",
    "     \n",
    "（3）fill: 一个布尔值，表示是否对分类边界内部进行填充。    \n",
    "\n",
    "（4） ax: 用于绘制分类边界的坐标轴对象。如果未提供，函数会自动创建一个新的坐标轴。    \n",
    "\n",
    "（5）eps: 控制分类边界的精度。较小的值会产生更精细的分类边界。    \n",
    "\n",
    "（6）alpha: 控制填充区域的透明度。   \n",
    "\n",
    "（7）cm: 用于填充区域的颜色映射。   \n",
    "\n",
    "（8）linewidth: 边界线的宽度。   \n",
    "\n",
    "（9）threshold: 一个阈值，用于决定哪些区域应该被填充。   \n",
    "\n",
    "（10）linestyle: 边界线的样式。    "
   ]
  },
  {
   "cell_type": "code",
   "execution_count": null,
   "id": "9b88551f",
   "metadata": {},
   "outputs": [],
   "source": []
  },
  {
   "cell_type": "code",
   "execution_count": null,
   "id": "ef276b2c",
   "metadata": {},
   "outputs": [],
   "source": []
  },
  {
   "cell_type": "markdown",
   "id": "23039074",
   "metadata": {},
   "source": [
    "### (4)plot_2d_separator():\n",
    "\n",
    "用于绘制二维数据的分隔线（如决策边界或回归直线）     \n",
    "\n",
    "示例：     \n",
    "mglearn.plots.plot_2d_separator(classifier, X, fill=True, eps=0.5, ax=ax, alpha=.4)"
   ]
  },
  {
   "cell_type": "code",
   "execution_count": null,
   "id": "a858a6d4",
   "metadata": {},
   "outputs": [],
   "source": []
  },
  {
   "cell_type": "markdown",
   "id": "68d85d6d",
   "metadata": {},
   "source": [
    "### (5)plot_tree_partition():\n",
    "\n",
    "用于绘制决策树的分割点和决策边界。     \n",
    "\n",
    "示例：    \n",
    "mglearn.plots.plot_tree_partition(X, y, tree, ax=axes[i])"
   ]
  },
  {
   "cell_type": "code",
   "execution_count": null,
   "id": "7c5c362c",
   "metadata": {},
   "outputs": [],
   "source": []
  },
  {
   "cell_type": "markdown",
   "id": "57ea7594",
   "metadata": {},
   "source": [
    "### (6)plot_knn_classification():\n",
    "用于绘制 k-近邻分类模型的决策边界。\n",
    "\n",
    "示例：    \n",
    "mglearn.plots.plot_knn_classification(n_neighbors=1)"
   ]
  },
  {
   "cell_type": "code",
   "execution_count": null,
   "id": "e8b1e84e",
   "metadata": {},
   "outputs": [],
   "source": []
  },
  {
   "cell_type": "markdown",
   "id": "f22f86a9",
   "metadata": {},
   "source": [
    "### (7)plot_linear_regression_wave():\n",
    "用于绘制线性回归模型拟合的结果。   \n",
    "\n",
    "示例：   \n",
    "mglearn.plots.plot_linear_regression_wave()"
   ]
  },
  {
   "cell_type": "code",
   "execution_count": null,
   "id": "e812ecdf",
   "metadata": {},
   "outputs": [],
   "source": []
  },
  {
   "cell_type": "markdown",
   "id": "1ffa46dd",
   "metadata": {},
   "source": [
    "### (8)plot_rbf_svm():\n",
    "\n",
    "用于绘制径向基函数核支持向量机的分类结果。\n",
    "\n",
    "示例：     \n",
    "mglearn.plots.plot_rbf_svm()"
   ]
  },
  {
   "cell_type": "code",
   "execution_count": null,
   "id": "0c88fae5",
   "metadata": {},
   "outputs": [],
   "source": []
  },
  {
   "cell_type": "markdown",
   "id": "c2a00815",
   "metadata": {},
   "source": [
    "### (9)plot_ridge():\n",
    "\n",
    "用于绘制岭回归的系数随 alpha 参数变化的情况。     \n",
    "\n",
    "示例：     \n",
    "mglearn.plots.plot_ridge()"
   ]
  },
  {
   "cell_type": "code",
   "execution_count": null,
   "id": "f0ce32d2",
   "metadata": {},
   "outputs": [],
   "source": []
  },
  {
   "cell_type": "markdown",
   "id": "16783ef7",
   "metadata": {},
   "source": [
    "### (10)plot_nmf_illustration():\n",
    "\n",
    "用于绘制非负矩阵分解 (NMF) 的示例。\n",
    "\n",
    "示例：    \n",
    "mglearn.plots.plot_nmf_illustration()"
   ]
  },
  {
   "cell_type": "code",
   "execution_count": null,
   "id": "b793c0cb",
   "metadata": {},
   "outputs": [],
   "source": []
  },
  {
   "cell_type": "markdown",
   "id": "7db7ccf7",
   "metadata": {},
   "source": [
    "## mglearn 库中有两个子模块：mglearn.plots 和 mglearn.tools。它们分别提供了不同类型的功能：\n",
    "\n",
    "### (1)mglearn.plots:\n",
    "\n",
    "这个子模块主要提供了用于可视化的函数，以帮助理解机器学习的基本概念和算法。它包括了绘制决策边界、可视化决策树、线性回归拟合等功能。例如，mglearn.plots.plot_2d_separator 可以用于绘制分类器的决策边界，mglearn.plots.plot_tree_partition 可以用于绘制决策树的分割点等。\n",
    "使用 mglearn.plots 子模块，您可以快速地可视化和比较不同模型的行为，以及了解算法在不同数据集上的表现。\n",
    "\n",
    "### (2)mglearn.tools:\n",
    "\n",
    "这个子模块包含了一些用于辅助的工具函数，可以在机器学习实验中使用。它们包括数据加载和转换工具，如 mglearn.tools.make_handcrafted_dataset 和 mglearn.tools.plot_2d_separator。\n",
    "mglearn.tools 子模块提供了一些方便的方法来生成示例数据集，或者进行一些基本的数据处理。\n",
    "\n",
    "如果您只需要用于可视化的函数，那么只需要导入 mglearn.plots 模块。如果您需要一些辅助工具函数，那么您可以导入 mglearn.tools 模块。选择导入哪个子模块取决于您的具体需求。"
   ]
  },
  {
   "cell_type": "code",
   "execution_count": null,
   "id": "550f1479",
   "metadata": {},
   "outputs": [],
   "source": []
  }
 ],
 "metadata": {
  "kernelspec": {
   "display_name": "Python 3 (ipykernel)",
   "language": "python",
   "name": "python3"
  },
  "language_info": {
   "codemirror_mode": {
    "name": "ipython",
    "version": 3
   },
   "file_extension": ".py",
   "mimetype": "text/x-python",
   "name": "python",
   "nbconvert_exporter": "python",
   "pygments_lexer": "ipython3",
   "version": "3.9.13"
  }
 },
 "nbformat": 4,
 "nbformat_minor": 5
}
