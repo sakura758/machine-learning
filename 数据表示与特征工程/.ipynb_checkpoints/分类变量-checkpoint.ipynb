{
 "cells": [
  {
   "cell_type": "markdown",
   "id": "ed6ddbf8-b928-43ba-84e9-9282e9d7f53d",
   "metadata": {},
   "source": [
    "# 分类变量"
   ]
  },
  {
   "cell_type": "markdown",
   "id": "1236741e-701e-4b53-85ea-001b7c2a9719",
   "metadata": {},
   "source": [
    "adult 数据集的任务是预测一名工人的收入是高于50 000 美元还是低于50 000 美元这个数据集的特征包括工人的年龄、雇用方式(独立经营、私营企业员工、政府职员等).教育水平、性别、每周工作时长、职业，等等。下表给出了该数据集中的前几个条目。"
   ]
  },
  {
   "cell_type": "code",
   "execution_count": 1,
   "id": "6315aecd-9580-40fc-be34-1cbbec1e46ff",
   "metadata": {},
   "outputs": [
    {
     "data": {
      "text/html": [
       "<div>\n",
       "<style scoped>\n",
       "    .dataframe tbody tr th:only-of-type {\n",
       "        vertical-align: middle;\n",
       "    }\n",
       "\n",
       "    .dataframe tbody tr th {\n",
       "        vertical-align: top;\n",
       "    }\n",
       "\n",
       "    .dataframe thead th {\n",
       "        text-align: right;\n",
       "    }\n",
       "</style>\n",
       "<table border=\"1\" class=\"dataframe\">\n",
       "  <thead>\n",
       "    <tr style=\"text-align: right;\">\n",
       "      <th></th>\n",
       "      <th>age</th>\n",
       "      <th>workclass</th>\n",
       "      <th>education</th>\n",
       "      <th>gender</th>\n",
       "      <th>hours-per-week</th>\n",
       "      <th>occupation</th>\n",
       "      <th>income</th>\n",
       "    </tr>\n",
       "  </thead>\n",
       "  <tbody>\n",
       "    <tr>\n",
       "      <th>0</th>\n",
       "      <td>39</td>\n",
       "      <td>State-gov</td>\n",
       "      <td>Bachelors</td>\n",
       "      <td>Male</td>\n",
       "      <td>40</td>\n",
       "      <td>Adm-clerical</td>\n",
       "      <td>&lt;=50K</td>\n",
       "    </tr>\n",
       "    <tr>\n",
       "      <th>1</th>\n",
       "      <td>50</td>\n",
       "      <td>Self-emp-not-inc</td>\n",
       "      <td>Bachelors</td>\n",
       "      <td>Male</td>\n",
       "      <td>13</td>\n",
       "      <td>Exec-managerial</td>\n",
       "      <td>&lt;=50K</td>\n",
       "    </tr>\n",
       "    <tr>\n",
       "      <th>2</th>\n",
       "      <td>38</td>\n",
       "      <td>Private</td>\n",
       "      <td>HS-grad</td>\n",
       "      <td>Male</td>\n",
       "      <td>40</td>\n",
       "      <td>Handlers-cleaners</td>\n",
       "      <td>&lt;=50K</td>\n",
       "    </tr>\n",
       "    <tr>\n",
       "      <th>3</th>\n",
       "      <td>53</td>\n",
       "      <td>Private</td>\n",
       "      <td>11th</td>\n",
       "      <td>Male</td>\n",
       "      <td>40</td>\n",
       "      <td>Handlers-cleaners</td>\n",
       "      <td>&lt;=50K</td>\n",
       "    </tr>\n",
       "    <tr>\n",
       "      <th>4</th>\n",
       "      <td>28</td>\n",
       "      <td>Private</td>\n",
       "      <td>Bachelors</td>\n",
       "      <td>Female</td>\n",
       "      <td>40</td>\n",
       "      <td>Prof-specialty</td>\n",
       "      <td>&lt;=50K</td>\n",
       "    </tr>\n",
       "    <tr>\n",
       "      <th>5</th>\n",
       "      <td>37</td>\n",
       "      <td>Private</td>\n",
       "      <td>Masters</td>\n",
       "      <td>Female</td>\n",
       "      <td>40</td>\n",
       "      <td>Exec-managerial</td>\n",
       "      <td>&lt;=50K</td>\n",
       "    </tr>\n",
       "    <tr>\n",
       "      <th>6</th>\n",
       "      <td>49</td>\n",
       "      <td>Private</td>\n",
       "      <td>9th</td>\n",
       "      <td>Female</td>\n",
       "      <td>16</td>\n",
       "      <td>Other-service</td>\n",
       "      <td>&lt;=50K</td>\n",
       "    </tr>\n",
       "    <tr>\n",
       "      <th>7</th>\n",
       "      <td>52</td>\n",
       "      <td>Self-emp-not-inc</td>\n",
       "      <td>HS-grad</td>\n",
       "      <td>Male</td>\n",
       "      <td>45</td>\n",
       "      <td>Exec-managerial</td>\n",
       "      <td>&gt;50K</td>\n",
       "    </tr>\n",
       "    <tr>\n",
       "      <th>8</th>\n",
       "      <td>31</td>\n",
       "      <td>Private</td>\n",
       "      <td>Masters</td>\n",
       "      <td>Female</td>\n",
       "      <td>50</td>\n",
       "      <td>Prof-specialty</td>\n",
       "      <td>&gt;50K</td>\n",
       "    </tr>\n",
       "    <tr>\n",
       "      <th>9</th>\n",
       "      <td>42</td>\n",
       "      <td>Private</td>\n",
       "      <td>Bachelors</td>\n",
       "      <td>Male</td>\n",
       "      <td>40</td>\n",
       "      <td>Exec-managerial</td>\n",
       "      <td>&gt;50K</td>\n",
       "    </tr>\n",
       "  </tbody>\n",
       "</table>\n",
       "</div>"
      ],
      "text/plain": [
       "   age          workclass   education   gender  hours-per-week  \\\n",
       "0   39          State-gov   Bachelors     Male              40   \n",
       "1   50   Self-emp-not-inc   Bachelors     Male              13   \n",
       "2   38            Private     HS-grad     Male              40   \n",
       "3   53            Private        11th     Male              40   \n",
       "4   28            Private   Bachelors   Female              40   \n",
       "5   37            Private     Masters   Female              40   \n",
       "6   49            Private         9th   Female              16   \n",
       "7   52   Self-emp-not-inc     HS-grad     Male              45   \n",
       "8   31            Private     Masters   Female              50   \n",
       "9   42            Private   Bachelors     Male              40   \n",
       "\n",
       "           occupation  income  \n",
       "0        Adm-clerical   <=50K  \n",
       "1     Exec-managerial   <=50K  \n",
       "2   Handlers-cleaners   <=50K  \n",
       "3   Handlers-cleaners   <=50K  \n",
       "4      Prof-specialty   <=50K  \n",
       "5     Exec-managerial   <=50K  \n",
       "6       Other-service   <=50K  \n",
       "7     Exec-managerial    >50K  \n",
       "8      Prof-specialty    >50K  \n",
       "9     Exec-managerial    >50K  "
      ]
     },
     "metadata": {},
     "output_type": "display_data"
    }
   ],
   "source": [
    "import os\n",
    "import pandas as pd\n",
    "import mglearn\n",
    "adult_path = os.path.join(mglearn.datasets.DATA_PATH, \"adult.data\")\n",
    "data = pd.read_csv(\n",
    "    adult_path, header=None, index_col=False,\n",
    "    names=['age', 'workclass', 'fnlwgt', 'education',  'education-num',\n",
    "           'marital-status', 'occupation', 'relationship', 'race', 'gender',\n",
    "           'capital-gain', 'capital-loss', 'hours-per-week', 'native-country',\n",
    "           'income'])\n",
    "# For illustration purposes, we only select some of the columns\n",
    "data = data[['age', 'workclass', 'education', 'gender', 'hours-per-week',\n",
    "             'occupation', 'income']]\n",
    "# IPython.display allows nice output formatting within the Jupyter notebook\n",
    "display(data.head(10))"
   ]
  },
  {
   "cell_type": "markdown",
   "id": "490b64bd-04b1-440f-8a84-60caebbc428a",
   "metadata": {},
   "source": [
    "这个任务属于分类任务，两个类别是收入 <=50k 和>50k。也可以预测具体收入，那样就变成了一个回归任务。但那样问题将变得更加困难，而理解 50K 的分界线本身也很有趣。"
   ]
  },
  {
   "cell_type": "markdown",
   "id": "a2b46eef-cdba-4d56-989f-08e78a9740c6",
   "metadata": {},
   "source": [
    "在这个数据集中，age(年龄)和hours-perweek (每周工作时长) 是连续特征，我们知道如何处理这种特征。但workclass (工作类型)、education (教育程度)、gender (性别)occupation (职业)都是分类特征。它们都来自一系列固定的可能取值 (而不是一个范围)，表示的是定性属性(而不是数量)。·"
   ]
  },
  {
   "cell_type": "markdown",
   "id": "52ec5267-fee4-4876-b62d-a63f8f0bbcff",
   "metadata": {},
   "source": [
    "首先，假设我们想要在这个数据上学习一个Logislie 回归分类器。我们在前面学过Logistic 回归利用下列公式进行预测，预测值为:"
   ]
  },
  {
   "cell_type": "markdown",
   "id": "aa37f0a5-301d-4db3-85a7-e6f9af4c4047",
   "metadata": {},
   "source": [
    "y = w[0] * x[0] + w[1] * x[1] + ... + w[p] * x[p] + b > 0"
   ]
  },
  {
   "cell_type": "markdown",
   "id": "f0a3ac5f-2472-48bd-a437-6ba43231af24",
   "metadata": {},
   "source": [
    "其中w门和b是从训练集中学到的系数， 是输入特征。当 是数字时这个公式才有意义，但如果x2]是“Masters\"或“Bachelors”的话，这个公式则没有意义。显然，在应用Logistic 回归时，我们需要换一种方式来表示数据。"
   ]
  },
  {
   "cell_type": "code",
   "execution_count": null,
   "id": "4a471302-1c78-4aa0-b0bc-31283ec22156",
   "metadata": {},
   "outputs": [],
   "source": []
  },
  {
   "cell_type": "code",
   "execution_count": null,
   "id": "62de6c8a-1ce0-49ef-b2a2-f8b53a8c4a5b",
   "metadata": {},
   "outputs": [],
   "source": []
  },
  {
   "cell_type": "markdown",
   "id": "6be429a9-4a4c-4684-95f4-37fe06c5f731",
   "metadata": {},
   "source": [
    "## 1. One-Hot编码（虚拟变量）"
   ]
  },
  {
   "cell_type": "markdown",
   "id": "c30bfe81-505e-43a8-9aab-dbc5f7603717",
   "metadata": {},
   "source": [
    "到目前为止，表示分类变量最常用的方法就是使用one-hot 编码 (one-hot-encoding)或N取一编码(one-out-of-Nencoding)，也叫虚拟变量 (dummy variable)。虚拟变量背后的思想是将一个分类变量替换为一个或多个新特征，新特征取值为0和1。对于线性二分类(以及 scikit-learn中其他所有模型)的公式而言，0和1这两个值是有意义的，我们可以像这样对每个类别引入一个新特征，从而表示任意数量的类别。"
   ]
  },
  {
   "cell_type": "markdown",
   "id": "ca80f8a8-5d46-4da7-885e-2e3a3bd8005e",
   "metadata": {},
   "source": [
    "比如说，workclass 特征的可能取值包括\"Government Employee”、\"Private Employee'\"Self Employed\"和\"Self Employed Incorporated\"。为了编码这4个可能的取值，我们创建了4个新特征，分别叫作\"Government Employee\"、\"Private Employee\"，\"SelfEmployed”和\"Self Employed Incorporated\"。如果一个人的workclass取某个值，那么对应的特征取值为1，其他特征均取值为0。因此，对每个数据点来说，4个新特征中只有个的取值为1。这就是它叫作 one-hot 编码或N取一编码的原因。"
   ]
  },
  {
   "attachments": {
    "491aa26c-6f1d-4e3c-b421-0d4a4950d899.png": {
     "image/png": "[encoded data removed]"
    }
   },
   "cell_type": "markdown",
   "id": "e32c0ec5-de84-4416-967a-5f07a2087755",
   "metadata": {},
   "source": [
    "![image.png](attachment:491aa26c-6f1d-4e3c-b421-0d4a4950d899.png)"
   ]
  },
  {
   "cell_type": "markdown",
   "id": "14f4b265-8b4d-4210-aecb-6e85ec284f4e",
   "metadata": {},
   "source": [
    "将数据转换为分类变量的one-hot 编码有两种方法:一种是使用 pandas，一种是使用scikit-learn。使用pandas 要稍微简单一些，所以选择这种方法。"
   ]
  },
  {
   "cell_type": "code",
   "execution_count": 2,
   "id": "31973ab2-1f48-4143-9032-37edf01d8cdc",
   "metadata": {},
   "outputs": [
    {
     "data": {
      "text/html": [
       "<div>\n",
       "<style scoped>\n",
       "    .dataframe tbody tr th:only-of-type {\n",
       "        vertical-align: middle;\n",
       "    }\n",
       "\n",
       "    .dataframe tbody tr th {\n",
       "        vertical-align: top;\n",
       "    }\n",
       "\n",
       "    .dataframe thead th {\n",
       "        text-align: right;\n",
       "    }\n",
       "</style>\n",
       "<table border=\"1\" class=\"dataframe\">\n",
       "  <thead>\n",
       "    <tr style=\"text-align: right;\">\n",
       "      <th></th>\n",
       "      <th>age</th>\n",
       "      <th>workclass</th>\n",
       "      <th>education</th>\n",
       "      <th>gender</th>\n",
       "      <th>hours-per-week</th>\n",
       "      <th>occupation</th>\n",
       "      <th>income</th>\n",
       "    </tr>\n",
       "  </thead>\n",
       "  <tbody>\n",
       "    <tr>\n",
       "      <th>0</th>\n",
       "      <td>39</td>\n",
       "      <td>State-gov</td>\n",
       "      <td>Bachelors</td>\n",
       "      <td>Male</td>\n",
       "      <td>40</td>\n",
       "      <td>Adm-clerical</td>\n",
       "      <td>&lt;=50K</td>\n",
       "    </tr>\n",
       "    <tr>\n",
       "      <th>1</th>\n",
       "      <td>50</td>\n",
       "      <td>Self-emp-not-inc</td>\n",
       "      <td>Bachelors</td>\n",
       "      <td>Male</td>\n",
       "      <td>13</td>\n",
       "      <td>Exec-managerial</td>\n",
       "      <td>&lt;=50K</td>\n",
       "    </tr>\n",
       "    <tr>\n",
       "      <th>2</th>\n",
       "      <td>38</td>\n",
       "      <td>Private</td>\n",
       "      <td>HS-grad</td>\n",
       "      <td>Male</td>\n",
       "      <td>40</td>\n",
       "      <td>Handlers-cleaners</td>\n",
       "      <td>&lt;=50K</td>\n",
       "    </tr>\n",
       "    <tr>\n",
       "      <th>3</th>\n",
       "      <td>53</td>\n",
       "      <td>Private</td>\n",
       "      <td>11th</td>\n",
       "      <td>Male</td>\n",
       "      <td>40</td>\n",
       "      <td>Handlers-cleaners</td>\n",
       "      <td>&lt;=50K</td>\n",
       "    </tr>\n",
       "    <tr>\n",
       "      <th>4</th>\n",
       "      <td>28</td>\n",
       "      <td>Private</td>\n",
       "      <td>Bachelors</td>\n",
       "      <td>Female</td>\n",
       "      <td>40</td>\n",
       "      <td>Prof-specialty</td>\n",
       "      <td>&lt;=50K</td>\n",
       "    </tr>\n",
       "  </tbody>\n",
       "</table>\n",
       "</div>"
      ],
      "text/plain": [
       "   age          workclass   education   gender  hours-per-week  \\\n",
       "0   39          State-gov   Bachelors     Male              40   \n",
       "1   50   Self-emp-not-inc   Bachelors     Male              13   \n",
       "2   38            Private     HS-grad     Male              40   \n",
       "3   53            Private        11th     Male              40   \n",
       "4   28            Private   Bachelors   Female              40   \n",
       "\n",
       "           occupation  income  \n",
       "0        Adm-clerical   <=50K  \n",
       "1     Exec-managerial   <=50K  \n",
       "2   Handlers-cleaners   <=50K  \n",
       "3   Handlers-cleaners   <=50K  \n",
       "4      Prof-specialty   <=50K  "
      ]
     },
     "metadata": {},
     "output_type": "display_data"
    }
   ],
   "source": [
    "import pandas as pd\n",
    "from IPython.display import display\n",
    "\n",
    "#文件中没有包含列名称的表头，因此我们传入header=None\n",
    "#然后在\"names\"中显式地提供列名称\n",
    "data = pd.read_csv(\"E:/clong/machine-learning/data/adult.data\", header=None, index_col=False, \n",
    "                   names=[\"age\", \"workclass\", \"fnlwgt\", \"education\", \"education-num\", \"marital-status\", \"occupation\", \"relationship\", \"race\", \"gender\", \"capital-gain\",\"capital-loss\",\"hours-per-week\", \"native-country\",\"income\"])\n",
    "#为了便于说明，我们只选了其中几列\n",
    "data = data[['age', 'workclass', 'education', 'gender', 'hours-per-week', 'occupation', 'income']]\n",
    "#IPython.display可以在Jupyter notebook中输出漂亮的格式\n",
    "display(data.head())"
   ]
  },
  {
   "cell_type": "code",
   "execution_count": null,
   "id": "a04baab0-baf5-4f55-8230-e3ffff06982c",
   "metadata": {},
   "outputs": [],
   "source": []
  },
  {
   "cell_type": "markdown",
   "id": "7958302a-2340-464f-bc55-8a287c6d504c",
   "metadata": {},
   "source": [
    "### (1)检查字符串编码的分类数据"
   ]
  },
  {
   "cell_type": "markdown",
   "id": "d6fad249-45ef-4c4f-91c9-9f10c0b13fdd",
   "metadata": {},
   "source": [
    "读取完这样的数据集之后，最好先检查每一列是否包含有意义的分类数据。在处理人工(比如网站用户)输入的数据时，可能没有固定的类别，拼写和大小写也存在差异，因此可能需要预处理。举个例子，有人可能将性别填为“male”(男性)，有人可能填为“man”(男人)，而我们希望能用同一个类别来表示这两种输人。检查列的内容有一个好方法，就是使用pandas Series (Series是DataFrame中单列对应的数据类型)的value_counts函数，以显示唯一值及其出现次数:"
   ]
  },
  {
   "cell_type": "code",
   "execution_count": 3,
   "id": "26173319-3e13-41fb-872a-1034f154a5c4",
   "metadata": {},
   "outputs": [
    {
     "data": {
      "text/plain": [
       "gender\n",
       " Male      21790\n",
       " Female    10771\n",
       "Name: count, dtype: int64"
      ]
     },
     "execution_count": 3,
     "metadata": {},
     "output_type": "execute_result"
    }
   ],
   "source": [
    "data.gender.value_counts()"
   ]
  },
  {
   "cell_type": "markdown",
   "id": "e1346d2e-6c3a-4907-867c-3552dc6b8fd9",
   "metadata": {},
   "source": [
    "可以看到，在这个数据集中性别刚好有两个值:Male和 Female，这说明数据格式已经很好，可以用one-hot 编码来表示。在实际的应用中，你应该查看并检查所有列的值。为简洁起见，这里我们将跳过这一步。"
   ]
  },
  {
   "cell_type": "markdown",
   "id": "0e2023b1-ae8a-494a-829f-b1a199d3b660",
   "metadata": {},
   "source": [
    "用pandas编码数据有一种非常简单的方法，就是使用get_dummies 函数。get_dummies函数自动变换所有具有对象类型 (比如字符串)的列或所有分类的列"
   ]
  },
  {
   "cell_type": "code",
   "execution_count": 4,
   "id": "bf7d691f-57ec-4c30-94c4-ae04377277d6",
   "metadata": {},
   "outputs": [
    {
     "name": "stdout",
     "output_type": "stream",
     "text": [
      "Original features:\n",
      " ['age', 'workclass', 'education', 'gender', 'hours-per-week', 'occupation', 'income'] \n",
      "\n",
      "Features after get_dummies:\n",
      " ['age', 'hours-per-week', 'workclass_ ?', 'workclass_ Federal-gov', 'workclass_ Local-gov', 'workclass_ Never-worked', 'workclass_ Private', 'workclass_ Self-emp-inc', 'workclass_ Self-emp-not-inc', 'workclass_ State-gov', 'workclass_ Without-pay', 'education_ 10th', 'education_ 11th', 'education_ 12th', 'education_ 1st-4th', 'education_ 5th-6th', 'education_ 7th-8th', 'education_ 9th', 'education_ Assoc-acdm', 'education_ Assoc-voc', 'education_ Bachelors', 'education_ Doctorate', 'education_ HS-grad', 'education_ Masters', 'education_ Preschool', 'education_ Prof-school', 'education_ Some-college', 'gender_ Female', 'gender_ Male', 'occupation_ ?', 'occupation_ Adm-clerical', 'occupation_ Armed-Forces', 'occupation_ Craft-repair', 'occupation_ Exec-managerial', 'occupation_ Farming-fishing', 'occupation_ Handlers-cleaners', 'occupation_ Machine-op-inspct', 'occupation_ Other-service', 'occupation_ Priv-house-serv', 'occupation_ Prof-specialty', 'occupation_ Protective-serv', 'occupation_ Sales', 'occupation_ Tech-support', 'occupation_ Transport-moving', 'income_ <=50K', 'income_ >50K']\n"
     ]
    }
   ],
   "source": [
    "print(\"Original features:\\n\", list(data.columns), \"\\n\")\n",
    "data_dummies = pd.get_dummies(data, dtype=int)\n",
    "print(\"Features after get_dummies:\\n\", list(data_dummies.columns))"
   ]
  },
  {
   "cell_type": "markdown",
   "id": "f8967867-ed72-4450-99a6-3417d9fc2308",
   "metadata": {},
   "source": [
    "你可以看到，连续特征 age 和hours-per-week 没有发生变化，而分类特征的每个可能取值都被扩展为一个新特征:"
   ]
  },
  {
   "cell_type": "code",
   "execution_count": 5,
   "id": "b04b84f9-6fc0-4cb9-b7d6-a349f600fb8d",
   "metadata": {},
   "outputs": [
    {
     "data": {
      "text/html": [
       "<div>\n",
       "<style scoped>\n",
       "    .dataframe tbody tr th:only-of-type {\n",
       "        vertical-align: middle;\n",
       "    }\n",
       "\n",
       "    .dataframe tbody tr th {\n",
       "        vertical-align: top;\n",
       "    }\n",
       "\n",
       "    .dataframe thead th {\n",
       "        text-align: right;\n",
       "    }\n",
       "</style>\n",
       "<table border=\"1\" class=\"dataframe\">\n",
       "  <thead>\n",
       "    <tr style=\"text-align: right;\">\n",
       "      <th></th>\n",
       "      <th>age</th>\n",
       "      <th>hours-per-week</th>\n",
       "      <th>workclass_ ?</th>\n",
       "      <th>workclass_ Federal-gov</th>\n",
       "      <th>workclass_ Local-gov</th>\n",
       "      <th>workclass_ Never-worked</th>\n",
       "      <th>workclass_ Private</th>\n",
       "      <th>workclass_ Self-emp-inc</th>\n",
       "      <th>workclass_ Self-emp-not-inc</th>\n",
       "      <th>workclass_ State-gov</th>\n",
       "      <th>...</th>\n",
       "      <th>occupation_ Machine-op-inspct</th>\n",
       "      <th>occupation_ Other-service</th>\n",
       "      <th>occupation_ Priv-house-serv</th>\n",
       "      <th>occupation_ Prof-specialty</th>\n",
       "      <th>occupation_ Protective-serv</th>\n",
       "      <th>occupation_ Sales</th>\n",
       "      <th>occupation_ Tech-support</th>\n",
       "      <th>occupation_ Transport-moving</th>\n",
       "      <th>income_ &lt;=50K</th>\n",
       "      <th>income_ &gt;50K</th>\n",
       "    </tr>\n",
       "  </thead>\n",
       "  <tbody>\n",
       "    <tr>\n",
       "      <th>0</th>\n",
       "      <td>39</td>\n",
       "      <td>40</td>\n",
       "      <td>0</td>\n",
       "      <td>0</td>\n",
       "      <td>0</td>\n",
       "      <td>0</td>\n",
       "      <td>0</td>\n",
       "      <td>0</td>\n",
       "      <td>0</td>\n",
       "      <td>1</td>\n",
       "      <td>...</td>\n",
       "      <td>0</td>\n",
       "      <td>0</td>\n",
       "      <td>0</td>\n",
       "      <td>0</td>\n",
       "      <td>0</td>\n",
       "      <td>0</td>\n",
       "      <td>0</td>\n",
       "      <td>0</td>\n",
       "      <td>1</td>\n",
       "      <td>0</td>\n",
       "    </tr>\n",
       "    <tr>\n",
       "      <th>1</th>\n",
       "      <td>50</td>\n",
       "      <td>13</td>\n",
       "      <td>0</td>\n",
       "      <td>0</td>\n",
       "      <td>0</td>\n",
       "      <td>0</td>\n",
       "      <td>0</td>\n",
       "      <td>0</td>\n",
       "      <td>1</td>\n",
       "      <td>0</td>\n",
       "      <td>...</td>\n",
       "      <td>0</td>\n",
       "      <td>0</td>\n",
       "      <td>0</td>\n",
       "      <td>0</td>\n",
       "      <td>0</td>\n",
       "      <td>0</td>\n",
       "      <td>0</td>\n",
       "      <td>0</td>\n",
       "      <td>1</td>\n",
       "      <td>0</td>\n",
       "    </tr>\n",
       "    <tr>\n",
       "      <th>2</th>\n",
       "      <td>38</td>\n",
       "      <td>40</td>\n",
       "      <td>0</td>\n",
       "      <td>0</td>\n",
       "      <td>0</td>\n",
       "      <td>0</td>\n",
       "      <td>1</td>\n",
       "      <td>0</td>\n",
       "      <td>0</td>\n",
       "      <td>0</td>\n",
       "      <td>...</td>\n",
       "      <td>0</td>\n",
       "      <td>0</td>\n",
       "      <td>0</td>\n",
       "      <td>0</td>\n",
       "      <td>0</td>\n",
       "      <td>0</td>\n",
       "      <td>0</td>\n",
       "      <td>0</td>\n",
       "      <td>1</td>\n",
       "      <td>0</td>\n",
       "    </tr>\n",
       "    <tr>\n",
       "      <th>3</th>\n",
       "      <td>53</td>\n",
       "      <td>40</td>\n",
       "      <td>0</td>\n",
       "      <td>0</td>\n",
       "      <td>0</td>\n",
       "      <td>0</td>\n",
       "      <td>1</td>\n",
       "      <td>0</td>\n",
       "      <td>0</td>\n",
       "      <td>0</td>\n",
       "      <td>...</td>\n",
       "      <td>0</td>\n",
       "      <td>0</td>\n",
       "      <td>0</td>\n",
       "      <td>0</td>\n",
       "      <td>0</td>\n",
       "      <td>0</td>\n",
       "      <td>0</td>\n",
       "      <td>0</td>\n",
       "      <td>1</td>\n",
       "      <td>0</td>\n",
       "    </tr>\n",
       "    <tr>\n",
       "      <th>4</th>\n",
       "      <td>28</td>\n",
       "      <td>40</td>\n",
       "      <td>0</td>\n",
       "      <td>0</td>\n",
       "      <td>0</td>\n",
       "      <td>0</td>\n",
       "      <td>1</td>\n",
       "      <td>0</td>\n",
       "      <td>0</td>\n",
       "      <td>0</td>\n",
       "      <td>...</td>\n",
       "      <td>0</td>\n",
       "      <td>0</td>\n",
       "      <td>0</td>\n",
       "      <td>1</td>\n",
       "      <td>0</td>\n",
       "      <td>0</td>\n",
       "      <td>0</td>\n",
       "      <td>0</td>\n",
       "      <td>1</td>\n",
       "      <td>0</td>\n",
       "    </tr>\n",
       "  </tbody>\n",
       "</table>\n",
       "<p>5 rows × 46 columns</p>\n",
       "</div>"
      ],
      "text/plain": [
       "   age  hours-per-week  workclass_ ?  workclass_ Federal-gov  \\\n",
       "0   39              40             0                       0   \n",
       "1   50              13             0                       0   \n",
       "2   38              40             0                       0   \n",
       "3   53              40             0                       0   \n",
       "4   28              40             0                       0   \n",
       "\n",
       "   workclass_ Local-gov  workclass_ Never-worked  workclass_ Private  \\\n",
       "0                     0                        0                   0   \n",
       "1                     0                        0                   0   \n",
       "2                     0                        0                   1   \n",
       "3                     0                        0                   1   \n",
       "4                     0                        0                   1   \n",
       "\n",
       "   workclass_ Self-emp-inc  workclass_ Self-emp-not-inc  workclass_ State-gov  \\\n",
       "0                        0                            0                     1   \n",
       "1                        0                            1                     0   \n",
       "2                        0                            0                     0   \n",
       "3                        0                            0                     0   \n",
       "4                        0                            0                     0   \n",
       "\n",
       "   ...  occupation_ Machine-op-inspct  occupation_ Other-service  \\\n",
       "0  ...                              0                          0   \n",
       "1  ...                              0                          0   \n",
       "2  ...                              0                          0   \n",
       "3  ...                              0                          0   \n",
       "4  ...                              0                          0   \n",
       "\n",
       "   occupation_ Priv-house-serv  occupation_ Prof-specialty  \\\n",
       "0                            0                           0   \n",
       "1                            0                           0   \n",
       "2                            0                           0   \n",
       "3                            0                           0   \n",
       "4                            0                           1   \n",
       "\n",
       "   occupation_ Protective-serv  occupation_ Sales  occupation_ Tech-support  \\\n",
       "0                            0                  0                         0   \n",
       "1                            0                  0                         0   \n",
       "2                            0                  0                         0   \n",
       "3                            0                  0                         0   \n",
       "4                            0                  0                         0   \n",
       "\n",
       "   occupation_ Transport-moving  income_ <=50K  income_ >50K  \n",
       "0                             0              1             0  \n",
       "1                             0              1             0  \n",
       "2                             0              1             0  \n",
       "3                             0              1             0  \n",
       "4                             0              1             0  \n",
       "\n",
       "[5 rows x 46 columns]"
      ]
     },
     "metadata": {},
     "output_type": "display_data"
    }
   ],
   "source": [
    "display(data_dummies.head())"
   ]
  },
  {
   "cell_type": "markdown",
   "id": "b82241ff-4cf0-4d37-aa08-62960bfc5211",
   "metadata": {},
   "source": [
    "下面我们可以使用 values 属性将data dummies数据框(DataFrame) 转换为NumPy数组然后在其上训练一个机器学习模型。在训练模型之前，注意要把目标变量(现在被编码为两个income列)从数据中分离出来。将输出变量或输出变量的一些导出属性包含在特征表示中，这是构建监督机器学习模型时一个非常常见的错误。"
   ]
  },
  {
   "cell_type": "markdown",
   "id": "50ea8d40-b4ad-4649-850c-34129b482d1d",
   "metadata": {},
   "source": [
    "在这个例子中，我们仅提取包含特征的列，也就是从age到occupation_ Transport-moving的所有列。这一范围包含所有特征，但不包含目标:"
   ]
  },
  {
   "cell_type": "code",
   "execution_count": 6,
   "id": "6ab32b02-043c-4c9c-866e-df88bb53f18e",
   "metadata": {},
   "outputs": [
    {
     "name": "stdout",
     "output_type": "stream",
     "text": [
      "X.shape: (32561, 44)  y.shape: (32561,)\n"
     ]
    }
   ],
   "source": [
    "features = data_dummies.loc[:, 'age':'occupation_ Transport-moving']\n",
    "# Extract NumPy arrays\n",
    "X = features.values\n",
    "y = data_dummies['income_ >50K'].values\n",
    "print(\"X.shape: {}  y.shape: {}\".format(X.shape, y.shape))"
   ]
  },
  {
   "cell_type": "code",
   "execution_count": null,
   "id": "386cdbae-4cac-40ba-a1b2-253f5007fea1",
   "metadata": {},
   "outputs": [],
   "source": []
  },
  {
   "cell_type": "markdown",
   "id": "28a0fa72-b8df-47c4-97ca-c27134f8ff15",
   "metadata": {},
   "source": [
    "现在数据的表示方式可以被 scikit-learn 处理，我们可以像之前一样继续下一步:"
   ]
  },
  {
   "cell_type": "code",
   "execution_count": 7,
   "id": "24e95199-8c9d-46fb-8ee0-71bbe21b941b",
   "metadata": {},
   "outputs": [
    {
     "name": "stdout",
     "output_type": "stream",
     "text": [
      "Test score: 0.81\n"
     ]
    },
    {
     "name": "stderr",
     "output_type": "stream",
     "text": [
      "D:\\python\\lib\\site-packages\\sklearn\\linear_model\\_logistic.py:458: ConvergenceWarning: lbfgs failed to converge (status=1):\n",
      "STOP: TOTAL NO. of ITERATIONS REACHED LIMIT.\n",
      "\n",
      "Increase the number of iterations (max_iter) or scale the data as shown in:\n",
      "    https://scikit-learn.org/stable/modules/preprocessing.html\n",
      "Please also refer to the documentation for alternative solver options:\n",
      "    https://scikit-learn.org/stable/modules/linear_model.html#logistic-regression\n",
      "  n_iter_i = _check_optimize_result(\n"
     ]
    }
   ],
   "source": [
    "from sklearn.linear_model import LogisticRegression\n",
    "from sklearn.model_selection import train_test_split\n",
    "X_train, X_test, y_train, y_test = train_test_split(X, y, random_state=0)\n",
    "logreg = LogisticRegression()\n",
    "logreg.fit(X_train, y_train)\n",
    "print(\"Test score: {:.2f}\".format(logreg.score(X_test, y_test)))"
   ]
  },
  {
   "cell_type": "code",
   "execution_count": null,
   "id": "6131b4d4-6eb2-44b2-8102-6de89337bbf9",
   "metadata": {},
   "outputs": [],
   "source": []
  },
  {
   "cell_type": "code",
   "execution_count": null,
   "id": "88404b50-381d-4287-9363-02454c511747",
   "metadata": {},
   "outputs": [],
   "source": []
  },
  {
   "cell_type": "markdown",
   "id": "cd771f91-e19e-4067-aa88-1a6451e2b634",
   "metadata": {},
   "source": [
    "## 2. 用数字编码分类变量"
   ]
  },
  {
   "cell_type": "markdown",
   "id": "a1ec0e1e-10a0-4839-9b0b-89e503fd97b4",
   "metadata": {},
   "source": [
    "在 adult 数据集的例子中，分类变量被编码为字符串。一方面，可能会有拼写错误，但另一方面，它明确地将一个变量标记为分类变量。无论是为了便于存储还是因为数据的收集方式，分类变量通常被编码为整数。例如，假设 adult 数据集中的人口普查数据是利用问卷收集的，workclass的回答被记录为0(在第一个框打勾)、1 (在第二个框打勾)、2(在第三个框打勾)，等等。现在该列包含数字0到8，而不是像“Private”这样的字符串。如果有人观察表示数据集的表格，很难一眼看出这个变量应该被视为连续变量还是分类变量。但是，如果知道这些数字表示的是就业状况，那么很明显它们是不同的状态，不应该用单个连续变量来建模。"
   ]
  },
  {
   "cell_type": "markdown",
   "id": "6b7979ed-57ce-488d-9f8f-6d9a3d9a3d3d",
   "metadata": {},
   "source": [
    "分类特征通常用整数进行编码。它们是数字并不意味着它们必须被视为连续特征。一个整数特征应该被视为连续的还是离散的 (one-hot 编码的)，有时并不明确。如果在被编码的语义之间没有顺序关系(比如 workclass的例子)，那么特征必须被视为离散特征。对于其他情况(比如五星评分)，哪种编码更好取决于具体的任务和数据，以及使用哪种机器学习算法。"
   ]
  },
  {
   "cell_type": "markdown",
   "id": "b1dc3cdf-b441-4a42-967f-344f94faa8e1",
   "metadata": {},
   "source": [
    "pandas的 get.dummies 函数将所有数字看作是连续的，不会为其创建虚拟变量。为了解决这个问题，你可以使用scikit-learn的 OneHotEncoder，指定哪些变量是连续的、哪些变量是离散的，你也可以将数据框中的数值列转换为字符串"
   ]
  },
  {
   "cell_type": "code",
   "execution_count": 8,
   "id": "4d10dde3-bd09-4642-9f38-ff22f68a027f",
   "metadata": {},
   "outputs": [
    {
     "data": {
      "text/html": [
       "<div>\n",
       "<style scoped>\n",
       "    .dataframe tbody tr th:only-of-type {\n",
       "        vertical-align: middle;\n",
       "    }\n",
       "\n",
       "    .dataframe tbody tr th {\n",
       "        vertical-align: top;\n",
       "    }\n",
       "\n",
       "    .dataframe thead th {\n",
       "        text-align: right;\n",
       "    }\n",
       "</style>\n",
       "<table border=\"1\" class=\"dataframe\">\n",
       "  <thead>\n",
       "    <tr style=\"text-align: right;\">\n",
       "      <th></th>\n",
       "      <th>Integer Feature</th>\n",
       "      <th>Categorical Feature</th>\n",
       "    </tr>\n",
       "  </thead>\n",
       "  <tbody>\n",
       "    <tr>\n",
       "      <th>0</th>\n",
       "      <td>0</td>\n",
       "      <td>socks</td>\n",
       "    </tr>\n",
       "    <tr>\n",
       "      <th>1</th>\n",
       "      <td>1</td>\n",
       "      <td>fox</td>\n",
       "    </tr>\n",
       "    <tr>\n",
       "      <th>2</th>\n",
       "      <td>2</td>\n",
       "      <td>socks</td>\n",
       "    </tr>\n",
       "    <tr>\n",
       "      <th>3</th>\n",
       "      <td>1</td>\n",
       "      <td>box</td>\n",
       "    </tr>\n",
       "  </tbody>\n",
       "</table>\n",
       "</div>"
      ],
      "text/plain": [
       "   Integer Feature Categorical Feature\n",
       "0                0               socks\n",
       "1                1                 fox\n",
       "2                2               socks\n",
       "3                1                 box"
      ]
     },
     "metadata": {},
     "output_type": "display_data"
    }
   ],
   "source": [
    "# 创建一个DataFrame, 包含一个整数特征和一个分类字符串特征\n",
    "demo_df = pd.DataFrame({'Integer Feature':[0, 1, 2, 1], \n",
    "                       'Categorical Feature':['socks', 'fox', 'socks', 'box']})\n",
    "display(demo_df)"
   ]
  },
  {
   "cell_type": "markdown",
   "id": "137b18c3-4a08-4ddb-b8c8-33dd013e65a9",
   "metadata": {},
   "source": [
    "使用 get_dummies 只会编码字符串特征，不会改变整数特征:"
   ]
  },
  {
   "cell_type": "code",
   "execution_count": 9,
   "id": "08d2f9aa-e8f9-4418-b47a-00607f7f130a",
   "metadata": {},
   "outputs": [
    {
     "data": {
      "text/html": [
       "<div>\n",
       "<style scoped>\n",
       "    .dataframe tbody tr th:only-of-type {\n",
       "        vertical-align: middle;\n",
       "    }\n",
       "\n",
       "    .dataframe tbody tr th {\n",
       "        vertical-align: top;\n",
       "    }\n",
       "\n",
       "    .dataframe thead th {\n",
       "        text-align: right;\n",
       "    }\n",
       "</style>\n",
       "<table border=\"1\" class=\"dataframe\">\n",
       "  <thead>\n",
       "    <tr style=\"text-align: right;\">\n",
       "      <th></th>\n",
       "      <th>Integer Feature</th>\n",
       "      <th>Categorical Feature_box</th>\n",
       "      <th>Categorical Feature_fox</th>\n",
       "      <th>Categorical Feature_socks</th>\n",
       "    </tr>\n",
       "  </thead>\n",
       "  <tbody>\n",
       "    <tr>\n",
       "      <th>0</th>\n",
       "      <td>0</td>\n",
       "      <td>False</td>\n",
       "      <td>False</td>\n",
       "      <td>True</td>\n",
       "    </tr>\n",
       "    <tr>\n",
       "      <th>1</th>\n",
       "      <td>1</td>\n",
       "      <td>False</td>\n",
       "      <td>True</td>\n",
       "      <td>False</td>\n",
       "    </tr>\n",
       "    <tr>\n",
       "      <th>2</th>\n",
       "      <td>2</td>\n",
       "      <td>False</td>\n",
       "      <td>False</td>\n",
       "      <td>True</td>\n",
       "    </tr>\n",
       "    <tr>\n",
       "      <th>3</th>\n",
       "      <td>1</td>\n",
       "      <td>True</td>\n",
       "      <td>False</td>\n",
       "      <td>False</td>\n",
       "    </tr>\n",
       "  </tbody>\n",
       "</table>\n",
       "</div>"
      ],
      "text/plain": [
       "   Integer Feature  Categorical Feature_box  Categorical Feature_fox  \\\n",
       "0                0                    False                    False   \n",
       "1                1                    False                     True   \n",
       "2                2                    False                    False   \n",
       "3                1                     True                    False   \n",
       "\n",
       "   Categorical Feature_socks  \n",
       "0                       True  \n",
       "1                      False  \n",
       "2                       True  \n",
       "3                      False  "
      ]
     },
     "execution_count": 9,
     "metadata": {},
     "output_type": "execute_result"
    }
   ],
   "source": [
    "pd.get_dummies(demo_df)"
   ]
  },
  {
   "cell_type": "markdown",
   "id": "6415c31a-3a67-4124-bc1a-2c0e1ebad4f7",
   "metadata": {},
   "source": [
    "想为“Integer Feature”这一列创建虚拟变量，可以使用columns 参数显式地给出想要编码的列。干是两个特征都会被当作分类特征处理。"
   ]
  },
  {
   "cell_type": "code",
   "execution_count": 10,
   "id": "feedde83-eb2e-47a6-9edd-4929bc3a573a",
   "metadata": {},
   "outputs": [
    {
     "data": {
      "text/html": [
       "<div>\n",
       "<style scoped>\n",
       "    .dataframe tbody tr th:only-of-type {\n",
       "        vertical-align: middle;\n",
       "    }\n",
       "\n",
       "    .dataframe tbody tr th {\n",
       "        vertical-align: top;\n",
       "    }\n",
       "\n",
       "    .dataframe thead th {\n",
       "        text-align: right;\n",
       "    }\n",
       "</style>\n",
       "<table border=\"1\" class=\"dataframe\">\n",
       "  <thead>\n",
       "    <tr style=\"text-align: right;\">\n",
       "      <th></th>\n",
       "      <th>Integer Feature_0</th>\n",
       "      <th>Integer Feature_1</th>\n",
       "      <th>Integer Feature_2</th>\n",
       "      <th>Categorical Feature_box</th>\n",
       "      <th>Categorical Feature_fox</th>\n",
       "      <th>Categorical Feature_socks</th>\n",
       "    </tr>\n",
       "  </thead>\n",
       "  <tbody>\n",
       "    <tr>\n",
       "      <th>0</th>\n",
       "      <td>1.0</td>\n",
       "      <td>0.0</td>\n",
       "      <td>0.0</td>\n",
       "      <td>0.0</td>\n",
       "      <td>0.0</td>\n",
       "      <td>1.0</td>\n",
       "    </tr>\n",
       "    <tr>\n",
       "      <th>1</th>\n",
       "      <td>0.0</td>\n",
       "      <td>1.0</td>\n",
       "      <td>0.0</td>\n",
       "      <td>0.0</td>\n",
       "      <td>1.0</td>\n",
       "      <td>0.0</td>\n",
       "    </tr>\n",
       "    <tr>\n",
       "      <th>2</th>\n",
       "      <td>0.0</td>\n",
       "      <td>0.0</td>\n",
       "      <td>1.0</td>\n",
       "      <td>0.0</td>\n",
       "      <td>0.0</td>\n",
       "      <td>1.0</td>\n",
       "    </tr>\n",
       "    <tr>\n",
       "      <th>3</th>\n",
       "      <td>0.0</td>\n",
       "      <td>1.0</td>\n",
       "      <td>0.0</td>\n",
       "      <td>1.0</td>\n",
       "      <td>0.0</td>\n",
       "      <td>0.0</td>\n",
       "    </tr>\n",
       "  </tbody>\n",
       "</table>\n",
       "</div>"
      ],
      "text/plain": [
       "   Integer Feature_0  Integer Feature_1  Integer Feature_2  \\\n",
       "0                1.0                0.0                0.0   \n",
       "1                0.0                1.0                0.0   \n",
       "2                0.0                0.0                1.0   \n",
       "3                0.0                1.0                0.0   \n",
       "\n",
       "   Categorical Feature_box  Categorical Feature_fox  Categorical Feature_socks  \n",
       "0                      0.0                      0.0                        1.0  \n",
       "1                      0.0                      1.0                        0.0  \n",
       "2                      0.0                      0.0                        1.0  \n",
       "3                      1.0                      0.0                        0.0  "
      ]
     },
     "metadata": {},
     "output_type": "display_data"
    }
   ],
   "source": [
    "demo_df['Integer Feature'] = demo_df['Integer Feature'].astype(str)\n",
    "display(pd.get_dummies(demo_df, columns=['Integer Feature', 'Categorical Feature'], dtype=float))"
   ]
  },
  {
   "cell_type": "code",
   "execution_count": null,
   "id": "eef16e6b-30bc-43b0-838a-e1557ef5bb36",
   "metadata": {},
   "outputs": [],
   "source": []
  }
 ],
 "metadata": {
  "kernelspec": {
   "display_name": "Python 3 (ipykernel)",
   "language": "python",
   "name": "python3"
  },
  "language_info": {
   "codemirror_mode": {
    "name": "ipython",
    "version": 3
   },
   "file_extension": ".py",
   "mimetype": "text/x-python",
   "name": "python",
   "nbconvert_exporter": "python",
   "pygments_lexer": "ipython3",
   "version": "3.9.13"
  }
 },
 "nbformat": 4,
 "nbformat_minor": 5
}
