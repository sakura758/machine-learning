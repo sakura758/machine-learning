{
 "cells": [
  {
   "cell_type": "markdown",
   "id": "f42aee2a-1384-477b-bc5e-aeeca55b0095",
   "metadata": {},
   "source": [
    "# 自动化特征选择"
   ]
  },
  {
   "cell_type": "markdown",
   "id": "574bf9a8-ad12-4eaa-a076-73eb0bb44dcf",
   "metadata": {},
   "source": [
    "有了这么多种创建新特征的方法，你可能会想要增大数据的维度，使其远大于原始特征的数量。但是，添加更多特征会使所有模型变得更加复杂，从而增大过拟合的可能性。在添加新特征或处理一般的高维数据集时，最好将特征的数量减少到只包含最有用的那些特征，并删除其余特征。这样会得到泛化能力更好、更简单的模型。但你如何判断每个特征的作用有多大呢?有三种基本的策略:**单变量统计** (univariate statistics)、**基于模型的选择**(model-based selection)和**迭代选择** (iterative selection)。我们将详细讨论这三种策略。所有这些方法都是监督方法，即它们需要目标值来拟合模型。这也就是说，我们需要将数据划分为训练集和测试集，并只在训练集上拟合特征选择"
   ]
  },
  {
   "cell_type": "code",
   "execution_count": null,
   "id": "3aa7a115-22c1-4fd9-9649-576f2e05655e",
   "metadata": {},
   "outputs": [],
   "source": []
  },
  {
   "cell_type": "markdown",
   "id": "24506f16-4b21-4c65-9283-9ad41c2009b5",
   "metadata": {},
   "source": [
    "## 单变量统计"
   ]
  },
  {
   "cell_type": "markdown",
   "id": "1c2e6a30-b0d1-472d-89e1-079bac9708a4",
   "metadata": {},
   "source": [
    "在单变量统计中，我们计算每个特征和目标值之间的关系是否存在统计显著性，然后选择具有最高置信度的特征。对于分类问题，这也被称为**方差分析** (analysis of variance,ANOVA)。这些测试的一个关键性质就是它们是**单变量的** (univariate)，即它们只单独考虑每个特征。因此，如果一个特征只有在与另一个特征合并时才具有信息量，那么这个特征将被舍弃。单变量测试的计算速度通常很快，并且不需要构建模型。另一方面，它们完全独立于你可能想要在特征选择之后应用的模型。"
   ]
  },
  {
   "cell_type": "markdown",
   "id": "a6e6f141-01d6-43d9-9e52-23e726419b1f",
   "metadata": {},
   "source": [
    "想要在scikit-learn 中使用单变量特征选择，你需要选择一项测试一对分类向题通常是f_classif(默认值)，对回归问题通常是 f_regression-然后基于测试中确定的p值来选择一种舍弃特征的方法。所有舍弃参数的方法都使用闽值来舍弃所有D值过大的特征(意味着它们不可能与目标值相关)。计算阙值的方法各有不同，最简单的是 SelectKBest和SelectPercentle，前者选择固定数量的k个特征，后者选择固定百分比的特征。我们将分类的特征选择应用于cancer 数据集。为了使任务更难一点，我们将向数据中添加一些没有信息量的噪声特征。我们期望特征选择能能够识别没有信息量的特征并删除它们:"
   ]
  },
  {
   "cell_type": "code",
   "execution_count": 1,
   "id": "5f3e5228-989c-4c50-aa88-f1ef488b42f9",
   "metadata": {},
   "outputs": [
    {
     "name": "stdout",
     "output_type": "stream",
     "text": [
      "X_train.shape: (284, 80)\n",
      "X_train_selected.shape: (284, 40)\n"
     ]
    }
   ],
   "source": [
    "from sklearn.datasets import load_breast_cancer\n",
    "from sklearn.feature_selection import SelectPercentile\n",
    "from sklearn.model_selection import train_test_split\n",
    "import numpy as np\n",
    "\n",
    "\n",
    "cancer = load_breast_cancer()\n",
    "\n",
    "# 获得确定性的随机函数\n",
    "rng = np.random.RandomState(42)\n",
    "noise = rng.normal(size = (len(cancer.data), 50))\n",
    "# 向数据中添加噪声\n",
    "# 前30个来自数据后50个是噪声\n",
    "X_w_noise = np.hstack([cancer.data, noise])\n",
    "\n",
    "X_train, X_test, y_train, y_test = train_test_split(X_w_noise, cancer.target, random_state=0, test_size=.5)\n",
    "# 使用f_classif（默认值）和 SelectPercentile 来选择50%的特征\n",
    "select = SelectPercentile(percentile=50)\n",
    "select.fit(X_train, y_train)\n",
    "\n",
    "# 对训练数据集进行变化\n",
    "X_train_selected = select.transform(X_train)\n",
    "\n",
    "np.set_printoptions(precision=3, suppress=True, floatmode='fixed')\n",
    "print(\"X_train.shape: {}\".format(X_train.shape))\n",
    "print(\"X_train_selected.shape: {}\".format(X_train_selected.shape))"
   ]
  },
  {
   "cell_type": "markdown",
   "id": "20e4ccd5-ad54-4225-8c46-6d2343eee9f5",
   "metadata": {},
   "source": [
    "如你所见，特征的数量从80减少到40 (原始特征数量的50%)。我们可以用get.support 方法来查看哪些特征被选中，它会返回所选特征的布尔遮罩(mask)"
   ]
  },
  {
   "cell_type": "code",
   "execution_count": 2,
   "id": "613b8d1c-80c9-4f42-9949-6410ff5c68b2",
   "metadata": {},
   "outputs": [
    {
     "data": {
      "text/plain": [
       "Text(0.5, 0, 'Sample index')"
      ]
     },
     "execution_count": 2,
     "metadata": {},
     "output_type": "execute_result"
    },
    {
     "data": {
      "image/png": "[encoded data removed]",
      "text/plain": [
       "<Figure size 1600x200 with 1 Axes>"
      ]
     },
     "metadata": {},
     "output_type": "display_data"
    }
   ],
   "source": [
    "# SelectPercentile选择的特征\n",
    "\n",
    "import matplotlib.pyplot as plt\n",
    "mask = select.get_support()\n",
    "mask\n",
    "# 将遮罩可视化，黑色为True，白色为Flase\n",
    "plt.matshow(mask.reshape(-1, 1).T, cmap='gray_r', aspect='auto',)\n",
    "plt.xlabel(\"Sample index\")\n"
   ]
  },
  {
   "cell_type": "markdown",
   "id": "9ccdd3bf-ae02-4a0d-a2de-fcc180fc1dd5",
   "metadata": {},
   "source": [
    "你可以从遮罩的可视化中看出，大多数所选择的特征都是原始特征，并且大多数噪声特征都已被删除。但原始特征的还原并不完美。我们来比较 Logistic 回归在所有特征上的性能与仅使用所选特征的性能:"
   ]
  },
  {
   "cell_type": "code",
   "execution_count": 3,
   "id": "80ccdd32-d4e4-4567-80e5-799f1da769a9",
   "metadata": {},
   "outputs": [
    {
     "name": "stdout",
     "output_type": "stream",
     "text": [
      "Score with all features: 0.930\n",
      "Score with only selected features: 0.937\n"
     ]
    },
    {
     "name": "stderr",
     "output_type": "stream",
     "text": [
      "D:\\python\\lib\\site-packages\\sklearn\\linear_model\\_logistic.py:458: ConvergenceWarning: lbfgs failed to converge (status=1):\n",
      "STOP: TOTAL NO. of ITERATIONS REACHED LIMIT.\n",
      "\n",
      "Increase the number of iterations (max_iter) or scale the data as shown in:\n",
      "    https://scikit-learn.org/stable/modules/preprocessing.html\n",
      "Please also refer to the documentation for alternative solver options:\n",
      "    https://scikit-learn.org/stable/modules/linear_model.html#logistic-regression\n",
      "  n_iter_i = _check_optimize_result(\n",
      "D:\\python\\lib\\site-packages\\sklearn\\linear_model\\_logistic.py:458: ConvergenceWarning: lbfgs failed to converge (status=1):\n",
      "STOP: TOTAL NO. of ITERATIONS REACHED LIMIT.\n",
      "\n",
      "Increase the number of iterations (max_iter) or scale the data as shown in:\n",
      "    https://scikit-learn.org/stable/modules/preprocessing.html\n",
      "Please also refer to the documentation for alternative solver options:\n",
      "    https://scikit-learn.org/stable/modules/linear_model.html#logistic-regression\n",
      "  n_iter_i = _check_optimize_result(\n"
     ]
    }
   ],
   "source": [
    "from sklearn.linear_model import LogisticRegression\n",
    "\n",
    "# 对数据进行变换\n",
    "from sklearn.linear_model import LogisticRegression\n",
    "\n",
    "# transform test data\n",
    "X_test_selected = select.transform(X_test)\n",
    "\n",
    "lr = LogisticRegression(max_iter=1000)\n",
    "lr.fit(X_train, y_train)\n",
    "print(\"Score with all features: {:.3f}\".format(lr.score(X_test, y_test)))\n",
    "lr.fit(X_train_selected, y_train)\n",
    "print(\"Score with only selected features: {:.3f}\".format(\n",
    "    lr.score(X_test_selected, y_test)))"
   ]
  },
  {
   "cell_type": "markdown",
   "id": "d9f14a1f-78a1-4cd4-9a31-a4d7f4cd4b91",
   "metadata": {},
   "source": [
    "在这个例子中，删除噪声特征可以提高性能，即使丢失了某些原始特征。这是一个非常简单的假想示例，在真实数据上的结果要更加复杂。不过，如果特征量太大以至于无法构建模型，或者你怀疑许多特征完全没有信息量，那么单变量特征选择还是非常有用的。"
   ]
  },
  {
   "cell_type": "code",
   "execution_count": null,
   "id": "69271e7c-02ed-4a05-bea3-2e64d27d28f9",
   "metadata": {},
   "outputs": [],
   "source": []
  },
  {
   "cell_type": "code",
   "execution_count": null,
   "id": "872ab213-84ce-448b-a23a-4069ed161b31",
   "metadata": {},
   "outputs": [],
   "source": []
  },
  {
   "cell_type": "markdown",
   "id": "83bad01b-37f2-4ac0-b995-4d02d9cd6647",
   "metadata": {},
   "source": [
    "## 基于模型的特征选择"
   ]
  },
  {
   "cell_type": "markdown",
   "id": "4da46279-f928-4e6d-92ab-63d7e573d6df",
   "metadata": {},
   "source": [
    "基于模型的特征选择使用一个监督机器学习模型来判断每个特征的重要性，并且仅保留最重要的特征。用于特征选择的监督模型不需要与用于最终监督建模的模型相同。特征选择模型需要为每个特征提供某种重要性度量，以便用这个度量对特征进行排序。决策树和基F决策树的模型提供了 feature importances 属性，可以直接编码每个特征的重要性。线性模型系数的绝对值也可以用于表示特征重要性。正如我们在第 2 章所见，L1 惩罚的线性模型学到的是稀疏系数，它只用到了特征的一个很小的子集。这可以被视为模型本身的一种特征选择形式，但也可以用作另一个模型选择特征的预处理步骤。与单变量选择不同.基于模型的选择同时考虑所有特征，因此可以获取交互项(如果模型能够获取它们的话)。要想使用基于模型的特征选择，我们需要使用 SelectFromModel变换器:"
   ]
  },
  {
   "cell_type": "code",
   "execution_count": 4,
   "id": "3def4e9d-cfb8-4ecd-b9b2-c805b2a638bc",
   "metadata": {},
   "outputs": [],
   "source": [
    "from sklearn.feature_selection import SelectFromModel\n",
    "from sklearn.ensemble import RandomForestClassifier\n",
    "# 中位数作为阈值，100棵树\n",
    "select = SelectFromModel(RandomForestClassifier(n_estimators=100, random_state=42), threshold=\"median\")"
   ]
  },
  {
   "cell_type": "markdown",
   "id": "bce84475-d3fb-4153-88b0-5794c5fdf748",
   "metadata": {},
   "source": [
    "SelectFromModel 类选出重要性度量 (由监督模型提供)大于给定闹值的所有特征。为了得到可以与单变量特征选择进行对比的结果，我们使用中位数作为阈值，这样就可以选择一坐特征。我们用包含 100 棵树的随机森林分类器来计算特征重要性。这是一个相当复杂的模型，也比单变量测试要强大得多。下面来实际拟合模型:"
   ]
  },
  {
   "cell_type": "code",
   "execution_count": 5,
   "id": "cd09f0ff-a304-4b0f-a611-20ecf18b9d08",
   "metadata": {},
   "outputs": [
    {
     "name": "stdout",
     "output_type": "stream",
     "text": [
      "X_train.shape: (284, 80)\n",
      "X_train_L1.shape: (284, 40)\n"
     ]
    }
   ],
   "source": [
    "select.fit(X_train, y_train)\n",
    "X_train_L1 = select.transform(X_train)\n",
    "print(\"X_train.shape: {}\".format(X_train.shape))\n",
    "print(\"X_train_L1.shape: {}\".format(X_train_L1.shape))"
   ]
  },
  {
   "cell_type": "markdown",
   "id": "395f9bae-a130-4119-b61c-ccea926805c4",
   "metadata": {},
   "source": [
    "再次查看选中的特征"
   ]
  },
  {
   "cell_type": "code",
   "execution_count": 6,
   "id": "382ae5ed-9974-451d-8a34-47fb5a69b060",
   "metadata": {},
   "outputs": [
    {
     "data": {
      "text/plain": [
       "Text(0.5, 0, 'Sample index')"
      ]
     },
     "execution_count": 6,
     "metadata": {},
     "output_type": "execute_result"
    },
    {
     "data": {
      "image/png": "[encoded data removed]",
      "text/plain": [
       "<Figure size 1600x200 with 1 Axes>"
      ]
     },
     "metadata": {},
     "output_type": "display_data"
    }
   ],
   "source": [
    "#使用RandomForestClassifier的 SelectFromModel选择的特征\n",
    "\n",
    "mask = select.get_support()\n",
    "# 将遮罩可视化---黑色为True, 白色为False\n",
    "# reshape(-1, 1) 用于将数组转换为一个列向量\n",
    "plt.matshow(mask.reshape(-1, 1).T, cmap='gray_r',aspect='auto')\n",
    "plt.xlabel(\"Sample index\")"
   ]
  },
  {
   "cell_type": "markdown",
   "id": "eb02c280-f25c-4017-baaa-a3d9cee3ea8d",
   "metadata": {},
   "source": [
    "这次，除了两个原始特征，其他原始特征都被选中。由于我们指定选择40 个特征，所以也选择了一些噪声特征。我们来看一下其性能:"
   ]
  },
  {
   "cell_type": "code",
   "execution_count": 7,
   "id": "b91dde3c-31e1-4a91-a6a8-c18e0ee00f39",
   "metadata": {},
   "outputs": [
    {
     "name": "stdout",
     "output_type": "stream",
     "text": [
      "Test score: 0.930\n"
     ]
    },
    {
     "name": "stderr",
     "output_type": "stream",
     "text": [
      "D:\\python\\lib\\site-packages\\sklearn\\linear_model\\_logistic.py:458: ConvergenceWarning: lbfgs failed to converge (status=1):\n",
      "STOP: TOTAL NO. of ITERATIONS REACHED LIMIT.\n",
      "\n",
      "Increase the number of iterations (max_iter) or scale the data as shown in:\n",
      "    https://scikit-learn.org/stable/modules/preprocessing.html\n",
      "Please also refer to the documentation for alternative solver options:\n",
      "    https://scikit-learn.org/stable/modules/linear_model.html#logistic-regression\n",
      "  n_iter_i = _check_optimize_result(\n"
     ]
    }
   ],
   "source": [
    "X_test_L1 = select.transform(X_test)\n",
    "score = LogisticRegression().fit(X_train_L1, y_train).score(X_test_L1, y_test)\n",
    "print(\"Test score: {:.3f}\".format(score))"
   ]
  },
  {
   "cell_type": "markdown",
   "id": "13e9a9b6-f3da-4146-9045-537b6318f385",
   "metadata": {},
   "source": [
    "利用更好的特征选择，性能也得到了提高"
   ]
  },
  {
   "cell_type": "code",
   "execution_count": null,
   "id": "1f7be051-156f-495a-be59-b5acfc7980e3",
   "metadata": {},
   "outputs": [],
   "source": []
  },
  {
   "cell_type": "code",
   "execution_count": null,
   "id": "06e161b8-ce92-42ba-bd3d-2b2cd3bee786",
   "metadata": {},
   "outputs": [],
   "source": []
  },
  {
   "cell_type": "markdown",
   "id": "76d08b5b-91cc-4fb6-a7bd-54c85226d594",
   "metadata": {},
   "source": [
    "## 迭代特征选择"
   ]
  },
  {
   "cell_type": "markdown",
   "id": "d54a35a5-3fe1-4fa9-9210-f757e95213ae",
   "metadata": {},
   "source": [
    "在单变量测试中，我们没有使用模型，而在基于模型的选择中，我们使用了单个模型来选择特征。在迭代特征选择中，将会构建一系列模型，每个模型都使用不同数量的特征。有两种基本方法:开始时没有特征，然后逐个添加特征，直到满足某个终止条件，或者从所有特征开始，然后逐个删除特征，直到满足某个终止条件。由于构建了一系列模型，所以这些方法的计算成本要比前面讨论过的方法更高。其中一种特殊方法是**递归特征消除**(recursive featureelimination，RFE)，它从所有特征开始构建模型，并根据模型舍弃最不重要的特征，然后使用除被舍弃特征之外的所有特征来构建一个新模型，如此继续，直到仅剩下预设数量的特征。为了让这种方法能够运行，用于选择的模型需要提供某种确定特征重要性的方法，正如基于模型的选择所做的那样。下面使用之前用过的同一个随机森林模型，得到的结果如下图所示:"
   ]
  },
  {
   "cell_type": "code",
   "execution_count": 8,
   "id": "2e87a047-165a-42f7-ac5e-17011afd714e",
   "metadata": {},
   "outputs": [],
   "source": [
    "from sklearn.feature_selection import RFE\n",
    "select = RFE(RandomForestClassifier(n_estimators=100, random_state=42), n_features_to_select=40)"
   ]
  },
  {
   "cell_type": "code",
   "execution_count": 9,
   "id": "9087fbc9-241d-4d68-b986-05e559b135dc",
   "metadata": {},
   "outputs": [
    {
     "data": {
      "text/plain": [
       "Text(0.5, 0, 'Sample index')"
      ]
     },
     "execution_count": 9,
     "metadata": {},
     "output_type": "execute_result"
    },
    {
     "data": {
      "image/png": "[encoded data removed]",
      "text/plain": [
       "<Figure size 1600x200 with 1 Axes>"
      ]
     },
     "metadata": {},
     "output_type": "display_data"
    }
   ],
   "source": [
    "# 使用随机森林分类器模型的递归特征消除选择的特征\n",
    "\n",
    "select.fit(X_train, y_train)\n",
    "mask = select.get_support()\n",
    "# 将遮罩可视化---黑色为True, 白色为False\n",
    "# reshape(-1, 1) 用于将数组转换为一个列向量\n",
    "plt.matshow(mask.reshape(-1, 1).T, cmap='gray_r',aspect='auto')\n",
    "plt.xlabel(\"Sample index\")"
   ]
  },
  {
   "cell_type": "markdown",
   "id": "8327060b-2282-439c-ac43-b66f114bf75a",
   "metadata": {},
   "source": [
    "与单变量选择和基于模型的选择相比，迭代特征选择的结果更好，但仍然漏掉了一个特征。运行上述代码需要的时间也比基于模型的选择长得多，因为对一个随机森林模型训练了40次，每运行一次删除一个特征。我们来测试一下使用RFE 做特征选择时 Logistic回归模型的精度:"
   ]
  },
  {
   "cell_type": "code",
   "execution_count": 10,
   "id": "c7db3d9a-039c-4d2f-9fe5-e536b80812a7",
   "metadata": {},
   "outputs": [
    {
     "name": "stdout",
     "output_type": "stream",
     "text": [
      "Test score: 0.930\n"
     ]
    },
    {
     "name": "stderr",
     "output_type": "stream",
     "text": [
      "D:\\python\\lib\\site-packages\\sklearn\\linear_model\\_logistic.py:458: ConvergenceWarning: lbfgs failed to converge (status=1):\n",
      "STOP: TOTAL NO. of ITERATIONS REACHED LIMIT.\n",
      "\n",
      "Increase the number of iterations (max_iter) or scale the data as shown in:\n",
      "    https://scikit-learn.org/stable/modules/preprocessing.html\n",
      "Please also refer to the documentation for alternative solver options:\n",
      "    https://scikit-learn.org/stable/modules/linear_model.html#logistic-regression\n",
      "  n_iter_i = _check_optimize_result(\n"
     ]
    }
   ],
   "source": [
    "X_train_rfe = select.transform(X_train)\n",
    "X_test_rfe = select.transform(X_test)\n",
    "\n",
    "score = LogisticRegression().fit(X_train_rfe, y_train).score(X_test_rfe, y_test)\n",
    "print(\"Test score: {:.3f}\".format(score))"
   ]
  },
  {
   "cell_type": "markdown",
   "id": "8efd8c3b-43a8-48ba-b615-1404107170fd",
   "metadata": {},
   "source": [
    "还可以利用在RFE内使用的模型来进行预测。这仅使用被选中的特征集"
   ]
  },
  {
   "cell_type": "code",
   "execution_count": 11,
   "id": "a2a4d35a-d451-4ab0-8384-2d9dd4fbee3e",
   "metadata": {},
   "outputs": [
    {
     "name": "stdout",
     "output_type": "stream",
     "text": [
      "Test score: 0.951\n"
     ]
    }
   ],
   "source": [
    "print(\"Test score: {:.3f}\".format(select.score(X_test, y_test)))"
   ]
  },
  {
   "cell_type": "markdown",
   "id": "a17af2ba-3cf2-4cdd-9fd5-8a95f9396db4",
   "metadata": {},
   "source": [
    "这里，在RFE 内部使用的随机森林的性能，与在所选特征上训练一个Logistic 回归模型得到的性能相同。换句话说，只要我们选择了正确的特征，线性模型的表现就与随机森林一样好。"
   ]
  },
  {
   "cell_type": "markdown",
   "id": "b84c33cb-27cb-4028-82a9-3fc18d535ceb",
   "metadata": {},
   "source": [
    "如果你不确定何时选择使用哪些特征作为机器学习算法的输入，那么自动化特征选择可能特别有用。它还有助于减少所需要的特征数量，加快预测速度，或允许可解释性更强的模型。在大多数现实情况下，使用特征选择不太可能大幅提升性能，但它仍是特征工程工具箱中一个非常有价值的工具。"
   ]
  },
  {
   "cell_type": "code",
   "execution_count": null,
   "id": "476c51a6-6713-4749-a574-5d507c75a2c7",
   "metadata": {},
   "outputs": [],
   "source": [
    "    "
   ]
  }
 ],
 "metadata": {
  "kernelspec": {
   "display_name": "Python 3 (ipykernel)",
   "language": "python",
   "name": "python3"
  },
  "language_info": {
   "codemirror_mode": {
    "name": "ipython",
    "version": 3
   },
   "file_extension": ".py",
   "mimetype": "text/x-python",
   "name": "python",
   "nbconvert_exporter": "python",
   "pygments_lexer": "ipython3",
   "version": "3.9.13"
  }
 },
 "nbformat": 4,
 "nbformat_minor": 5
}
