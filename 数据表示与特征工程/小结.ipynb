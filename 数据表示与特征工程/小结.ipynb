{
 "cells": [
  {
   "cell_type": "markdown",
   "id": "76af9ef8-86da-4a00-91e9-e65fa3823faa",
   "metadata": {},
   "source": [
    "# 小结与展望"
   ]
  },
  {
   "cell_type": "markdown",
   "id": "74295414-30f4-4f20-98f4-1763a30c4f78",
   "metadata": {},
   "source": [
    "本章讨论了如何处理不同的数据类型 (特别是分类变量)。我们强调了使用适合机器学习算法的数据表示方式的重要性，例如 one-hot 编码过的分类变量。还讨论了通过特征工程生成新特征的重要性，以及利用专家知识从数据中创建导出特征的可能性。特别是线性模型，可能会从分箱、添加多项式和交互项而生成的新特征中大大受益。对于更加复杂的非线性模型(比如随机森林和 SVM)，在无需显式扩展特征空间的前提下就可以学习更加复杂的任务。在实践中，所使用的特征 (以及特征与方法之间的匹配)通常是使机器学习方法表现良好的最重要的因素。"
   ]
  },
  {
   "cell_type": "code",
   "execution_count": null,
   "id": "9a310b4d-b4b4-4d87-8973-6a7464d1e003",
   "metadata": {},
   "outputs": [],
   "source": []
  }
 ],
 "metadata": {
  "kernelspec": {
   "display_name": "Python 3 (ipykernel)",
   "language": "python",
   "name": "python3"
  },
  "language_info": {
   "codemirror_mode": {
    "name": "ipython",
    "version": 3
   },
   "file_extension": ".py",
   "mimetype": "text/x-python",
   "name": "python",
   "nbconvert_exporter": "python",
   "pygments_lexer": "ipython3",
   "version": "3.9.13"
  }
 },
 "nbformat": 4,
 "nbformat_minor": 5
}
